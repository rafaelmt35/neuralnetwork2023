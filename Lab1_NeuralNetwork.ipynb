{
  "nbformat": 4,
  "nbformat_minor": 0,
  "metadata": {
    "colab": {
      "provenance": [],
      "toc_visible": true,
      "authorship_tag": "ABX9TyN4EsW7/R1Lirlq9r+KBSu2",
      "include_colab_link": true
    },
    "kernelspec": {
      "name": "python3",
      "display_name": "Python 3"
    },
    "language_info": {
      "name": "python"
    }
  },
  "cells": [
    {
      "cell_type": "markdown",
      "metadata": {
        "id": "view-in-github",
        "colab_type": "text"
      },
      "source": [
        "<a href=\"https://colab.research.google.com/github/rafaelmt35/neuralnetwork2023/blob/main/Lab1_NeuralNetwork.ipynb\" target=\"_parent\"><img src=\"https://colab.research.google.com/assets/colab-badge.svg\" alt=\"Open In Colab\"/></a>"
      ]
    },
    {
      "cell_type": "markdown",
      "source": [
        "# **Импорт**"
      ],
      "metadata": {
        "id": "cvB0ZQxywGtR"
      }
    },
    {
      "cell_type": "code",
      "source": [
        "import numpy as np\n",
        "import pandas as pd\n",
        "import tensorflow as tf\n",
        "import matplotlib.pyplot as plt\n",
        "from sklearn.svm import SVC\n",
        "from sklearn.tree import DecisionTreeClassifier\n",
        "from tensorflow.keras.utils import to_categorical\n",
        "from sklearn.ensemble import RandomForestClassifier\n",
        "from sklearn.linear_model import LogisticRegression\n",
        "from sklearn.model_selection import train_test_split\n",
        "from sklearn.preprocessing import LabelBinarizer, LabelEncoder, MinMaxScaler\n",
        "from sklearn.metrics import accuracy_score, precision_score, recall_score, roc_auc_score, RocCurveDisplay, mean_squared_error, mean_absolute_error, r2_score"
      ],
      "metadata": {
        "id": "Uhn8LW8bjTr5"
      },
      "execution_count": 1,
      "outputs": []
    },
    {
      "cell_type": "code",
      "source": [
        "from google.colab import drive\n",
        "drive.mount('/content/gdrive')"
      ],
      "metadata": {
        "id": "w_XB6mfjwDEn",
        "colab": {
          "base_uri": "https://localhost:8080/"
        },
        "outputId": "8f0588c2-947f-42a2-a282-de7fbae7f686"
      },
      "execution_count": 2,
      "outputs": [
        {
          "output_type": "stream",
          "name": "stdout",
          "text": [
            "Mounted at /content/gdrive\n"
          ]
        }
      ]
    },
    {
      "cell_type": "markdown",
      "source": [
        "# **Бинарный Классификатор**"
      ],
      "metadata": {
        "id": "-HrDFnq8rf16"
      }
    },
    {
      "cell_type": "code",
      "source": [
        "data = pd.read_csv(\"/content/gdrive/My Drive/Colab Notebooks/Neural Network/diabetes_012_health_indicators_BRFSS2015.csv\",sep=',')\n",
        "data.head()"
      ],
      "metadata": {
        "colab": {
          "base_uri": "https://localhost:8080/",
          "height": 255
        },
        "id": "viJqdE4ekDI2",
        "outputId": "376961a1-b060-43e5-d4a5-1ab726759ab0"
      },
      "execution_count": null,
      "outputs": [
        {
          "output_type": "execute_result",
          "data": {
            "text/plain": [
              "   Diabetes_012  HighBP  HighChol  CholCheck   BMI  Smoker  Stroke  \\\n",
              "0           0.0     1.0       1.0        1.0  40.0     1.0     0.0   \n",
              "1           0.0     0.0       0.0        0.0  25.0     1.0     0.0   \n",
              "2           0.0     1.0       1.0        1.0  28.0     0.0     0.0   \n",
              "3           0.0     1.0       0.0        1.0  27.0     0.0     0.0   \n",
              "4           0.0     1.0       1.0        1.0  24.0     0.0     0.0   \n",
              "\n",
              "   HeartDiseaseorAttack  PhysActivity  Fruits  ...  AnyHealthcare  \\\n",
              "0                   0.0           0.0     0.0  ...            1.0   \n",
              "1                   0.0           1.0     0.0  ...            0.0   \n",
              "2                   0.0           0.0     1.0  ...            1.0   \n",
              "3                   0.0           1.0     1.0  ...            1.0   \n",
              "4                   0.0           1.0     1.0  ...            1.0   \n",
              "\n",
              "   NoDocbcCost  GenHlth  MentHlth  PhysHlth  DiffWalk  Sex   Age  Education  \\\n",
              "0          0.0      5.0      18.0      15.0       1.0  0.0   9.0        4.0   \n",
              "1          1.0      3.0       0.0       0.0       0.0  0.0   7.0        6.0   \n",
              "2          1.0      5.0      30.0      30.0       1.0  0.0   9.0        4.0   \n",
              "3          0.0      2.0       0.0       0.0       0.0  0.0  11.0        3.0   \n",
              "4          0.0      2.0       3.0       0.0       0.0  0.0  11.0        5.0   \n",
              "\n",
              "   Income  \n",
              "0     3.0  \n",
              "1     1.0  \n",
              "2     8.0  \n",
              "3     6.0  \n",
              "4     4.0  \n",
              "\n",
              "[5 rows x 22 columns]"
            ],
            "text/html": [
              "\n",
              "  <div id=\"df-c2a2f07d-addf-467b-9d18-714b93d48c3f\" class=\"colab-df-container\">\n",
              "    <div>\n",
              "<style scoped>\n",
              "    .dataframe tbody tr th:only-of-type {\n",
              "        vertical-align: middle;\n",
              "    }\n",
              "\n",
              "    .dataframe tbody tr th {\n",
              "        vertical-align: top;\n",
              "    }\n",
              "\n",
              "    .dataframe thead th {\n",
              "        text-align: right;\n",
              "    }\n",
              "</style>\n",
              "<table border=\"1\" class=\"dataframe\">\n",
              "  <thead>\n",
              "    <tr style=\"text-align: right;\">\n",
              "      <th></th>\n",
              "      <th>Diabetes_012</th>\n",
              "      <th>HighBP</th>\n",
              "      <th>HighChol</th>\n",
              "      <th>CholCheck</th>\n",
              "      <th>BMI</th>\n",
              "      <th>Smoker</th>\n",
              "      <th>Stroke</th>\n",
              "      <th>HeartDiseaseorAttack</th>\n",
              "      <th>PhysActivity</th>\n",
              "      <th>Fruits</th>\n",
              "      <th>...</th>\n",
              "      <th>AnyHealthcare</th>\n",
              "      <th>NoDocbcCost</th>\n",
              "      <th>GenHlth</th>\n",
              "      <th>MentHlth</th>\n",
              "      <th>PhysHlth</th>\n",
              "      <th>DiffWalk</th>\n",
              "      <th>Sex</th>\n",
              "      <th>Age</th>\n",
              "      <th>Education</th>\n",
              "      <th>Income</th>\n",
              "    </tr>\n",
              "  </thead>\n",
              "  <tbody>\n",
              "    <tr>\n",
              "      <th>0</th>\n",
              "      <td>0.0</td>\n",
              "      <td>1.0</td>\n",
              "      <td>1.0</td>\n",
              "      <td>1.0</td>\n",
              "      <td>40.0</td>\n",
              "      <td>1.0</td>\n",
              "      <td>0.0</td>\n",
              "      <td>0.0</td>\n",
              "      <td>0.0</td>\n",
              "      <td>0.0</td>\n",
              "      <td>...</td>\n",
              "      <td>1.0</td>\n",
              "      <td>0.0</td>\n",
              "      <td>5.0</td>\n",
              "      <td>18.0</td>\n",
              "      <td>15.0</td>\n",
              "      <td>1.0</td>\n",
              "      <td>0.0</td>\n",
              "      <td>9.0</td>\n",
              "      <td>4.0</td>\n",
              "      <td>3.0</td>\n",
              "    </tr>\n",
              "    <tr>\n",
              "      <th>1</th>\n",
              "      <td>0.0</td>\n",
              "      <td>0.0</td>\n",
              "      <td>0.0</td>\n",
              "      <td>0.0</td>\n",
              "      <td>25.0</td>\n",
              "      <td>1.0</td>\n",
              "      <td>0.0</td>\n",
              "      <td>0.0</td>\n",
              "      <td>1.0</td>\n",
              "      <td>0.0</td>\n",
              "      <td>...</td>\n",
              "      <td>0.0</td>\n",
              "      <td>1.0</td>\n",
              "      <td>3.0</td>\n",
              "      <td>0.0</td>\n",
              "      <td>0.0</td>\n",
              "      <td>0.0</td>\n",
              "      <td>0.0</td>\n",
              "      <td>7.0</td>\n",
              "      <td>6.0</td>\n",
              "      <td>1.0</td>\n",
              "    </tr>\n",
              "    <tr>\n",
              "      <th>2</th>\n",
              "      <td>0.0</td>\n",
              "      <td>1.0</td>\n",
              "      <td>1.0</td>\n",
              "      <td>1.0</td>\n",
              "      <td>28.0</td>\n",
              "      <td>0.0</td>\n",
              "      <td>0.0</td>\n",
              "      <td>0.0</td>\n",
              "      <td>0.0</td>\n",
              "      <td>1.0</td>\n",
              "      <td>...</td>\n",
              "      <td>1.0</td>\n",
              "      <td>1.0</td>\n",
              "      <td>5.0</td>\n",
              "      <td>30.0</td>\n",
              "      <td>30.0</td>\n",
              "      <td>1.0</td>\n",
              "      <td>0.0</td>\n",
              "      <td>9.0</td>\n",
              "      <td>4.0</td>\n",
              "      <td>8.0</td>\n",
              "    </tr>\n",
              "    <tr>\n",
              "      <th>3</th>\n",
              "      <td>0.0</td>\n",
              "      <td>1.0</td>\n",
              "      <td>0.0</td>\n",
              "      <td>1.0</td>\n",
              "      <td>27.0</td>\n",
              "      <td>0.0</td>\n",
              "      <td>0.0</td>\n",
              "      <td>0.0</td>\n",
              "      <td>1.0</td>\n",
              "      <td>1.0</td>\n",
              "      <td>...</td>\n",
              "      <td>1.0</td>\n",
              "      <td>0.0</td>\n",
              "      <td>2.0</td>\n",
              "      <td>0.0</td>\n",
              "      <td>0.0</td>\n",
              "      <td>0.0</td>\n",
              "      <td>0.0</td>\n",
              "      <td>11.0</td>\n",
              "      <td>3.0</td>\n",
              "      <td>6.0</td>\n",
              "    </tr>\n",
              "    <tr>\n",
              "      <th>4</th>\n",
              "      <td>0.0</td>\n",
              "      <td>1.0</td>\n",
              "      <td>1.0</td>\n",
              "      <td>1.0</td>\n",
              "      <td>24.0</td>\n",
              "      <td>0.0</td>\n",
              "      <td>0.0</td>\n",
              "      <td>0.0</td>\n",
              "      <td>1.0</td>\n",
              "      <td>1.0</td>\n",
              "      <td>...</td>\n",
              "      <td>1.0</td>\n",
              "      <td>0.0</td>\n",
              "      <td>2.0</td>\n",
              "      <td>3.0</td>\n",
              "      <td>0.0</td>\n",
              "      <td>0.0</td>\n",
              "      <td>0.0</td>\n",
              "      <td>11.0</td>\n",
              "      <td>5.0</td>\n",
              "      <td>4.0</td>\n",
              "    </tr>\n",
              "  </tbody>\n",
              "</table>\n",
              "<p>5 rows × 22 columns</p>\n",
              "</div>\n",
              "    <div class=\"colab-df-buttons\">\n",
              "\n",
              "  <div class=\"colab-df-container\">\n",
              "    <button class=\"colab-df-convert\" onclick=\"convertToInteractive('df-c2a2f07d-addf-467b-9d18-714b93d48c3f')\"\n",
              "            title=\"Convert this dataframe to an interactive table.\"\n",
              "            style=\"display:none;\">\n",
              "\n",
              "  <svg xmlns=\"http://www.w3.org/2000/svg\" height=\"24px\" viewBox=\"0 -960 960 960\">\n",
              "    <path d=\"M120-120v-720h720v720H120Zm60-500h600v-160H180v160Zm220 220h160v-160H400v160Zm0 220h160v-160H400v160ZM180-400h160v-160H180v160Zm440 0h160v-160H620v160ZM180-180h160v-160H180v160Zm440 0h160v-160H620v160Z\"/>\n",
              "  </svg>\n",
              "    </button>\n",
              "\n",
              "  <style>\n",
              "    .colab-df-container {\n",
              "      display:flex;\n",
              "      gap: 12px;\n",
              "    }\n",
              "\n",
              "    .colab-df-convert {\n",
              "      background-color: #E8F0FE;\n",
              "      border: none;\n",
              "      border-radius: 50%;\n",
              "      cursor: pointer;\n",
              "      display: none;\n",
              "      fill: #1967D2;\n",
              "      height: 32px;\n",
              "      padding: 0 0 0 0;\n",
              "      width: 32px;\n",
              "    }\n",
              "\n",
              "    .colab-df-convert:hover {\n",
              "      background-color: #E2EBFA;\n",
              "      box-shadow: 0px 1px 2px rgba(60, 64, 67, 0.3), 0px 1px 3px 1px rgba(60, 64, 67, 0.15);\n",
              "      fill: #174EA6;\n",
              "    }\n",
              "\n",
              "    .colab-df-buttons div {\n",
              "      margin-bottom: 4px;\n",
              "    }\n",
              "\n",
              "    [theme=dark] .colab-df-convert {\n",
              "      background-color: #3B4455;\n",
              "      fill: #D2E3FC;\n",
              "    }\n",
              "\n",
              "    [theme=dark] .colab-df-convert:hover {\n",
              "      background-color: #434B5C;\n",
              "      box-shadow: 0px 1px 3px 1px rgba(0, 0, 0, 0.15);\n",
              "      filter: drop-shadow(0px 1px 2px rgba(0, 0, 0, 0.3));\n",
              "      fill: #FFFFFF;\n",
              "    }\n",
              "  </style>\n",
              "\n",
              "    <script>\n",
              "      const buttonEl =\n",
              "        document.querySelector('#df-c2a2f07d-addf-467b-9d18-714b93d48c3f button.colab-df-convert');\n",
              "      buttonEl.style.display =\n",
              "        google.colab.kernel.accessAllowed ? 'block' : 'none';\n",
              "\n",
              "      async function convertToInteractive(key) {\n",
              "        const element = document.querySelector('#df-c2a2f07d-addf-467b-9d18-714b93d48c3f');\n",
              "        const dataTable =\n",
              "          await google.colab.kernel.invokeFunction('convertToInteractive',\n",
              "                                                    [key], {});\n",
              "        if (!dataTable) return;\n",
              "\n",
              "        const docLinkHtml = 'Like what you see? Visit the ' +\n",
              "          '<a target=\"_blank\" href=https://colab.research.google.com/notebooks/data_table.ipynb>data table notebook</a>'\n",
              "          + ' to learn more about interactive tables.';\n",
              "        element.innerHTML = '';\n",
              "        dataTable['output_type'] = 'display_data';\n",
              "        await google.colab.output.renderOutput(dataTable, element);\n",
              "        const docLink = document.createElement('div');\n",
              "        docLink.innerHTML = docLinkHtml;\n",
              "        element.appendChild(docLink);\n",
              "      }\n",
              "    </script>\n",
              "  </div>\n",
              "\n",
              "\n",
              "<div id=\"df-4090e9f7-b150-4fdf-b0d2-146ecef3a4e7\">\n",
              "  <button class=\"colab-df-quickchart\" onclick=\"quickchart('df-4090e9f7-b150-4fdf-b0d2-146ecef3a4e7')\"\n",
              "            title=\"Suggest charts.\"\n",
              "            style=\"display:none;\">\n",
              "\n",
              "<svg xmlns=\"http://www.w3.org/2000/svg\" height=\"24px\"viewBox=\"0 0 24 24\"\n",
              "     width=\"24px\">\n",
              "    <g>\n",
              "        <path d=\"M19 3H5c-1.1 0-2 .9-2 2v14c0 1.1.9 2 2 2h14c1.1 0 2-.9 2-2V5c0-1.1-.9-2-2-2zM9 17H7v-7h2v7zm4 0h-2V7h2v10zm4 0h-2v-4h2v4z\"/>\n",
              "    </g>\n",
              "</svg>\n",
              "  </button>\n",
              "\n",
              "<style>\n",
              "  .colab-df-quickchart {\n",
              "      --bg-color: #E8F0FE;\n",
              "      --fill-color: #1967D2;\n",
              "      --hover-bg-color: #E2EBFA;\n",
              "      --hover-fill-color: #174EA6;\n",
              "      --disabled-fill-color: #AAA;\n",
              "      --disabled-bg-color: #DDD;\n",
              "  }\n",
              "\n",
              "  [theme=dark] .colab-df-quickchart {\n",
              "      --bg-color: #3B4455;\n",
              "      --fill-color: #D2E3FC;\n",
              "      --hover-bg-color: #434B5C;\n",
              "      --hover-fill-color: #FFFFFF;\n",
              "      --disabled-bg-color: #3B4455;\n",
              "      --disabled-fill-color: #666;\n",
              "  }\n",
              "\n",
              "  .colab-df-quickchart {\n",
              "    background-color: var(--bg-color);\n",
              "    border: none;\n",
              "    border-radius: 50%;\n",
              "    cursor: pointer;\n",
              "    display: none;\n",
              "    fill: var(--fill-color);\n",
              "    height: 32px;\n",
              "    padding: 0;\n",
              "    width: 32px;\n",
              "  }\n",
              "\n",
              "  .colab-df-quickchart:hover {\n",
              "    background-color: var(--hover-bg-color);\n",
              "    box-shadow: 0 1px 2px rgba(60, 64, 67, 0.3), 0 1px 3px 1px rgba(60, 64, 67, 0.15);\n",
              "    fill: var(--button-hover-fill-color);\n",
              "  }\n",
              "\n",
              "  .colab-df-quickchart-complete:disabled,\n",
              "  .colab-df-quickchart-complete:disabled:hover {\n",
              "    background-color: var(--disabled-bg-color);\n",
              "    fill: var(--disabled-fill-color);\n",
              "    box-shadow: none;\n",
              "  }\n",
              "\n",
              "  .colab-df-spinner {\n",
              "    border: 2px solid var(--fill-color);\n",
              "    border-color: transparent;\n",
              "    border-bottom-color: var(--fill-color);\n",
              "    animation:\n",
              "      spin 1s steps(1) infinite;\n",
              "  }\n",
              "\n",
              "  @keyframes spin {\n",
              "    0% {\n",
              "      border-color: transparent;\n",
              "      border-bottom-color: var(--fill-color);\n",
              "      border-left-color: var(--fill-color);\n",
              "    }\n",
              "    20% {\n",
              "      border-color: transparent;\n",
              "      border-left-color: var(--fill-color);\n",
              "      border-top-color: var(--fill-color);\n",
              "    }\n",
              "    30% {\n",
              "      border-color: transparent;\n",
              "      border-left-color: var(--fill-color);\n",
              "      border-top-color: var(--fill-color);\n",
              "      border-right-color: var(--fill-color);\n",
              "    }\n",
              "    40% {\n",
              "      border-color: transparent;\n",
              "      border-right-color: var(--fill-color);\n",
              "      border-top-color: var(--fill-color);\n",
              "    }\n",
              "    60% {\n",
              "      border-color: transparent;\n",
              "      border-right-color: var(--fill-color);\n",
              "    }\n",
              "    80% {\n",
              "      border-color: transparent;\n",
              "      border-right-color: var(--fill-color);\n",
              "      border-bottom-color: var(--fill-color);\n",
              "    }\n",
              "    90% {\n",
              "      border-color: transparent;\n",
              "      border-bottom-color: var(--fill-color);\n",
              "    }\n",
              "  }\n",
              "</style>\n",
              "\n",
              "  <script>\n",
              "    async function quickchart(key) {\n",
              "      const quickchartButtonEl =\n",
              "        document.querySelector('#' + key + ' button');\n",
              "      quickchartButtonEl.disabled = true;  // To prevent multiple clicks.\n",
              "      quickchartButtonEl.classList.add('colab-df-spinner');\n",
              "      try {\n",
              "        const charts = await google.colab.kernel.invokeFunction(\n",
              "            'suggestCharts', [key], {});\n",
              "      } catch (error) {\n",
              "        console.error('Error during call to suggestCharts:', error);\n",
              "      }\n",
              "      quickchartButtonEl.classList.remove('colab-df-spinner');\n",
              "      quickchartButtonEl.classList.add('colab-df-quickchart-complete');\n",
              "    }\n",
              "    (() => {\n",
              "      let quickchartButtonEl =\n",
              "        document.querySelector('#df-4090e9f7-b150-4fdf-b0d2-146ecef3a4e7 button');\n",
              "      quickchartButtonEl.style.display =\n",
              "        google.colab.kernel.accessAllowed ? 'block' : 'none';\n",
              "    })();\n",
              "  </script>\n",
              "</div>\n",
              "    </div>\n",
              "  </div>\n"
            ]
          },
          "metadata": {},
          "execution_count": 106
        }
      ]
    },
    {
      "cell_type": "code",
      "source": [
        "data.describe()"
      ],
      "metadata": {
        "colab": {
          "base_uri": "https://localhost:8080/",
          "height": 349
        },
        "id": "3Qf5SfsEkfYc",
        "outputId": "58f12423-beb7-47a1-b8b7-d4a6414862ba"
      },
      "execution_count": null,
      "outputs": [
        {
          "output_type": "execute_result",
          "data": {
            "text/plain": [
              "        Diabetes_012         HighBP       HighChol      CholCheck  \\\n",
              "count  253680.000000  253680.000000  253680.000000  253680.000000   \n",
              "mean        0.296921       0.429001       0.424121       0.962670   \n",
              "std         0.698160       0.494934       0.494210       0.189571   \n",
              "min         0.000000       0.000000       0.000000       0.000000   \n",
              "25%         0.000000       0.000000       0.000000       1.000000   \n",
              "50%         0.000000       0.000000       0.000000       1.000000   \n",
              "75%         0.000000       1.000000       1.000000       1.000000   \n",
              "max         2.000000       1.000000       1.000000       1.000000   \n",
              "\n",
              "                 BMI         Smoker         Stroke  HeartDiseaseorAttack  \\\n",
              "count  253680.000000  253680.000000  253680.000000         253680.000000   \n",
              "mean       28.382364       0.443169       0.040571              0.094186   \n",
              "std         6.608694       0.496761       0.197294              0.292087   \n",
              "min        12.000000       0.000000       0.000000              0.000000   \n",
              "25%        24.000000       0.000000       0.000000              0.000000   \n",
              "50%        27.000000       0.000000       0.000000              0.000000   \n",
              "75%        31.000000       1.000000       0.000000              0.000000   \n",
              "max        98.000000       1.000000       1.000000              1.000000   \n",
              "\n",
              "        PhysActivity         Fruits  ...  AnyHealthcare    NoDocbcCost  \\\n",
              "count  253680.000000  253680.000000  ...  253680.000000  253680.000000   \n",
              "mean        0.756544       0.634256  ...       0.951053       0.084177   \n",
              "std         0.429169       0.481639  ...       0.215759       0.277654   \n",
              "min         0.000000       0.000000  ...       0.000000       0.000000   \n",
              "25%         1.000000       0.000000  ...       1.000000       0.000000   \n",
              "50%         1.000000       1.000000  ...       1.000000       0.000000   \n",
              "75%         1.000000       1.000000  ...       1.000000       0.000000   \n",
              "max         1.000000       1.000000  ...       1.000000       1.000000   \n",
              "\n",
              "             GenHlth       MentHlth       PhysHlth       DiffWalk  \\\n",
              "count  253680.000000  253680.000000  253680.000000  253680.000000   \n",
              "mean        2.511392       3.184772       4.242081       0.168224   \n",
              "std         1.068477       7.412847       8.717951       0.374066   \n",
              "min         1.000000       0.000000       0.000000       0.000000   \n",
              "25%         2.000000       0.000000       0.000000       0.000000   \n",
              "50%         2.000000       0.000000       0.000000       0.000000   \n",
              "75%         3.000000       2.000000       3.000000       0.000000   \n",
              "max         5.000000      30.000000      30.000000       1.000000   \n",
              "\n",
              "                 Sex            Age      Education         Income  \n",
              "count  253680.000000  253680.000000  253680.000000  253680.000000  \n",
              "mean        0.440342       8.032119       5.050434       6.053875  \n",
              "std         0.496429       3.054220       0.985774       2.071148  \n",
              "min         0.000000       1.000000       1.000000       1.000000  \n",
              "25%         0.000000       6.000000       4.000000       5.000000  \n",
              "50%         0.000000       8.000000       5.000000       7.000000  \n",
              "75%         1.000000      10.000000       6.000000       8.000000  \n",
              "max         1.000000      13.000000       6.000000       8.000000  \n",
              "\n",
              "[8 rows x 22 columns]"
            ],
            "text/html": [
              "\n",
              "  <div id=\"df-edd51f00-eaa0-4458-8576-a5568a4fcf3d\" class=\"colab-df-container\">\n",
              "    <div>\n",
              "<style scoped>\n",
              "    .dataframe tbody tr th:only-of-type {\n",
              "        vertical-align: middle;\n",
              "    }\n",
              "\n",
              "    .dataframe tbody tr th {\n",
              "        vertical-align: top;\n",
              "    }\n",
              "\n",
              "    .dataframe thead th {\n",
              "        text-align: right;\n",
              "    }\n",
              "</style>\n",
              "<table border=\"1\" class=\"dataframe\">\n",
              "  <thead>\n",
              "    <tr style=\"text-align: right;\">\n",
              "      <th></th>\n",
              "      <th>Diabetes_012</th>\n",
              "      <th>HighBP</th>\n",
              "      <th>HighChol</th>\n",
              "      <th>CholCheck</th>\n",
              "      <th>BMI</th>\n",
              "      <th>Smoker</th>\n",
              "      <th>Stroke</th>\n",
              "      <th>HeartDiseaseorAttack</th>\n",
              "      <th>PhysActivity</th>\n",
              "      <th>Fruits</th>\n",
              "      <th>...</th>\n",
              "      <th>AnyHealthcare</th>\n",
              "      <th>NoDocbcCost</th>\n",
              "      <th>GenHlth</th>\n",
              "      <th>MentHlth</th>\n",
              "      <th>PhysHlth</th>\n",
              "      <th>DiffWalk</th>\n",
              "      <th>Sex</th>\n",
              "      <th>Age</th>\n",
              "      <th>Education</th>\n",
              "      <th>Income</th>\n",
              "    </tr>\n",
              "  </thead>\n",
              "  <tbody>\n",
              "    <tr>\n",
              "      <th>count</th>\n",
              "      <td>253680.000000</td>\n",
              "      <td>253680.000000</td>\n",
              "      <td>253680.000000</td>\n",
              "      <td>253680.000000</td>\n",
              "      <td>253680.000000</td>\n",
              "      <td>253680.000000</td>\n",
              "      <td>253680.000000</td>\n",
              "      <td>253680.000000</td>\n",
              "      <td>253680.000000</td>\n",
              "      <td>253680.000000</td>\n",
              "      <td>...</td>\n",
              "      <td>253680.000000</td>\n",
              "      <td>253680.000000</td>\n",
              "      <td>253680.000000</td>\n",
              "      <td>253680.000000</td>\n",
              "      <td>253680.000000</td>\n",
              "      <td>253680.000000</td>\n",
              "      <td>253680.000000</td>\n",
              "      <td>253680.000000</td>\n",
              "      <td>253680.000000</td>\n",
              "      <td>253680.000000</td>\n",
              "    </tr>\n",
              "    <tr>\n",
              "      <th>mean</th>\n",
              "      <td>0.296921</td>\n",
              "      <td>0.429001</td>\n",
              "      <td>0.424121</td>\n",
              "      <td>0.962670</td>\n",
              "      <td>28.382364</td>\n",
              "      <td>0.443169</td>\n",
              "      <td>0.040571</td>\n",
              "      <td>0.094186</td>\n",
              "      <td>0.756544</td>\n",
              "      <td>0.634256</td>\n",
              "      <td>...</td>\n",
              "      <td>0.951053</td>\n",
              "      <td>0.084177</td>\n",
              "      <td>2.511392</td>\n",
              "      <td>3.184772</td>\n",
              "      <td>4.242081</td>\n",
              "      <td>0.168224</td>\n",
              "      <td>0.440342</td>\n",
              "      <td>8.032119</td>\n",
              "      <td>5.050434</td>\n",
              "      <td>6.053875</td>\n",
              "    </tr>\n",
              "    <tr>\n",
              "      <th>std</th>\n",
              "      <td>0.698160</td>\n",
              "      <td>0.494934</td>\n",
              "      <td>0.494210</td>\n",
              "      <td>0.189571</td>\n",
              "      <td>6.608694</td>\n",
              "      <td>0.496761</td>\n",
              "      <td>0.197294</td>\n",
              "      <td>0.292087</td>\n",
              "      <td>0.429169</td>\n",
              "      <td>0.481639</td>\n",
              "      <td>...</td>\n",
              "      <td>0.215759</td>\n",
              "      <td>0.277654</td>\n",
              "      <td>1.068477</td>\n",
              "      <td>7.412847</td>\n",
              "      <td>8.717951</td>\n",
              "      <td>0.374066</td>\n",
              "      <td>0.496429</td>\n",
              "      <td>3.054220</td>\n",
              "      <td>0.985774</td>\n",
              "      <td>2.071148</td>\n",
              "    </tr>\n",
              "    <tr>\n",
              "      <th>min</th>\n",
              "      <td>0.000000</td>\n",
              "      <td>0.000000</td>\n",
              "      <td>0.000000</td>\n",
              "      <td>0.000000</td>\n",
              "      <td>12.000000</td>\n",
              "      <td>0.000000</td>\n",
              "      <td>0.000000</td>\n",
              "      <td>0.000000</td>\n",
              "      <td>0.000000</td>\n",
              "      <td>0.000000</td>\n",
              "      <td>...</td>\n",
              "      <td>0.000000</td>\n",
              "      <td>0.000000</td>\n",
              "      <td>1.000000</td>\n",
              "      <td>0.000000</td>\n",
              "      <td>0.000000</td>\n",
              "      <td>0.000000</td>\n",
              "      <td>0.000000</td>\n",
              "      <td>1.000000</td>\n",
              "      <td>1.000000</td>\n",
              "      <td>1.000000</td>\n",
              "    </tr>\n",
              "    <tr>\n",
              "      <th>25%</th>\n",
              "      <td>0.000000</td>\n",
              "      <td>0.000000</td>\n",
              "      <td>0.000000</td>\n",
              "      <td>1.000000</td>\n",
              "      <td>24.000000</td>\n",
              "      <td>0.000000</td>\n",
              "      <td>0.000000</td>\n",
              "      <td>0.000000</td>\n",
              "      <td>1.000000</td>\n",
              "      <td>0.000000</td>\n",
              "      <td>...</td>\n",
              "      <td>1.000000</td>\n",
              "      <td>0.000000</td>\n",
              "      <td>2.000000</td>\n",
              "      <td>0.000000</td>\n",
              "      <td>0.000000</td>\n",
              "      <td>0.000000</td>\n",
              "      <td>0.000000</td>\n",
              "      <td>6.000000</td>\n",
              "      <td>4.000000</td>\n",
              "      <td>5.000000</td>\n",
              "    </tr>\n",
              "    <tr>\n",
              "      <th>50%</th>\n",
              "      <td>0.000000</td>\n",
              "      <td>0.000000</td>\n",
              "      <td>0.000000</td>\n",
              "      <td>1.000000</td>\n",
              "      <td>27.000000</td>\n",
              "      <td>0.000000</td>\n",
              "      <td>0.000000</td>\n",
              "      <td>0.000000</td>\n",
              "      <td>1.000000</td>\n",
              "      <td>1.000000</td>\n",
              "      <td>...</td>\n",
              "      <td>1.000000</td>\n",
              "      <td>0.000000</td>\n",
              "      <td>2.000000</td>\n",
              "      <td>0.000000</td>\n",
              "      <td>0.000000</td>\n",
              "      <td>0.000000</td>\n",
              "      <td>0.000000</td>\n",
              "      <td>8.000000</td>\n",
              "      <td>5.000000</td>\n",
              "      <td>7.000000</td>\n",
              "    </tr>\n",
              "    <tr>\n",
              "      <th>75%</th>\n",
              "      <td>0.000000</td>\n",
              "      <td>1.000000</td>\n",
              "      <td>1.000000</td>\n",
              "      <td>1.000000</td>\n",
              "      <td>31.000000</td>\n",
              "      <td>1.000000</td>\n",
              "      <td>0.000000</td>\n",
              "      <td>0.000000</td>\n",
              "      <td>1.000000</td>\n",
              "      <td>1.000000</td>\n",
              "      <td>...</td>\n",
              "      <td>1.000000</td>\n",
              "      <td>0.000000</td>\n",
              "      <td>3.000000</td>\n",
              "      <td>2.000000</td>\n",
              "      <td>3.000000</td>\n",
              "      <td>0.000000</td>\n",
              "      <td>1.000000</td>\n",
              "      <td>10.000000</td>\n",
              "      <td>6.000000</td>\n",
              "      <td>8.000000</td>\n",
              "    </tr>\n",
              "    <tr>\n",
              "      <th>max</th>\n",
              "      <td>2.000000</td>\n",
              "      <td>1.000000</td>\n",
              "      <td>1.000000</td>\n",
              "      <td>1.000000</td>\n",
              "      <td>98.000000</td>\n",
              "      <td>1.000000</td>\n",
              "      <td>1.000000</td>\n",
              "      <td>1.000000</td>\n",
              "      <td>1.000000</td>\n",
              "      <td>1.000000</td>\n",
              "      <td>...</td>\n",
              "      <td>1.000000</td>\n",
              "      <td>1.000000</td>\n",
              "      <td>5.000000</td>\n",
              "      <td>30.000000</td>\n",
              "      <td>30.000000</td>\n",
              "      <td>1.000000</td>\n",
              "      <td>1.000000</td>\n",
              "      <td>13.000000</td>\n",
              "      <td>6.000000</td>\n",
              "      <td>8.000000</td>\n",
              "    </tr>\n",
              "  </tbody>\n",
              "</table>\n",
              "<p>8 rows × 22 columns</p>\n",
              "</div>\n",
              "    <div class=\"colab-df-buttons\">\n",
              "\n",
              "  <div class=\"colab-df-container\">\n",
              "    <button class=\"colab-df-convert\" onclick=\"convertToInteractive('df-edd51f00-eaa0-4458-8576-a5568a4fcf3d')\"\n",
              "            title=\"Convert this dataframe to an interactive table.\"\n",
              "            style=\"display:none;\">\n",
              "\n",
              "  <svg xmlns=\"http://www.w3.org/2000/svg\" height=\"24px\" viewBox=\"0 -960 960 960\">\n",
              "    <path d=\"M120-120v-720h720v720H120Zm60-500h600v-160H180v160Zm220 220h160v-160H400v160Zm0 220h160v-160H400v160ZM180-400h160v-160H180v160Zm440 0h160v-160H620v160ZM180-180h160v-160H180v160Zm440 0h160v-160H620v160Z\"/>\n",
              "  </svg>\n",
              "    </button>\n",
              "\n",
              "  <style>\n",
              "    .colab-df-container {\n",
              "      display:flex;\n",
              "      gap: 12px;\n",
              "    }\n",
              "\n",
              "    .colab-df-convert {\n",
              "      background-color: #E8F0FE;\n",
              "      border: none;\n",
              "      border-radius: 50%;\n",
              "      cursor: pointer;\n",
              "      display: none;\n",
              "      fill: #1967D2;\n",
              "      height: 32px;\n",
              "      padding: 0 0 0 0;\n",
              "      width: 32px;\n",
              "    }\n",
              "\n",
              "    .colab-df-convert:hover {\n",
              "      background-color: #E2EBFA;\n",
              "      box-shadow: 0px 1px 2px rgba(60, 64, 67, 0.3), 0px 1px 3px 1px rgba(60, 64, 67, 0.15);\n",
              "      fill: #174EA6;\n",
              "    }\n",
              "\n",
              "    .colab-df-buttons div {\n",
              "      margin-bottom: 4px;\n",
              "    }\n",
              "\n",
              "    [theme=dark] .colab-df-convert {\n",
              "      background-color: #3B4455;\n",
              "      fill: #D2E3FC;\n",
              "    }\n",
              "\n",
              "    [theme=dark] .colab-df-convert:hover {\n",
              "      background-color: #434B5C;\n",
              "      box-shadow: 0px 1px 3px 1px rgba(0, 0, 0, 0.15);\n",
              "      filter: drop-shadow(0px 1px 2px rgba(0, 0, 0, 0.3));\n",
              "      fill: #FFFFFF;\n",
              "    }\n",
              "  </style>\n",
              "\n",
              "    <script>\n",
              "      const buttonEl =\n",
              "        document.querySelector('#df-edd51f00-eaa0-4458-8576-a5568a4fcf3d button.colab-df-convert');\n",
              "      buttonEl.style.display =\n",
              "        google.colab.kernel.accessAllowed ? 'block' : 'none';\n",
              "\n",
              "      async function convertToInteractive(key) {\n",
              "        const element = document.querySelector('#df-edd51f00-eaa0-4458-8576-a5568a4fcf3d');\n",
              "        const dataTable =\n",
              "          await google.colab.kernel.invokeFunction('convertToInteractive',\n",
              "                                                    [key], {});\n",
              "        if (!dataTable) return;\n",
              "\n",
              "        const docLinkHtml = 'Like what you see? Visit the ' +\n",
              "          '<a target=\"_blank\" href=https://colab.research.google.com/notebooks/data_table.ipynb>data table notebook</a>'\n",
              "          + ' to learn more about interactive tables.';\n",
              "        element.innerHTML = '';\n",
              "        dataTable['output_type'] = 'display_data';\n",
              "        await google.colab.output.renderOutput(dataTable, element);\n",
              "        const docLink = document.createElement('div');\n",
              "        docLink.innerHTML = docLinkHtml;\n",
              "        element.appendChild(docLink);\n",
              "      }\n",
              "    </script>\n",
              "  </div>\n",
              "\n",
              "\n",
              "<div id=\"df-afa67cef-fb7b-4161-b471-16458cf9a65c\">\n",
              "  <button class=\"colab-df-quickchart\" onclick=\"quickchart('df-afa67cef-fb7b-4161-b471-16458cf9a65c')\"\n",
              "            title=\"Suggest charts.\"\n",
              "            style=\"display:none;\">\n",
              "\n",
              "<svg xmlns=\"http://www.w3.org/2000/svg\" height=\"24px\"viewBox=\"0 0 24 24\"\n",
              "     width=\"24px\">\n",
              "    <g>\n",
              "        <path d=\"M19 3H5c-1.1 0-2 .9-2 2v14c0 1.1.9 2 2 2h14c1.1 0 2-.9 2-2V5c0-1.1-.9-2-2-2zM9 17H7v-7h2v7zm4 0h-2V7h2v10zm4 0h-2v-4h2v4z\"/>\n",
              "    </g>\n",
              "</svg>\n",
              "  </button>\n",
              "\n",
              "<style>\n",
              "  .colab-df-quickchart {\n",
              "      --bg-color: #E8F0FE;\n",
              "      --fill-color: #1967D2;\n",
              "      --hover-bg-color: #E2EBFA;\n",
              "      --hover-fill-color: #174EA6;\n",
              "      --disabled-fill-color: #AAA;\n",
              "      --disabled-bg-color: #DDD;\n",
              "  }\n",
              "\n",
              "  [theme=dark] .colab-df-quickchart {\n",
              "      --bg-color: #3B4455;\n",
              "      --fill-color: #D2E3FC;\n",
              "      --hover-bg-color: #434B5C;\n",
              "      --hover-fill-color: #FFFFFF;\n",
              "      --disabled-bg-color: #3B4455;\n",
              "      --disabled-fill-color: #666;\n",
              "  }\n",
              "\n",
              "  .colab-df-quickchart {\n",
              "    background-color: var(--bg-color);\n",
              "    border: none;\n",
              "    border-radius: 50%;\n",
              "    cursor: pointer;\n",
              "    display: none;\n",
              "    fill: var(--fill-color);\n",
              "    height: 32px;\n",
              "    padding: 0;\n",
              "    width: 32px;\n",
              "  }\n",
              "\n",
              "  .colab-df-quickchart:hover {\n",
              "    background-color: var(--hover-bg-color);\n",
              "    box-shadow: 0 1px 2px rgba(60, 64, 67, 0.3), 0 1px 3px 1px rgba(60, 64, 67, 0.15);\n",
              "    fill: var(--button-hover-fill-color);\n",
              "  }\n",
              "\n",
              "  .colab-df-quickchart-complete:disabled,\n",
              "  .colab-df-quickchart-complete:disabled:hover {\n",
              "    background-color: var(--disabled-bg-color);\n",
              "    fill: var(--disabled-fill-color);\n",
              "    box-shadow: none;\n",
              "  }\n",
              "\n",
              "  .colab-df-spinner {\n",
              "    border: 2px solid var(--fill-color);\n",
              "    border-color: transparent;\n",
              "    border-bottom-color: var(--fill-color);\n",
              "    animation:\n",
              "      spin 1s steps(1) infinite;\n",
              "  }\n",
              "\n",
              "  @keyframes spin {\n",
              "    0% {\n",
              "      border-color: transparent;\n",
              "      border-bottom-color: var(--fill-color);\n",
              "      border-left-color: var(--fill-color);\n",
              "    }\n",
              "    20% {\n",
              "      border-color: transparent;\n",
              "      border-left-color: var(--fill-color);\n",
              "      border-top-color: var(--fill-color);\n",
              "    }\n",
              "    30% {\n",
              "      border-color: transparent;\n",
              "      border-left-color: var(--fill-color);\n",
              "      border-top-color: var(--fill-color);\n",
              "      border-right-color: var(--fill-color);\n",
              "    }\n",
              "    40% {\n",
              "      border-color: transparent;\n",
              "      border-right-color: var(--fill-color);\n",
              "      border-top-color: var(--fill-color);\n",
              "    }\n",
              "    60% {\n",
              "      border-color: transparent;\n",
              "      border-right-color: var(--fill-color);\n",
              "    }\n",
              "    80% {\n",
              "      border-color: transparent;\n",
              "      border-right-color: var(--fill-color);\n",
              "      border-bottom-color: var(--fill-color);\n",
              "    }\n",
              "    90% {\n",
              "      border-color: transparent;\n",
              "      border-bottom-color: var(--fill-color);\n",
              "    }\n",
              "  }\n",
              "</style>\n",
              "\n",
              "  <script>\n",
              "    async function quickchart(key) {\n",
              "      const quickchartButtonEl =\n",
              "        document.querySelector('#' + key + ' button');\n",
              "      quickchartButtonEl.disabled = true;  // To prevent multiple clicks.\n",
              "      quickchartButtonEl.classList.add('colab-df-spinner');\n",
              "      try {\n",
              "        const charts = await google.colab.kernel.invokeFunction(\n",
              "            'suggestCharts', [key], {});\n",
              "      } catch (error) {\n",
              "        console.error('Error during call to suggestCharts:', error);\n",
              "      }\n",
              "      quickchartButtonEl.classList.remove('colab-df-spinner');\n",
              "      quickchartButtonEl.classList.add('colab-df-quickchart-complete');\n",
              "    }\n",
              "    (() => {\n",
              "      let quickchartButtonEl =\n",
              "        document.querySelector('#df-afa67cef-fb7b-4161-b471-16458cf9a65c button');\n",
              "      quickchartButtonEl.style.display =\n",
              "        google.colab.kernel.accessAllowed ? 'block' : 'none';\n",
              "    })();\n",
              "  </script>\n",
              "</div>\n",
              "    </div>\n",
              "  </div>\n"
            ]
          },
          "metadata": {},
          "execution_count": 107
        }
      ]
    },
    {
      "cell_type": "code",
      "source": [
        "data.columns"
      ],
      "metadata": {
        "colab": {
          "base_uri": "https://localhost:8080/"
        },
        "id": "fCAY8ukakkLg",
        "outputId": "6645be74-4082-4663-c590-16788b6e24b4"
      },
      "execution_count": null,
      "outputs": [
        {
          "output_type": "execute_result",
          "data": {
            "text/plain": [
              "Index(['Diabetes_012', 'HighBP', 'HighChol', 'CholCheck', 'BMI', 'Smoker',\n",
              "       'Stroke', 'HeartDiseaseorAttack', 'PhysActivity', 'Fruits', 'Veggies',\n",
              "       'HvyAlcoholConsump', 'AnyHealthcare', 'NoDocbcCost', 'GenHlth',\n",
              "       'MentHlth', 'PhysHlth', 'DiffWalk', 'Sex', 'Age', 'Education',\n",
              "       'Income'],\n",
              "      dtype='object')"
            ]
          },
          "metadata": {},
          "execution_count": 108
        }
      ]
    },
    {
      "cell_type": "code",
      "source": [
        "df_cut = data[['Diabetes_012']]\n",
        "df_cut.head(10)"
      ],
      "metadata": {
        "colab": {
          "base_uri": "https://localhost:8080/",
          "height": 363
        },
        "id": "XXHVvBankuv4",
        "outputId": "e42a645d-4eb1-4fb5-fa4b-b3052961674a"
      },
      "execution_count": null,
      "outputs": [
        {
          "output_type": "execute_result",
          "data": {
            "text/plain": [
              "   Diabetes_012\n",
              "0           0.0\n",
              "1           0.0\n",
              "2           0.0\n",
              "3           0.0\n",
              "4           0.0\n",
              "5           0.0\n",
              "6           0.0\n",
              "7           0.0\n",
              "8           2.0\n",
              "9           0.0"
            ],
            "text/html": [
              "\n",
              "  <div id=\"df-83518571-c6a2-4482-a1a4-7e9feb403011\" class=\"colab-df-container\">\n",
              "    <div>\n",
              "<style scoped>\n",
              "    .dataframe tbody tr th:only-of-type {\n",
              "        vertical-align: middle;\n",
              "    }\n",
              "\n",
              "    .dataframe tbody tr th {\n",
              "        vertical-align: top;\n",
              "    }\n",
              "\n",
              "    .dataframe thead th {\n",
              "        text-align: right;\n",
              "    }\n",
              "</style>\n",
              "<table border=\"1\" class=\"dataframe\">\n",
              "  <thead>\n",
              "    <tr style=\"text-align: right;\">\n",
              "      <th></th>\n",
              "      <th>Diabetes_012</th>\n",
              "    </tr>\n",
              "  </thead>\n",
              "  <tbody>\n",
              "    <tr>\n",
              "      <th>0</th>\n",
              "      <td>0.0</td>\n",
              "    </tr>\n",
              "    <tr>\n",
              "      <th>1</th>\n",
              "      <td>0.0</td>\n",
              "    </tr>\n",
              "    <tr>\n",
              "      <th>2</th>\n",
              "      <td>0.0</td>\n",
              "    </tr>\n",
              "    <tr>\n",
              "      <th>3</th>\n",
              "      <td>0.0</td>\n",
              "    </tr>\n",
              "    <tr>\n",
              "      <th>4</th>\n",
              "      <td>0.0</td>\n",
              "    </tr>\n",
              "    <tr>\n",
              "      <th>5</th>\n",
              "      <td>0.0</td>\n",
              "    </tr>\n",
              "    <tr>\n",
              "      <th>6</th>\n",
              "      <td>0.0</td>\n",
              "    </tr>\n",
              "    <tr>\n",
              "      <th>7</th>\n",
              "      <td>0.0</td>\n",
              "    </tr>\n",
              "    <tr>\n",
              "      <th>8</th>\n",
              "      <td>2.0</td>\n",
              "    </tr>\n",
              "    <tr>\n",
              "      <th>9</th>\n",
              "      <td>0.0</td>\n",
              "    </tr>\n",
              "  </tbody>\n",
              "</table>\n",
              "</div>\n",
              "    <div class=\"colab-df-buttons\">\n",
              "\n",
              "  <div class=\"colab-df-container\">\n",
              "    <button class=\"colab-df-convert\" onclick=\"convertToInteractive('df-83518571-c6a2-4482-a1a4-7e9feb403011')\"\n",
              "            title=\"Convert this dataframe to an interactive table.\"\n",
              "            style=\"display:none;\">\n",
              "\n",
              "  <svg xmlns=\"http://www.w3.org/2000/svg\" height=\"24px\" viewBox=\"0 -960 960 960\">\n",
              "    <path d=\"M120-120v-720h720v720H120Zm60-500h600v-160H180v160Zm220 220h160v-160H400v160Zm0 220h160v-160H400v160ZM180-400h160v-160H180v160Zm440 0h160v-160H620v160ZM180-180h160v-160H180v160Zm440 0h160v-160H620v160Z\"/>\n",
              "  </svg>\n",
              "    </button>\n",
              "\n",
              "  <style>\n",
              "    .colab-df-container {\n",
              "      display:flex;\n",
              "      gap: 12px;\n",
              "    }\n",
              "\n",
              "    .colab-df-convert {\n",
              "      background-color: #E8F0FE;\n",
              "      border: none;\n",
              "      border-radius: 50%;\n",
              "      cursor: pointer;\n",
              "      display: none;\n",
              "      fill: #1967D2;\n",
              "      height: 32px;\n",
              "      padding: 0 0 0 0;\n",
              "      width: 32px;\n",
              "    }\n",
              "\n",
              "    .colab-df-convert:hover {\n",
              "      background-color: #E2EBFA;\n",
              "      box-shadow: 0px 1px 2px rgba(60, 64, 67, 0.3), 0px 1px 3px 1px rgba(60, 64, 67, 0.15);\n",
              "      fill: #174EA6;\n",
              "    }\n",
              "\n",
              "    .colab-df-buttons div {\n",
              "      margin-bottom: 4px;\n",
              "    }\n",
              "\n",
              "    [theme=dark] .colab-df-convert {\n",
              "      background-color: #3B4455;\n",
              "      fill: #D2E3FC;\n",
              "    }\n",
              "\n",
              "    [theme=dark] .colab-df-convert:hover {\n",
              "      background-color: #434B5C;\n",
              "      box-shadow: 0px 1px 3px 1px rgba(0, 0, 0, 0.15);\n",
              "      filter: drop-shadow(0px 1px 2px rgba(0, 0, 0, 0.3));\n",
              "      fill: #FFFFFF;\n",
              "    }\n",
              "  </style>\n",
              "\n",
              "    <script>\n",
              "      const buttonEl =\n",
              "        document.querySelector('#df-83518571-c6a2-4482-a1a4-7e9feb403011 button.colab-df-convert');\n",
              "      buttonEl.style.display =\n",
              "        google.colab.kernel.accessAllowed ? 'block' : 'none';\n",
              "\n",
              "      async function convertToInteractive(key) {\n",
              "        const element = document.querySelector('#df-83518571-c6a2-4482-a1a4-7e9feb403011');\n",
              "        const dataTable =\n",
              "          await google.colab.kernel.invokeFunction('convertToInteractive',\n",
              "                                                    [key], {});\n",
              "        if (!dataTable) return;\n",
              "\n",
              "        const docLinkHtml = 'Like what you see? Visit the ' +\n",
              "          '<a target=\"_blank\" href=https://colab.research.google.com/notebooks/data_table.ipynb>data table notebook</a>'\n",
              "          + ' to learn more about interactive tables.';\n",
              "        element.innerHTML = '';\n",
              "        dataTable['output_type'] = 'display_data';\n",
              "        await google.colab.output.renderOutput(dataTable, element);\n",
              "        const docLink = document.createElement('div');\n",
              "        docLink.innerHTML = docLinkHtml;\n",
              "        element.appendChild(docLink);\n",
              "      }\n",
              "    </script>\n",
              "  </div>\n",
              "\n",
              "\n",
              "<div id=\"df-1cd0fece-4a7d-4e3d-92e7-c81e4a118826\">\n",
              "  <button class=\"colab-df-quickchart\" onclick=\"quickchart('df-1cd0fece-4a7d-4e3d-92e7-c81e4a118826')\"\n",
              "            title=\"Suggest charts.\"\n",
              "            style=\"display:none;\">\n",
              "\n",
              "<svg xmlns=\"http://www.w3.org/2000/svg\" height=\"24px\"viewBox=\"0 0 24 24\"\n",
              "     width=\"24px\">\n",
              "    <g>\n",
              "        <path d=\"M19 3H5c-1.1 0-2 .9-2 2v14c0 1.1.9 2 2 2h14c1.1 0 2-.9 2-2V5c0-1.1-.9-2-2-2zM9 17H7v-7h2v7zm4 0h-2V7h2v10zm4 0h-2v-4h2v4z\"/>\n",
              "    </g>\n",
              "</svg>\n",
              "  </button>\n",
              "\n",
              "<style>\n",
              "  .colab-df-quickchart {\n",
              "      --bg-color: #E8F0FE;\n",
              "      --fill-color: #1967D2;\n",
              "      --hover-bg-color: #E2EBFA;\n",
              "      --hover-fill-color: #174EA6;\n",
              "      --disabled-fill-color: #AAA;\n",
              "      --disabled-bg-color: #DDD;\n",
              "  }\n",
              "\n",
              "  [theme=dark] .colab-df-quickchart {\n",
              "      --bg-color: #3B4455;\n",
              "      --fill-color: #D2E3FC;\n",
              "      --hover-bg-color: #434B5C;\n",
              "      --hover-fill-color: #FFFFFF;\n",
              "      --disabled-bg-color: #3B4455;\n",
              "      --disabled-fill-color: #666;\n",
              "  }\n",
              "\n",
              "  .colab-df-quickchart {\n",
              "    background-color: var(--bg-color);\n",
              "    border: none;\n",
              "    border-radius: 50%;\n",
              "    cursor: pointer;\n",
              "    display: none;\n",
              "    fill: var(--fill-color);\n",
              "    height: 32px;\n",
              "    padding: 0;\n",
              "    width: 32px;\n",
              "  }\n",
              "\n",
              "  .colab-df-quickchart:hover {\n",
              "    background-color: var(--hover-bg-color);\n",
              "    box-shadow: 0 1px 2px rgba(60, 64, 67, 0.3), 0 1px 3px 1px rgba(60, 64, 67, 0.15);\n",
              "    fill: var(--button-hover-fill-color);\n",
              "  }\n",
              "\n",
              "  .colab-df-quickchart-complete:disabled,\n",
              "  .colab-df-quickchart-complete:disabled:hover {\n",
              "    background-color: var(--disabled-bg-color);\n",
              "    fill: var(--disabled-fill-color);\n",
              "    box-shadow: none;\n",
              "  }\n",
              "\n",
              "  .colab-df-spinner {\n",
              "    border: 2px solid var(--fill-color);\n",
              "    border-color: transparent;\n",
              "    border-bottom-color: var(--fill-color);\n",
              "    animation:\n",
              "      spin 1s steps(1) infinite;\n",
              "  }\n",
              "\n",
              "  @keyframes spin {\n",
              "    0% {\n",
              "      border-color: transparent;\n",
              "      border-bottom-color: var(--fill-color);\n",
              "      border-left-color: var(--fill-color);\n",
              "    }\n",
              "    20% {\n",
              "      border-color: transparent;\n",
              "      border-left-color: var(--fill-color);\n",
              "      border-top-color: var(--fill-color);\n",
              "    }\n",
              "    30% {\n",
              "      border-color: transparent;\n",
              "      border-left-color: var(--fill-color);\n",
              "      border-top-color: var(--fill-color);\n",
              "      border-right-color: var(--fill-color);\n",
              "    }\n",
              "    40% {\n",
              "      border-color: transparent;\n",
              "      border-right-color: var(--fill-color);\n",
              "      border-top-color: var(--fill-color);\n",
              "    }\n",
              "    60% {\n",
              "      border-color: transparent;\n",
              "      border-right-color: var(--fill-color);\n",
              "    }\n",
              "    80% {\n",
              "      border-color: transparent;\n",
              "      border-right-color: var(--fill-color);\n",
              "      border-bottom-color: var(--fill-color);\n",
              "    }\n",
              "    90% {\n",
              "      border-color: transparent;\n",
              "      border-bottom-color: var(--fill-color);\n",
              "    }\n",
              "  }\n",
              "</style>\n",
              "\n",
              "  <script>\n",
              "    async function quickchart(key) {\n",
              "      const quickchartButtonEl =\n",
              "        document.querySelector('#' + key + ' button');\n",
              "      quickchartButtonEl.disabled = true;  // To prevent multiple clicks.\n",
              "      quickchartButtonEl.classList.add('colab-df-spinner');\n",
              "      try {\n",
              "        const charts = await google.colab.kernel.invokeFunction(\n",
              "            'suggestCharts', [key], {});\n",
              "      } catch (error) {\n",
              "        console.error('Error during call to suggestCharts:', error);\n",
              "      }\n",
              "      quickchartButtonEl.classList.remove('colab-df-spinner');\n",
              "      quickchartButtonEl.classList.add('colab-df-quickchart-complete');\n",
              "    }\n",
              "    (() => {\n",
              "      let quickchartButtonEl =\n",
              "        document.querySelector('#df-1cd0fece-4a7d-4e3d-92e7-c81e4a118826 button');\n",
              "      quickchartButtonEl.style.display =\n",
              "        google.colab.kernel.accessAllowed ? 'block' : 'none';\n",
              "    })();\n",
              "  </script>\n",
              "</div>\n",
              "    </div>\n",
              "  </div>\n"
            ]
          },
          "metadata": {},
          "execution_count": 109
        }
      ]
    },
    {
      "cell_type": "code",
      "source": [
        "class_names_dict = {0:'negative',1:'positive',2:'positive'}\n",
        "data['ClassName'] = data['Diabetes_012'].map(class_names_dict)"
      ],
      "metadata": {
        "id": "Rxj2hKA5k4mF"
      },
      "execution_count": null,
      "outputs": []
    },
    {
      "cell_type": "code",
      "source": [
        "data.head(10)"
      ],
      "metadata": {
        "colab": {
          "base_uri": "https://localhost:8080/",
          "height": 412
        },
        "id": "tJ1TPWBJlGHj",
        "outputId": "5b793777-2cd3-4dc3-e87d-62dfab005330"
      },
      "execution_count": null,
      "outputs": [
        {
          "output_type": "execute_result",
          "data": {
            "text/plain": [
              "   Diabetes_012  HighBP  HighChol  CholCheck   BMI  Smoker  Stroke  \\\n",
              "0           0.0     1.0       1.0        1.0  40.0     1.0     0.0   \n",
              "1           0.0     0.0       0.0        0.0  25.0     1.0     0.0   \n",
              "2           0.0     1.0       1.0        1.0  28.0     0.0     0.0   \n",
              "3           0.0     1.0       0.0        1.0  27.0     0.0     0.0   \n",
              "4           0.0     1.0       1.0        1.0  24.0     0.0     0.0   \n",
              "5           0.0     1.0       1.0        1.0  25.0     1.0     0.0   \n",
              "6           0.0     1.0       0.0        1.0  30.0     1.0     0.0   \n",
              "7           0.0     1.0       1.0        1.0  25.0     1.0     0.0   \n",
              "8           2.0     1.0       1.0        1.0  30.0     1.0     0.0   \n",
              "9           0.0     0.0       0.0        1.0  24.0     0.0     0.0   \n",
              "\n",
              "   HeartDiseaseorAttack  PhysActivity  Fruits  ...  NoDocbcCost  GenHlth  \\\n",
              "0                   0.0           0.0     0.0  ...          0.0      5.0   \n",
              "1                   0.0           1.0     0.0  ...          1.0      3.0   \n",
              "2                   0.0           0.0     1.0  ...          1.0      5.0   \n",
              "3                   0.0           1.0     1.0  ...          0.0      2.0   \n",
              "4                   0.0           1.0     1.0  ...          0.0      2.0   \n",
              "5                   0.0           1.0     1.0  ...          0.0      2.0   \n",
              "6                   0.0           0.0     0.0  ...          0.0      3.0   \n",
              "7                   0.0           1.0     0.0  ...          0.0      3.0   \n",
              "8                   1.0           0.0     1.0  ...          0.0      5.0   \n",
              "9                   0.0           0.0     0.0  ...          0.0      2.0   \n",
              "\n",
              "   MentHlth  PhysHlth  DiffWalk  Sex   Age  Education  Income  ClassName  \n",
              "0      18.0      15.0       1.0  0.0   9.0        4.0     3.0   negative  \n",
              "1       0.0       0.0       0.0  0.0   7.0        6.0     1.0   negative  \n",
              "2      30.0      30.0       1.0  0.0   9.0        4.0     8.0   negative  \n",
              "3       0.0       0.0       0.0  0.0  11.0        3.0     6.0   negative  \n",
              "4       3.0       0.0       0.0  0.0  11.0        5.0     4.0   negative  \n",
              "5       0.0       2.0       0.0  1.0  10.0        6.0     8.0   negative  \n",
              "6       0.0      14.0       0.0  0.0   9.0        6.0     7.0   negative  \n",
              "7       0.0       0.0       1.0  0.0  11.0        4.0     4.0   negative  \n",
              "8      30.0      30.0       1.0  0.0   9.0        5.0     1.0   positive  \n",
              "9       0.0       0.0       0.0  1.0   8.0        4.0     3.0   negative  \n",
              "\n",
              "[10 rows x 23 columns]"
            ],
            "text/html": [
              "\n",
              "  <div id=\"df-833c0ebd-24db-404a-9862-c8ad0ccc7937\" class=\"colab-df-container\">\n",
              "    <div>\n",
              "<style scoped>\n",
              "    .dataframe tbody tr th:only-of-type {\n",
              "        vertical-align: middle;\n",
              "    }\n",
              "\n",
              "    .dataframe tbody tr th {\n",
              "        vertical-align: top;\n",
              "    }\n",
              "\n",
              "    .dataframe thead th {\n",
              "        text-align: right;\n",
              "    }\n",
              "</style>\n",
              "<table border=\"1\" class=\"dataframe\">\n",
              "  <thead>\n",
              "    <tr style=\"text-align: right;\">\n",
              "      <th></th>\n",
              "      <th>Diabetes_012</th>\n",
              "      <th>HighBP</th>\n",
              "      <th>HighChol</th>\n",
              "      <th>CholCheck</th>\n",
              "      <th>BMI</th>\n",
              "      <th>Smoker</th>\n",
              "      <th>Stroke</th>\n",
              "      <th>HeartDiseaseorAttack</th>\n",
              "      <th>PhysActivity</th>\n",
              "      <th>Fruits</th>\n",
              "      <th>...</th>\n",
              "      <th>NoDocbcCost</th>\n",
              "      <th>GenHlth</th>\n",
              "      <th>MentHlth</th>\n",
              "      <th>PhysHlth</th>\n",
              "      <th>DiffWalk</th>\n",
              "      <th>Sex</th>\n",
              "      <th>Age</th>\n",
              "      <th>Education</th>\n",
              "      <th>Income</th>\n",
              "      <th>ClassName</th>\n",
              "    </tr>\n",
              "  </thead>\n",
              "  <tbody>\n",
              "    <tr>\n",
              "      <th>0</th>\n",
              "      <td>0.0</td>\n",
              "      <td>1.0</td>\n",
              "      <td>1.0</td>\n",
              "      <td>1.0</td>\n",
              "      <td>40.0</td>\n",
              "      <td>1.0</td>\n",
              "      <td>0.0</td>\n",
              "      <td>0.0</td>\n",
              "      <td>0.0</td>\n",
              "      <td>0.0</td>\n",
              "      <td>...</td>\n",
              "      <td>0.0</td>\n",
              "      <td>5.0</td>\n",
              "      <td>18.0</td>\n",
              "      <td>15.0</td>\n",
              "      <td>1.0</td>\n",
              "      <td>0.0</td>\n",
              "      <td>9.0</td>\n",
              "      <td>4.0</td>\n",
              "      <td>3.0</td>\n",
              "      <td>negative</td>\n",
              "    </tr>\n",
              "    <tr>\n",
              "      <th>1</th>\n",
              "      <td>0.0</td>\n",
              "      <td>0.0</td>\n",
              "      <td>0.0</td>\n",
              "      <td>0.0</td>\n",
              "      <td>25.0</td>\n",
              "      <td>1.0</td>\n",
              "      <td>0.0</td>\n",
              "      <td>0.0</td>\n",
              "      <td>1.0</td>\n",
              "      <td>0.0</td>\n",
              "      <td>...</td>\n",
              "      <td>1.0</td>\n",
              "      <td>3.0</td>\n",
              "      <td>0.0</td>\n",
              "      <td>0.0</td>\n",
              "      <td>0.0</td>\n",
              "      <td>0.0</td>\n",
              "      <td>7.0</td>\n",
              "      <td>6.0</td>\n",
              "      <td>1.0</td>\n",
              "      <td>negative</td>\n",
              "    </tr>\n",
              "    <tr>\n",
              "      <th>2</th>\n",
              "      <td>0.0</td>\n",
              "      <td>1.0</td>\n",
              "      <td>1.0</td>\n",
              "      <td>1.0</td>\n",
              "      <td>28.0</td>\n",
              "      <td>0.0</td>\n",
              "      <td>0.0</td>\n",
              "      <td>0.0</td>\n",
              "      <td>0.0</td>\n",
              "      <td>1.0</td>\n",
              "      <td>...</td>\n",
              "      <td>1.0</td>\n",
              "      <td>5.0</td>\n",
              "      <td>30.0</td>\n",
              "      <td>30.0</td>\n",
              "      <td>1.0</td>\n",
              "      <td>0.0</td>\n",
              "      <td>9.0</td>\n",
              "      <td>4.0</td>\n",
              "      <td>8.0</td>\n",
              "      <td>negative</td>\n",
              "    </tr>\n",
              "    <tr>\n",
              "      <th>3</th>\n",
              "      <td>0.0</td>\n",
              "      <td>1.0</td>\n",
              "      <td>0.0</td>\n",
              "      <td>1.0</td>\n",
              "      <td>27.0</td>\n",
              "      <td>0.0</td>\n",
              "      <td>0.0</td>\n",
              "      <td>0.0</td>\n",
              "      <td>1.0</td>\n",
              "      <td>1.0</td>\n",
              "      <td>...</td>\n",
              "      <td>0.0</td>\n",
              "      <td>2.0</td>\n",
              "      <td>0.0</td>\n",
              "      <td>0.0</td>\n",
              "      <td>0.0</td>\n",
              "      <td>0.0</td>\n",
              "      <td>11.0</td>\n",
              "      <td>3.0</td>\n",
              "      <td>6.0</td>\n",
              "      <td>negative</td>\n",
              "    </tr>\n",
              "    <tr>\n",
              "      <th>4</th>\n",
              "      <td>0.0</td>\n",
              "      <td>1.0</td>\n",
              "      <td>1.0</td>\n",
              "      <td>1.0</td>\n",
              "      <td>24.0</td>\n",
              "      <td>0.0</td>\n",
              "      <td>0.0</td>\n",
              "      <td>0.0</td>\n",
              "      <td>1.0</td>\n",
              "      <td>1.0</td>\n",
              "      <td>...</td>\n",
              "      <td>0.0</td>\n",
              "      <td>2.0</td>\n",
              "      <td>3.0</td>\n",
              "      <td>0.0</td>\n",
              "      <td>0.0</td>\n",
              "      <td>0.0</td>\n",
              "      <td>11.0</td>\n",
              "      <td>5.0</td>\n",
              "      <td>4.0</td>\n",
              "      <td>negative</td>\n",
              "    </tr>\n",
              "    <tr>\n",
              "      <th>5</th>\n",
              "      <td>0.0</td>\n",
              "      <td>1.0</td>\n",
              "      <td>1.0</td>\n",
              "      <td>1.0</td>\n",
              "      <td>25.0</td>\n",
              "      <td>1.0</td>\n",
              "      <td>0.0</td>\n",
              "      <td>0.0</td>\n",
              "      <td>1.0</td>\n",
              "      <td>1.0</td>\n",
              "      <td>...</td>\n",
              "      <td>0.0</td>\n",
              "      <td>2.0</td>\n",
              "      <td>0.0</td>\n",
              "      <td>2.0</td>\n",
              "      <td>0.0</td>\n",
              "      <td>1.0</td>\n",
              "      <td>10.0</td>\n",
              "      <td>6.0</td>\n",
              "      <td>8.0</td>\n",
              "      <td>negative</td>\n",
              "    </tr>\n",
              "    <tr>\n",
              "      <th>6</th>\n",
              "      <td>0.0</td>\n",
              "      <td>1.0</td>\n",
              "      <td>0.0</td>\n",
              "      <td>1.0</td>\n",
              "      <td>30.0</td>\n",
              "      <td>1.0</td>\n",
              "      <td>0.0</td>\n",
              "      <td>0.0</td>\n",
              "      <td>0.0</td>\n",
              "      <td>0.0</td>\n",
              "      <td>...</td>\n",
              "      <td>0.0</td>\n",
              "      <td>3.0</td>\n",
              "      <td>0.0</td>\n",
              "      <td>14.0</td>\n",
              "      <td>0.0</td>\n",
              "      <td>0.0</td>\n",
              "      <td>9.0</td>\n",
              "      <td>6.0</td>\n",
              "      <td>7.0</td>\n",
              "      <td>negative</td>\n",
              "    </tr>\n",
              "    <tr>\n",
              "      <th>7</th>\n",
              "      <td>0.0</td>\n",
              "      <td>1.0</td>\n",
              "      <td>1.0</td>\n",
              "      <td>1.0</td>\n",
              "      <td>25.0</td>\n",
              "      <td>1.0</td>\n",
              "      <td>0.0</td>\n",
              "      <td>0.0</td>\n",
              "      <td>1.0</td>\n",
              "      <td>0.0</td>\n",
              "      <td>...</td>\n",
              "      <td>0.0</td>\n",
              "      <td>3.0</td>\n",
              "      <td>0.0</td>\n",
              "      <td>0.0</td>\n",
              "      <td>1.0</td>\n",
              "      <td>0.0</td>\n",
              "      <td>11.0</td>\n",
              "      <td>4.0</td>\n",
              "      <td>4.0</td>\n",
              "      <td>negative</td>\n",
              "    </tr>\n",
              "    <tr>\n",
              "      <th>8</th>\n",
              "      <td>2.0</td>\n",
              "      <td>1.0</td>\n",
              "      <td>1.0</td>\n",
              "      <td>1.0</td>\n",
              "      <td>30.0</td>\n",
              "      <td>1.0</td>\n",
              "      <td>0.0</td>\n",
              "      <td>1.0</td>\n",
              "      <td>0.0</td>\n",
              "      <td>1.0</td>\n",
              "      <td>...</td>\n",
              "      <td>0.0</td>\n",
              "      <td>5.0</td>\n",
              "      <td>30.0</td>\n",
              "      <td>30.0</td>\n",
              "      <td>1.0</td>\n",
              "      <td>0.0</td>\n",
              "      <td>9.0</td>\n",
              "      <td>5.0</td>\n",
              "      <td>1.0</td>\n",
              "      <td>positive</td>\n",
              "    </tr>\n",
              "    <tr>\n",
              "      <th>9</th>\n",
              "      <td>0.0</td>\n",
              "      <td>0.0</td>\n",
              "      <td>0.0</td>\n",
              "      <td>1.0</td>\n",
              "      <td>24.0</td>\n",
              "      <td>0.0</td>\n",
              "      <td>0.0</td>\n",
              "      <td>0.0</td>\n",
              "      <td>0.0</td>\n",
              "      <td>0.0</td>\n",
              "      <td>...</td>\n",
              "      <td>0.0</td>\n",
              "      <td>2.0</td>\n",
              "      <td>0.0</td>\n",
              "      <td>0.0</td>\n",
              "      <td>0.0</td>\n",
              "      <td>1.0</td>\n",
              "      <td>8.0</td>\n",
              "      <td>4.0</td>\n",
              "      <td>3.0</td>\n",
              "      <td>negative</td>\n",
              "    </tr>\n",
              "  </tbody>\n",
              "</table>\n",
              "<p>10 rows × 23 columns</p>\n",
              "</div>\n",
              "    <div class=\"colab-df-buttons\">\n",
              "\n",
              "  <div class=\"colab-df-container\">\n",
              "    <button class=\"colab-df-convert\" onclick=\"convertToInteractive('df-833c0ebd-24db-404a-9862-c8ad0ccc7937')\"\n",
              "            title=\"Convert this dataframe to an interactive table.\"\n",
              "            style=\"display:none;\">\n",
              "\n",
              "  <svg xmlns=\"http://www.w3.org/2000/svg\" height=\"24px\" viewBox=\"0 -960 960 960\">\n",
              "    <path d=\"M120-120v-720h720v720H120Zm60-500h600v-160H180v160Zm220 220h160v-160H400v160Zm0 220h160v-160H400v160ZM180-400h160v-160H180v160Zm440 0h160v-160H620v160ZM180-180h160v-160H180v160Zm440 0h160v-160H620v160Z\"/>\n",
              "  </svg>\n",
              "    </button>\n",
              "\n",
              "  <style>\n",
              "    .colab-df-container {\n",
              "      display:flex;\n",
              "      gap: 12px;\n",
              "    }\n",
              "\n",
              "    .colab-df-convert {\n",
              "      background-color: #E8F0FE;\n",
              "      border: none;\n",
              "      border-radius: 50%;\n",
              "      cursor: pointer;\n",
              "      display: none;\n",
              "      fill: #1967D2;\n",
              "      height: 32px;\n",
              "      padding: 0 0 0 0;\n",
              "      width: 32px;\n",
              "    }\n",
              "\n",
              "    .colab-df-convert:hover {\n",
              "      background-color: #E2EBFA;\n",
              "      box-shadow: 0px 1px 2px rgba(60, 64, 67, 0.3), 0px 1px 3px 1px rgba(60, 64, 67, 0.15);\n",
              "      fill: #174EA6;\n",
              "    }\n",
              "\n",
              "    .colab-df-buttons div {\n",
              "      margin-bottom: 4px;\n",
              "    }\n",
              "\n",
              "    [theme=dark] .colab-df-convert {\n",
              "      background-color: #3B4455;\n",
              "      fill: #D2E3FC;\n",
              "    }\n",
              "\n",
              "    [theme=dark] .colab-df-convert:hover {\n",
              "      background-color: #434B5C;\n",
              "      box-shadow: 0px 1px 3px 1px rgba(0, 0, 0, 0.15);\n",
              "      filter: drop-shadow(0px 1px 2px rgba(0, 0, 0, 0.3));\n",
              "      fill: #FFFFFF;\n",
              "    }\n",
              "  </style>\n",
              "\n",
              "    <script>\n",
              "      const buttonEl =\n",
              "        document.querySelector('#df-833c0ebd-24db-404a-9862-c8ad0ccc7937 button.colab-df-convert');\n",
              "      buttonEl.style.display =\n",
              "        google.colab.kernel.accessAllowed ? 'block' : 'none';\n",
              "\n",
              "      async function convertToInteractive(key) {\n",
              "        const element = document.querySelector('#df-833c0ebd-24db-404a-9862-c8ad0ccc7937');\n",
              "        const dataTable =\n",
              "          await google.colab.kernel.invokeFunction('convertToInteractive',\n",
              "                                                    [key], {});\n",
              "        if (!dataTable) return;\n",
              "\n",
              "        const docLinkHtml = 'Like what you see? Visit the ' +\n",
              "          '<a target=\"_blank\" href=https://colab.research.google.com/notebooks/data_table.ipynb>data table notebook</a>'\n",
              "          + ' to learn more about interactive tables.';\n",
              "        element.innerHTML = '';\n",
              "        dataTable['output_type'] = 'display_data';\n",
              "        await google.colab.output.renderOutput(dataTable, element);\n",
              "        const docLink = document.createElement('div');\n",
              "        docLink.innerHTML = docLinkHtml;\n",
              "        element.appendChild(docLink);\n",
              "      }\n",
              "    </script>\n",
              "  </div>\n",
              "\n",
              "\n",
              "<div id=\"df-b0ca5eb1-da7e-4a8a-9b09-6e41e498cdad\">\n",
              "  <button class=\"colab-df-quickchart\" onclick=\"quickchart('df-b0ca5eb1-da7e-4a8a-9b09-6e41e498cdad')\"\n",
              "            title=\"Suggest charts.\"\n",
              "            style=\"display:none;\">\n",
              "\n",
              "<svg xmlns=\"http://www.w3.org/2000/svg\" height=\"24px\"viewBox=\"0 0 24 24\"\n",
              "     width=\"24px\">\n",
              "    <g>\n",
              "        <path d=\"M19 3H5c-1.1 0-2 .9-2 2v14c0 1.1.9 2 2 2h14c1.1 0 2-.9 2-2V5c0-1.1-.9-2-2-2zM9 17H7v-7h2v7zm4 0h-2V7h2v10zm4 0h-2v-4h2v4z\"/>\n",
              "    </g>\n",
              "</svg>\n",
              "  </button>\n",
              "\n",
              "<style>\n",
              "  .colab-df-quickchart {\n",
              "      --bg-color: #E8F0FE;\n",
              "      --fill-color: #1967D2;\n",
              "      --hover-bg-color: #E2EBFA;\n",
              "      --hover-fill-color: #174EA6;\n",
              "      --disabled-fill-color: #AAA;\n",
              "      --disabled-bg-color: #DDD;\n",
              "  }\n",
              "\n",
              "  [theme=dark] .colab-df-quickchart {\n",
              "      --bg-color: #3B4455;\n",
              "      --fill-color: #D2E3FC;\n",
              "      --hover-bg-color: #434B5C;\n",
              "      --hover-fill-color: #FFFFFF;\n",
              "      --disabled-bg-color: #3B4455;\n",
              "      --disabled-fill-color: #666;\n",
              "  }\n",
              "\n",
              "  .colab-df-quickchart {\n",
              "    background-color: var(--bg-color);\n",
              "    border: none;\n",
              "    border-radius: 50%;\n",
              "    cursor: pointer;\n",
              "    display: none;\n",
              "    fill: var(--fill-color);\n",
              "    height: 32px;\n",
              "    padding: 0;\n",
              "    width: 32px;\n",
              "  }\n",
              "\n",
              "  .colab-df-quickchart:hover {\n",
              "    background-color: var(--hover-bg-color);\n",
              "    box-shadow: 0 1px 2px rgba(60, 64, 67, 0.3), 0 1px 3px 1px rgba(60, 64, 67, 0.15);\n",
              "    fill: var(--button-hover-fill-color);\n",
              "  }\n",
              "\n",
              "  .colab-df-quickchart-complete:disabled,\n",
              "  .colab-df-quickchart-complete:disabled:hover {\n",
              "    background-color: var(--disabled-bg-color);\n",
              "    fill: var(--disabled-fill-color);\n",
              "    box-shadow: none;\n",
              "  }\n",
              "\n",
              "  .colab-df-spinner {\n",
              "    border: 2px solid var(--fill-color);\n",
              "    border-color: transparent;\n",
              "    border-bottom-color: var(--fill-color);\n",
              "    animation:\n",
              "      spin 1s steps(1) infinite;\n",
              "  }\n",
              "\n",
              "  @keyframes spin {\n",
              "    0% {\n",
              "      border-color: transparent;\n",
              "      border-bottom-color: var(--fill-color);\n",
              "      border-left-color: var(--fill-color);\n",
              "    }\n",
              "    20% {\n",
              "      border-color: transparent;\n",
              "      border-left-color: var(--fill-color);\n",
              "      border-top-color: var(--fill-color);\n",
              "    }\n",
              "    30% {\n",
              "      border-color: transparent;\n",
              "      border-left-color: var(--fill-color);\n",
              "      border-top-color: var(--fill-color);\n",
              "      border-right-color: var(--fill-color);\n",
              "    }\n",
              "    40% {\n",
              "      border-color: transparent;\n",
              "      border-right-color: var(--fill-color);\n",
              "      border-top-color: var(--fill-color);\n",
              "    }\n",
              "    60% {\n",
              "      border-color: transparent;\n",
              "      border-right-color: var(--fill-color);\n",
              "    }\n",
              "    80% {\n",
              "      border-color: transparent;\n",
              "      border-right-color: var(--fill-color);\n",
              "      border-bottom-color: var(--fill-color);\n",
              "    }\n",
              "    90% {\n",
              "      border-color: transparent;\n",
              "      border-bottom-color: var(--fill-color);\n",
              "    }\n",
              "  }\n",
              "</style>\n",
              "\n",
              "  <script>\n",
              "    async function quickchart(key) {\n",
              "      const quickchartButtonEl =\n",
              "        document.querySelector('#' + key + ' button');\n",
              "      quickchartButtonEl.disabled = true;  // To prevent multiple clicks.\n",
              "      quickchartButtonEl.classList.add('colab-df-spinner');\n",
              "      try {\n",
              "        const charts = await google.colab.kernel.invokeFunction(\n",
              "            'suggestCharts', [key], {});\n",
              "      } catch (error) {\n",
              "        console.error('Error during call to suggestCharts:', error);\n",
              "      }\n",
              "      quickchartButtonEl.classList.remove('colab-df-spinner');\n",
              "      quickchartButtonEl.classList.add('colab-df-quickchart-complete');\n",
              "    }\n",
              "    (() => {\n",
              "      let quickchartButtonEl =\n",
              "        document.querySelector('#df-b0ca5eb1-da7e-4a8a-9b09-6e41e498cdad button');\n",
              "      quickchartButtonEl.style.display =\n",
              "        google.colab.kernel.accessAllowed ? 'block' : 'none';\n",
              "    })();\n",
              "  </script>\n",
              "</div>\n",
              "    </div>\n",
              "  </div>\n"
            ]
          },
          "metadata": {},
          "execution_count": 111
        }
      ]
    },
    {
      "cell_type": "code",
      "source": [
        "data[['ClassName','Diabetes_012']].head(10)"
      ],
      "metadata": {
        "colab": {
          "base_uri": "https://localhost:8080/",
          "height": 363
        },
        "id": "pH5c-6qkbQsi",
        "outputId": "4c81ce6f-e068-4f5c-c86c-6e85965d2b21"
      },
      "execution_count": null,
      "outputs": [
        {
          "output_type": "execute_result",
          "data": {
            "text/plain": [
              "  ClassName  Diabetes_012\n",
              "0  negative           0.0\n",
              "1  negative           0.0\n",
              "2  negative           0.0\n",
              "3  negative           0.0\n",
              "4  negative           0.0\n",
              "5  negative           0.0\n",
              "6  negative           0.0\n",
              "7  negative           0.0\n",
              "8  positive           2.0\n",
              "9  negative           0.0"
            ],
            "text/html": [
              "\n",
              "  <div id=\"df-241a06f6-55a6-4144-887b-ab0632e645b0\" class=\"colab-df-container\">\n",
              "    <div>\n",
              "<style scoped>\n",
              "    .dataframe tbody tr th:only-of-type {\n",
              "        vertical-align: middle;\n",
              "    }\n",
              "\n",
              "    .dataframe tbody tr th {\n",
              "        vertical-align: top;\n",
              "    }\n",
              "\n",
              "    .dataframe thead th {\n",
              "        text-align: right;\n",
              "    }\n",
              "</style>\n",
              "<table border=\"1\" class=\"dataframe\">\n",
              "  <thead>\n",
              "    <tr style=\"text-align: right;\">\n",
              "      <th></th>\n",
              "      <th>ClassName</th>\n",
              "      <th>Diabetes_012</th>\n",
              "    </tr>\n",
              "  </thead>\n",
              "  <tbody>\n",
              "    <tr>\n",
              "      <th>0</th>\n",
              "      <td>negative</td>\n",
              "      <td>0.0</td>\n",
              "    </tr>\n",
              "    <tr>\n",
              "      <th>1</th>\n",
              "      <td>negative</td>\n",
              "      <td>0.0</td>\n",
              "    </tr>\n",
              "    <tr>\n",
              "      <th>2</th>\n",
              "      <td>negative</td>\n",
              "      <td>0.0</td>\n",
              "    </tr>\n",
              "    <tr>\n",
              "      <th>3</th>\n",
              "      <td>negative</td>\n",
              "      <td>0.0</td>\n",
              "    </tr>\n",
              "    <tr>\n",
              "      <th>4</th>\n",
              "      <td>negative</td>\n",
              "      <td>0.0</td>\n",
              "    </tr>\n",
              "    <tr>\n",
              "      <th>5</th>\n",
              "      <td>negative</td>\n",
              "      <td>0.0</td>\n",
              "    </tr>\n",
              "    <tr>\n",
              "      <th>6</th>\n",
              "      <td>negative</td>\n",
              "      <td>0.0</td>\n",
              "    </tr>\n",
              "    <tr>\n",
              "      <th>7</th>\n",
              "      <td>negative</td>\n",
              "      <td>0.0</td>\n",
              "    </tr>\n",
              "    <tr>\n",
              "      <th>8</th>\n",
              "      <td>positive</td>\n",
              "      <td>2.0</td>\n",
              "    </tr>\n",
              "    <tr>\n",
              "      <th>9</th>\n",
              "      <td>negative</td>\n",
              "      <td>0.0</td>\n",
              "    </tr>\n",
              "  </tbody>\n",
              "</table>\n",
              "</div>\n",
              "    <div class=\"colab-df-buttons\">\n",
              "\n",
              "  <div class=\"colab-df-container\">\n",
              "    <button class=\"colab-df-convert\" onclick=\"convertToInteractive('df-241a06f6-55a6-4144-887b-ab0632e645b0')\"\n",
              "            title=\"Convert this dataframe to an interactive table.\"\n",
              "            style=\"display:none;\">\n",
              "\n",
              "  <svg xmlns=\"http://www.w3.org/2000/svg\" height=\"24px\" viewBox=\"0 -960 960 960\">\n",
              "    <path d=\"M120-120v-720h720v720H120Zm60-500h600v-160H180v160Zm220 220h160v-160H400v160Zm0 220h160v-160H400v160ZM180-400h160v-160H180v160Zm440 0h160v-160H620v160ZM180-180h160v-160H180v160Zm440 0h160v-160H620v160Z\"/>\n",
              "  </svg>\n",
              "    </button>\n",
              "\n",
              "  <style>\n",
              "    .colab-df-container {\n",
              "      display:flex;\n",
              "      gap: 12px;\n",
              "    }\n",
              "\n",
              "    .colab-df-convert {\n",
              "      background-color: #E8F0FE;\n",
              "      border: none;\n",
              "      border-radius: 50%;\n",
              "      cursor: pointer;\n",
              "      display: none;\n",
              "      fill: #1967D2;\n",
              "      height: 32px;\n",
              "      padding: 0 0 0 0;\n",
              "      width: 32px;\n",
              "    }\n",
              "\n",
              "    .colab-df-convert:hover {\n",
              "      background-color: #E2EBFA;\n",
              "      box-shadow: 0px 1px 2px rgba(60, 64, 67, 0.3), 0px 1px 3px 1px rgba(60, 64, 67, 0.15);\n",
              "      fill: #174EA6;\n",
              "    }\n",
              "\n",
              "    .colab-df-buttons div {\n",
              "      margin-bottom: 4px;\n",
              "    }\n",
              "\n",
              "    [theme=dark] .colab-df-convert {\n",
              "      background-color: #3B4455;\n",
              "      fill: #D2E3FC;\n",
              "    }\n",
              "\n",
              "    [theme=dark] .colab-df-convert:hover {\n",
              "      background-color: #434B5C;\n",
              "      box-shadow: 0px 1px 3px 1px rgba(0, 0, 0, 0.15);\n",
              "      filter: drop-shadow(0px 1px 2px rgba(0, 0, 0, 0.3));\n",
              "      fill: #FFFFFF;\n",
              "    }\n",
              "  </style>\n",
              "\n",
              "    <script>\n",
              "      const buttonEl =\n",
              "        document.querySelector('#df-241a06f6-55a6-4144-887b-ab0632e645b0 button.colab-df-convert');\n",
              "      buttonEl.style.display =\n",
              "        google.colab.kernel.accessAllowed ? 'block' : 'none';\n",
              "\n",
              "      async function convertToInteractive(key) {\n",
              "        const element = document.querySelector('#df-241a06f6-55a6-4144-887b-ab0632e645b0');\n",
              "        const dataTable =\n",
              "          await google.colab.kernel.invokeFunction('convertToInteractive',\n",
              "                                                    [key], {});\n",
              "        if (!dataTable) return;\n",
              "\n",
              "        const docLinkHtml = 'Like what you see? Visit the ' +\n",
              "          '<a target=\"_blank\" href=https://colab.research.google.com/notebooks/data_table.ipynb>data table notebook</a>'\n",
              "          + ' to learn more about interactive tables.';\n",
              "        element.innerHTML = '';\n",
              "        dataTable['output_type'] = 'display_data';\n",
              "        await google.colab.output.renderOutput(dataTable, element);\n",
              "        const docLink = document.createElement('div');\n",
              "        docLink.innerHTML = docLinkHtml;\n",
              "        element.appendChild(docLink);\n",
              "      }\n",
              "    </script>\n",
              "  </div>\n",
              "\n",
              "\n",
              "<div id=\"df-3a37ff95-e2d3-4f41-9249-857c93de9d1b\">\n",
              "  <button class=\"colab-df-quickchart\" onclick=\"quickchart('df-3a37ff95-e2d3-4f41-9249-857c93de9d1b')\"\n",
              "            title=\"Suggest charts.\"\n",
              "            style=\"display:none;\">\n",
              "\n",
              "<svg xmlns=\"http://www.w3.org/2000/svg\" height=\"24px\"viewBox=\"0 0 24 24\"\n",
              "     width=\"24px\">\n",
              "    <g>\n",
              "        <path d=\"M19 3H5c-1.1 0-2 .9-2 2v14c0 1.1.9 2 2 2h14c1.1 0 2-.9 2-2V5c0-1.1-.9-2-2-2zM9 17H7v-7h2v7zm4 0h-2V7h2v10zm4 0h-2v-4h2v4z\"/>\n",
              "    </g>\n",
              "</svg>\n",
              "  </button>\n",
              "\n",
              "<style>\n",
              "  .colab-df-quickchart {\n",
              "      --bg-color: #E8F0FE;\n",
              "      --fill-color: #1967D2;\n",
              "      --hover-bg-color: #E2EBFA;\n",
              "      --hover-fill-color: #174EA6;\n",
              "      --disabled-fill-color: #AAA;\n",
              "      --disabled-bg-color: #DDD;\n",
              "  }\n",
              "\n",
              "  [theme=dark] .colab-df-quickchart {\n",
              "      --bg-color: #3B4455;\n",
              "      --fill-color: #D2E3FC;\n",
              "      --hover-bg-color: #434B5C;\n",
              "      --hover-fill-color: #FFFFFF;\n",
              "      --disabled-bg-color: #3B4455;\n",
              "      --disabled-fill-color: #666;\n",
              "  }\n",
              "\n",
              "  .colab-df-quickchart {\n",
              "    background-color: var(--bg-color);\n",
              "    border: none;\n",
              "    border-radius: 50%;\n",
              "    cursor: pointer;\n",
              "    display: none;\n",
              "    fill: var(--fill-color);\n",
              "    height: 32px;\n",
              "    padding: 0;\n",
              "    width: 32px;\n",
              "  }\n",
              "\n",
              "  .colab-df-quickchart:hover {\n",
              "    background-color: var(--hover-bg-color);\n",
              "    box-shadow: 0 1px 2px rgba(60, 64, 67, 0.3), 0 1px 3px 1px rgba(60, 64, 67, 0.15);\n",
              "    fill: var(--button-hover-fill-color);\n",
              "  }\n",
              "\n",
              "  .colab-df-quickchart-complete:disabled,\n",
              "  .colab-df-quickchart-complete:disabled:hover {\n",
              "    background-color: var(--disabled-bg-color);\n",
              "    fill: var(--disabled-fill-color);\n",
              "    box-shadow: none;\n",
              "  }\n",
              "\n",
              "  .colab-df-spinner {\n",
              "    border: 2px solid var(--fill-color);\n",
              "    border-color: transparent;\n",
              "    border-bottom-color: var(--fill-color);\n",
              "    animation:\n",
              "      spin 1s steps(1) infinite;\n",
              "  }\n",
              "\n",
              "  @keyframes spin {\n",
              "    0% {\n",
              "      border-color: transparent;\n",
              "      border-bottom-color: var(--fill-color);\n",
              "      border-left-color: var(--fill-color);\n",
              "    }\n",
              "    20% {\n",
              "      border-color: transparent;\n",
              "      border-left-color: var(--fill-color);\n",
              "      border-top-color: var(--fill-color);\n",
              "    }\n",
              "    30% {\n",
              "      border-color: transparent;\n",
              "      border-left-color: var(--fill-color);\n",
              "      border-top-color: var(--fill-color);\n",
              "      border-right-color: var(--fill-color);\n",
              "    }\n",
              "    40% {\n",
              "      border-color: transparent;\n",
              "      border-right-color: var(--fill-color);\n",
              "      border-top-color: var(--fill-color);\n",
              "    }\n",
              "    60% {\n",
              "      border-color: transparent;\n",
              "      border-right-color: var(--fill-color);\n",
              "    }\n",
              "    80% {\n",
              "      border-color: transparent;\n",
              "      border-right-color: var(--fill-color);\n",
              "      border-bottom-color: var(--fill-color);\n",
              "    }\n",
              "    90% {\n",
              "      border-color: transparent;\n",
              "      border-bottom-color: var(--fill-color);\n",
              "    }\n",
              "  }\n",
              "</style>\n",
              "\n",
              "  <script>\n",
              "    async function quickchart(key) {\n",
              "      const quickchartButtonEl =\n",
              "        document.querySelector('#' + key + ' button');\n",
              "      quickchartButtonEl.disabled = true;  // To prevent multiple clicks.\n",
              "      quickchartButtonEl.classList.add('colab-df-spinner');\n",
              "      try {\n",
              "        const charts = await google.colab.kernel.invokeFunction(\n",
              "            'suggestCharts', [key], {});\n",
              "      } catch (error) {\n",
              "        console.error('Error during call to suggestCharts:', error);\n",
              "      }\n",
              "      quickchartButtonEl.classList.remove('colab-df-spinner');\n",
              "      quickchartButtonEl.classList.add('colab-df-quickchart-complete');\n",
              "    }\n",
              "    (() => {\n",
              "      let quickchartButtonEl =\n",
              "        document.querySelector('#df-3a37ff95-e2d3-4f41-9249-857c93de9d1b button');\n",
              "      quickchartButtonEl.style.display =\n",
              "        google.colab.kernel.accessAllowed ? 'block' : 'none';\n",
              "    })();\n",
              "  </script>\n",
              "</div>\n",
              "    </div>\n",
              "  </div>\n"
            ]
          },
          "metadata": {},
          "execution_count": 112
        }
      ]
    },
    {
      "cell_type": "code",
      "source": [
        "binary_class = {'negative':0,'positive':1}\n",
        "data['Target'] = data['ClassName'].map(binary_class)"
      ],
      "metadata": {
        "id": "EivJYf8BcC4m"
      },
      "execution_count": null,
      "outputs": []
    },
    {
      "cell_type": "code",
      "source": [
        "data[['ClassName','Target']].head(10)"
      ],
      "metadata": {
        "colab": {
          "base_uri": "https://localhost:8080/",
          "height": 363
        },
        "id": "l_qhgOvecl1o",
        "outputId": "5177f98d-06ba-4222-f10e-7f48d7516d74"
      },
      "execution_count": null,
      "outputs": [
        {
          "output_type": "execute_result",
          "data": {
            "text/plain": [
              "  ClassName  Target\n",
              "0  negative       0\n",
              "1  negative       0\n",
              "2  negative       0\n",
              "3  negative       0\n",
              "4  negative       0\n",
              "5  negative       0\n",
              "6  negative       0\n",
              "7  negative       0\n",
              "8  positive       1\n",
              "9  negative       0"
            ],
            "text/html": [
              "\n",
              "  <div id=\"df-048b636a-59fd-4e40-ac73-7f6cb11398f3\" class=\"colab-df-container\">\n",
              "    <div>\n",
              "<style scoped>\n",
              "    .dataframe tbody tr th:only-of-type {\n",
              "        vertical-align: middle;\n",
              "    }\n",
              "\n",
              "    .dataframe tbody tr th {\n",
              "        vertical-align: top;\n",
              "    }\n",
              "\n",
              "    .dataframe thead th {\n",
              "        text-align: right;\n",
              "    }\n",
              "</style>\n",
              "<table border=\"1\" class=\"dataframe\">\n",
              "  <thead>\n",
              "    <tr style=\"text-align: right;\">\n",
              "      <th></th>\n",
              "      <th>ClassName</th>\n",
              "      <th>Target</th>\n",
              "    </tr>\n",
              "  </thead>\n",
              "  <tbody>\n",
              "    <tr>\n",
              "      <th>0</th>\n",
              "      <td>negative</td>\n",
              "      <td>0</td>\n",
              "    </tr>\n",
              "    <tr>\n",
              "      <th>1</th>\n",
              "      <td>negative</td>\n",
              "      <td>0</td>\n",
              "    </tr>\n",
              "    <tr>\n",
              "      <th>2</th>\n",
              "      <td>negative</td>\n",
              "      <td>0</td>\n",
              "    </tr>\n",
              "    <tr>\n",
              "      <th>3</th>\n",
              "      <td>negative</td>\n",
              "      <td>0</td>\n",
              "    </tr>\n",
              "    <tr>\n",
              "      <th>4</th>\n",
              "      <td>negative</td>\n",
              "      <td>0</td>\n",
              "    </tr>\n",
              "    <tr>\n",
              "      <th>5</th>\n",
              "      <td>negative</td>\n",
              "      <td>0</td>\n",
              "    </tr>\n",
              "    <tr>\n",
              "      <th>6</th>\n",
              "      <td>negative</td>\n",
              "      <td>0</td>\n",
              "    </tr>\n",
              "    <tr>\n",
              "      <th>7</th>\n",
              "      <td>negative</td>\n",
              "      <td>0</td>\n",
              "    </tr>\n",
              "    <tr>\n",
              "      <th>8</th>\n",
              "      <td>positive</td>\n",
              "      <td>1</td>\n",
              "    </tr>\n",
              "    <tr>\n",
              "      <th>9</th>\n",
              "      <td>negative</td>\n",
              "      <td>0</td>\n",
              "    </tr>\n",
              "  </tbody>\n",
              "</table>\n",
              "</div>\n",
              "    <div class=\"colab-df-buttons\">\n",
              "\n",
              "  <div class=\"colab-df-container\">\n",
              "    <button class=\"colab-df-convert\" onclick=\"convertToInteractive('df-048b636a-59fd-4e40-ac73-7f6cb11398f3')\"\n",
              "            title=\"Convert this dataframe to an interactive table.\"\n",
              "            style=\"display:none;\">\n",
              "\n",
              "  <svg xmlns=\"http://www.w3.org/2000/svg\" height=\"24px\" viewBox=\"0 -960 960 960\">\n",
              "    <path d=\"M120-120v-720h720v720H120Zm60-500h600v-160H180v160Zm220 220h160v-160H400v160Zm0 220h160v-160H400v160ZM180-400h160v-160H180v160Zm440 0h160v-160H620v160ZM180-180h160v-160H180v160Zm440 0h160v-160H620v160Z\"/>\n",
              "  </svg>\n",
              "    </button>\n",
              "\n",
              "  <style>\n",
              "    .colab-df-container {\n",
              "      display:flex;\n",
              "      gap: 12px;\n",
              "    }\n",
              "\n",
              "    .colab-df-convert {\n",
              "      background-color: #E8F0FE;\n",
              "      border: none;\n",
              "      border-radius: 50%;\n",
              "      cursor: pointer;\n",
              "      display: none;\n",
              "      fill: #1967D2;\n",
              "      height: 32px;\n",
              "      padding: 0 0 0 0;\n",
              "      width: 32px;\n",
              "    }\n",
              "\n",
              "    .colab-df-convert:hover {\n",
              "      background-color: #E2EBFA;\n",
              "      box-shadow: 0px 1px 2px rgba(60, 64, 67, 0.3), 0px 1px 3px 1px rgba(60, 64, 67, 0.15);\n",
              "      fill: #174EA6;\n",
              "    }\n",
              "\n",
              "    .colab-df-buttons div {\n",
              "      margin-bottom: 4px;\n",
              "    }\n",
              "\n",
              "    [theme=dark] .colab-df-convert {\n",
              "      background-color: #3B4455;\n",
              "      fill: #D2E3FC;\n",
              "    }\n",
              "\n",
              "    [theme=dark] .colab-df-convert:hover {\n",
              "      background-color: #434B5C;\n",
              "      box-shadow: 0px 1px 3px 1px rgba(0, 0, 0, 0.15);\n",
              "      filter: drop-shadow(0px 1px 2px rgba(0, 0, 0, 0.3));\n",
              "      fill: #FFFFFF;\n",
              "    }\n",
              "  </style>\n",
              "\n",
              "    <script>\n",
              "      const buttonEl =\n",
              "        document.querySelector('#df-048b636a-59fd-4e40-ac73-7f6cb11398f3 button.colab-df-convert');\n",
              "      buttonEl.style.display =\n",
              "        google.colab.kernel.accessAllowed ? 'block' : 'none';\n",
              "\n",
              "      async function convertToInteractive(key) {\n",
              "        const element = document.querySelector('#df-048b636a-59fd-4e40-ac73-7f6cb11398f3');\n",
              "        const dataTable =\n",
              "          await google.colab.kernel.invokeFunction('convertToInteractive',\n",
              "                                                    [key], {});\n",
              "        if (!dataTable) return;\n",
              "\n",
              "        const docLinkHtml = 'Like what you see? Visit the ' +\n",
              "          '<a target=\"_blank\" href=https://colab.research.google.com/notebooks/data_table.ipynb>data table notebook</a>'\n",
              "          + ' to learn more about interactive tables.';\n",
              "        element.innerHTML = '';\n",
              "        dataTable['output_type'] = 'display_data';\n",
              "        await google.colab.output.renderOutput(dataTable, element);\n",
              "        const docLink = document.createElement('div');\n",
              "        docLink.innerHTML = docLinkHtml;\n",
              "        element.appendChild(docLink);\n",
              "      }\n",
              "    </script>\n",
              "  </div>\n",
              "\n",
              "\n",
              "<div id=\"df-2b10e52c-fe62-4d5e-a044-129346da8526\">\n",
              "  <button class=\"colab-df-quickchart\" onclick=\"quickchart('df-2b10e52c-fe62-4d5e-a044-129346da8526')\"\n",
              "            title=\"Suggest charts.\"\n",
              "            style=\"display:none;\">\n",
              "\n",
              "<svg xmlns=\"http://www.w3.org/2000/svg\" height=\"24px\"viewBox=\"0 0 24 24\"\n",
              "     width=\"24px\">\n",
              "    <g>\n",
              "        <path d=\"M19 3H5c-1.1 0-2 .9-2 2v14c0 1.1.9 2 2 2h14c1.1 0 2-.9 2-2V5c0-1.1-.9-2-2-2zM9 17H7v-7h2v7zm4 0h-2V7h2v10zm4 0h-2v-4h2v4z\"/>\n",
              "    </g>\n",
              "</svg>\n",
              "  </button>\n",
              "\n",
              "<style>\n",
              "  .colab-df-quickchart {\n",
              "      --bg-color: #E8F0FE;\n",
              "      --fill-color: #1967D2;\n",
              "      --hover-bg-color: #E2EBFA;\n",
              "      --hover-fill-color: #174EA6;\n",
              "      --disabled-fill-color: #AAA;\n",
              "      --disabled-bg-color: #DDD;\n",
              "  }\n",
              "\n",
              "  [theme=dark] .colab-df-quickchart {\n",
              "      --bg-color: #3B4455;\n",
              "      --fill-color: #D2E3FC;\n",
              "      --hover-bg-color: #434B5C;\n",
              "      --hover-fill-color: #FFFFFF;\n",
              "      --disabled-bg-color: #3B4455;\n",
              "      --disabled-fill-color: #666;\n",
              "  }\n",
              "\n",
              "  .colab-df-quickchart {\n",
              "    background-color: var(--bg-color);\n",
              "    border: none;\n",
              "    border-radius: 50%;\n",
              "    cursor: pointer;\n",
              "    display: none;\n",
              "    fill: var(--fill-color);\n",
              "    height: 32px;\n",
              "    padding: 0;\n",
              "    width: 32px;\n",
              "  }\n",
              "\n",
              "  .colab-df-quickchart:hover {\n",
              "    background-color: var(--hover-bg-color);\n",
              "    box-shadow: 0 1px 2px rgba(60, 64, 67, 0.3), 0 1px 3px 1px rgba(60, 64, 67, 0.15);\n",
              "    fill: var(--button-hover-fill-color);\n",
              "  }\n",
              "\n",
              "  .colab-df-quickchart-complete:disabled,\n",
              "  .colab-df-quickchart-complete:disabled:hover {\n",
              "    background-color: var(--disabled-bg-color);\n",
              "    fill: var(--disabled-fill-color);\n",
              "    box-shadow: none;\n",
              "  }\n",
              "\n",
              "  .colab-df-spinner {\n",
              "    border: 2px solid var(--fill-color);\n",
              "    border-color: transparent;\n",
              "    border-bottom-color: var(--fill-color);\n",
              "    animation:\n",
              "      spin 1s steps(1) infinite;\n",
              "  }\n",
              "\n",
              "  @keyframes spin {\n",
              "    0% {\n",
              "      border-color: transparent;\n",
              "      border-bottom-color: var(--fill-color);\n",
              "      border-left-color: var(--fill-color);\n",
              "    }\n",
              "    20% {\n",
              "      border-color: transparent;\n",
              "      border-left-color: var(--fill-color);\n",
              "      border-top-color: var(--fill-color);\n",
              "    }\n",
              "    30% {\n",
              "      border-color: transparent;\n",
              "      border-left-color: var(--fill-color);\n",
              "      border-top-color: var(--fill-color);\n",
              "      border-right-color: var(--fill-color);\n",
              "    }\n",
              "    40% {\n",
              "      border-color: transparent;\n",
              "      border-right-color: var(--fill-color);\n",
              "      border-top-color: var(--fill-color);\n",
              "    }\n",
              "    60% {\n",
              "      border-color: transparent;\n",
              "      border-right-color: var(--fill-color);\n",
              "    }\n",
              "    80% {\n",
              "      border-color: transparent;\n",
              "      border-right-color: var(--fill-color);\n",
              "      border-bottom-color: var(--fill-color);\n",
              "    }\n",
              "    90% {\n",
              "      border-color: transparent;\n",
              "      border-bottom-color: var(--fill-color);\n",
              "    }\n",
              "  }\n",
              "</style>\n",
              "\n",
              "  <script>\n",
              "    async function quickchart(key) {\n",
              "      const quickchartButtonEl =\n",
              "        document.querySelector('#' + key + ' button');\n",
              "      quickchartButtonEl.disabled = true;  // To prevent multiple clicks.\n",
              "      quickchartButtonEl.classList.add('colab-df-spinner');\n",
              "      try {\n",
              "        const charts = await google.colab.kernel.invokeFunction(\n",
              "            'suggestCharts', [key], {});\n",
              "      } catch (error) {\n",
              "        console.error('Error during call to suggestCharts:', error);\n",
              "      }\n",
              "      quickchartButtonEl.classList.remove('colab-df-spinner');\n",
              "      quickchartButtonEl.classList.add('colab-df-quickchart-complete');\n",
              "    }\n",
              "    (() => {\n",
              "      let quickchartButtonEl =\n",
              "        document.querySelector('#df-2b10e52c-fe62-4d5e-a044-129346da8526 button');\n",
              "      quickchartButtonEl.style.display =\n",
              "        google.colab.kernel.accessAllowed ? 'block' : 'none';\n",
              "    })();\n",
              "  </script>\n",
              "</div>\n",
              "    </div>\n",
              "  </div>\n"
            ]
          },
          "metadata": {},
          "execution_count": 114
        }
      ]
    },
    {
      "cell_type": "code",
      "source": [
        "data.info()"
      ],
      "metadata": {
        "colab": {
          "base_uri": "https://localhost:8080/"
        },
        "id": "ixc09QyRlPrV",
        "outputId": "5aece1ee-8e3e-4f10-c8b6-00a70ad4c3ba"
      },
      "execution_count": null,
      "outputs": [
        {
          "output_type": "stream",
          "name": "stdout",
          "text": [
            "<class 'pandas.core.frame.DataFrame'>\n",
            "RangeIndex: 253680 entries, 0 to 253679\n",
            "Data columns (total 24 columns):\n",
            " #   Column                Non-Null Count   Dtype  \n",
            "---  ------                --------------   -----  \n",
            " 0   Diabetes_012          253680 non-null  float64\n",
            " 1   HighBP                253680 non-null  float64\n",
            " 2   HighChol              253680 non-null  float64\n",
            " 3   CholCheck             253680 non-null  float64\n",
            " 4   BMI                   253680 non-null  float64\n",
            " 5   Smoker                253680 non-null  float64\n",
            " 6   Stroke                253680 non-null  float64\n",
            " 7   HeartDiseaseorAttack  253680 non-null  float64\n",
            " 8   PhysActivity          253680 non-null  float64\n",
            " 9   Fruits                253680 non-null  float64\n",
            " 10  Veggies               253680 non-null  float64\n",
            " 11  HvyAlcoholConsump     253680 non-null  float64\n",
            " 12  AnyHealthcare         253680 non-null  float64\n",
            " 13  NoDocbcCost           253680 non-null  float64\n",
            " 14  GenHlth               253680 non-null  float64\n",
            " 15  MentHlth              253680 non-null  float64\n",
            " 16  PhysHlth              253680 non-null  float64\n",
            " 17  DiffWalk              253680 non-null  float64\n",
            " 18  Sex                   253680 non-null  float64\n",
            " 19  Age                   253680 non-null  float64\n",
            " 20  Education             253680 non-null  float64\n",
            " 21  Income                253680 non-null  float64\n",
            " 22  ClassName             253680 non-null  object \n",
            " 23  Target                253680 non-null  int64  \n",
            "dtypes: float64(22), int64(1), object(1)\n",
            "memory usage: 46.5+ MB\n"
          ]
        }
      ]
    },
    {
      "cell_type": "code",
      "source": [
        "X = data.drop(['ClassName','Target'], axis=1)\n",
        "y = data['Target']"
      ],
      "metadata": {
        "id": "Six3jVQXdsXV"
      },
      "execution_count": null,
      "outputs": []
    },
    {
      "cell_type": "code",
      "source": [
        "min_max_scaler = MinMaxScaler()\n",
        "X = min_max_scaler.fit_transform(X)"
      ],
      "metadata": {
        "id": "cSHxghL-zgLj"
      },
      "execution_count": null,
      "outputs": []
    },
    {
      "cell_type": "code",
      "source": [
        "X_train, X_test, y_train, y_test = train_test_split(X, y, test_size = 0.2,random_state = 1)"
      ],
      "metadata": {
        "id": "cy6voUHHmHhA"
      },
      "execution_count": null,
      "outputs": []
    },
    {
      "cell_type": "code",
      "source": [
        "X_train, X_val, y_train, y_val = train_test_split(X_train, y_train, stratify=y_train, test_size = 0.2, random_state = 0)"
      ],
      "metadata": {
        "id": "hNVk2yVjeLcC"
      },
      "execution_count": null,
      "outputs": []
    },
    {
      "cell_type": "code",
      "source": [
        "print(f'Размер исходного набора: {X.shape}')\n",
        "print(f'Размер обучающего набора: {X_train.shape}')\n",
        "print(f'Размер тестового набора: {X_val.shape}')"
      ],
      "metadata": {
        "colab": {
          "base_uri": "https://localhost:8080/"
        },
        "id": "j83ePrmEmN0e",
        "outputId": "d26edab9-b886-4dbc-8cc2-0a008dce68b3"
      },
      "execution_count": null,
      "outputs": [
        {
          "output_type": "stream",
          "name": "stdout",
          "text": [
            "Размер исходного набора: (253680, 22)\n",
            "Размер обучающего набора: (162355, 22)\n",
            "Размер тестового набора: (40589, 22)\n"
          ]
        }
      ]
    },
    {
      "cell_type": "markdown",
      "source": [
        "## **Использовать Logistic Regression**"
      ],
      "metadata": {
        "id": "58aAQ-ZJg0wI"
      }
    },
    {
      "cell_type": "code",
      "source": [
        "model = LogisticRegression(C=0.01)\n",
        "model.fit(X_train, y_train)"
      ],
      "metadata": {
        "colab": {
          "base_uri": "https://localhost:8080/",
          "height": 75
        },
        "id": "PFe_cTCVg1T-",
        "outputId": "12065878-6cfa-48c1-8e3e-058556efb039"
      },
      "execution_count": null,
      "outputs": [
        {
          "output_type": "execute_result",
          "data": {
            "text/plain": [
              "LogisticRegression(C=0.01)"
            ],
            "text/html": [
              "<style>#sk-container-id-4 {color: black;background-color: white;}#sk-container-id-4 pre{padding: 0;}#sk-container-id-4 div.sk-toggleable {background-color: white;}#sk-container-id-4 label.sk-toggleable__label {cursor: pointer;display: block;width: 100%;margin-bottom: 0;padding: 0.3em;box-sizing: border-box;text-align: center;}#sk-container-id-4 label.sk-toggleable__label-arrow:before {content: \"▸\";float: left;margin-right: 0.25em;color: #696969;}#sk-container-id-4 label.sk-toggleable__label-arrow:hover:before {color: black;}#sk-container-id-4 div.sk-estimator:hover label.sk-toggleable__label-arrow:before {color: black;}#sk-container-id-4 div.sk-toggleable__content {max-height: 0;max-width: 0;overflow: hidden;text-align: left;background-color: #f0f8ff;}#sk-container-id-4 div.sk-toggleable__content pre {margin: 0.2em;color: black;border-radius: 0.25em;background-color: #f0f8ff;}#sk-container-id-4 input.sk-toggleable__control:checked~div.sk-toggleable__content {max-height: 200px;max-width: 100%;overflow: auto;}#sk-container-id-4 input.sk-toggleable__control:checked~label.sk-toggleable__label-arrow:before {content: \"▾\";}#sk-container-id-4 div.sk-estimator input.sk-toggleable__control:checked~label.sk-toggleable__label {background-color: #d4ebff;}#sk-container-id-4 div.sk-label input.sk-toggleable__control:checked~label.sk-toggleable__label {background-color: #d4ebff;}#sk-container-id-4 input.sk-hidden--visually {border: 0;clip: rect(1px 1px 1px 1px);clip: rect(1px, 1px, 1px, 1px);height: 1px;margin: -1px;overflow: hidden;padding: 0;position: absolute;width: 1px;}#sk-container-id-4 div.sk-estimator {font-family: monospace;background-color: #f0f8ff;border: 1px dotted black;border-radius: 0.25em;box-sizing: border-box;margin-bottom: 0.5em;}#sk-container-id-4 div.sk-estimator:hover {background-color: #d4ebff;}#sk-container-id-4 div.sk-parallel-item::after {content: \"\";width: 100%;border-bottom: 1px solid gray;flex-grow: 1;}#sk-container-id-4 div.sk-label:hover label.sk-toggleable__label {background-color: #d4ebff;}#sk-container-id-4 div.sk-serial::before {content: \"\";position: absolute;border-left: 1px solid gray;box-sizing: border-box;top: 0;bottom: 0;left: 50%;z-index: 0;}#sk-container-id-4 div.sk-serial {display: flex;flex-direction: column;align-items: center;background-color: white;padding-right: 0.2em;padding-left: 0.2em;position: relative;}#sk-container-id-4 div.sk-item {position: relative;z-index: 1;}#sk-container-id-4 div.sk-parallel {display: flex;align-items: stretch;justify-content: center;background-color: white;position: relative;}#sk-container-id-4 div.sk-item::before, #sk-container-id-4 div.sk-parallel-item::before {content: \"\";position: absolute;border-left: 1px solid gray;box-sizing: border-box;top: 0;bottom: 0;left: 50%;z-index: -1;}#sk-container-id-4 div.sk-parallel-item {display: flex;flex-direction: column;z-index: 1;position: relative;background-color: white;}#sk-container-id-4 div.sk-parallel-item:first-child::after {align-self: flex-end;width: 50%;}#sk-container-id-4 div.sk-parallel-item:last-child::after {align-self: flex-start;width: 50%;}#sk-container-id-4 div.sk-parallel-item:only-child::after {width: 0;}#sk-container-id-4 div.sk-dashed-wrapped {border: 1px dashed gray;margin: 0 0.4em 0.5em 0.4em;box-sizing: border-box;padding-bottom: 0.4em;background-color: white;}#sk-container-id-4 div.sk-label label {font-family: monospace;font-weight: bold;display: inline-block;line-height: 1.2em;}#sk-container-id-4 div.sk-label-container {text-align: center;}#sk-container-id-4 div.sk-container {/* jupyter's `normalize.less` sets `[hidden] { display: none; }` but bootstrap.min.css set `[hidden] { display: none !important; }` so we also need the `!important` here to be able to override the default hidden behavior on the sphinx rendered scikit-learn.org. See: https://github.com/scikit-learn/scikit-learn/issues/21755 */display: inline-block !important;position: relative;}#sk-container-id-4 div.sk-text-repr-fallback {display: none;}</style><div id=\"sk-container-id-4\" class=\"sk-top-container\"><div class=\"sk-text-repr-fallback\"><pre>LogisticRegression(C=0.01)</pre><b>In a Jupyter environment, please rerun this cell to show the HTML representation or trust the notebook. <br />On GitHub, the HTML representation is unable to render, please try loading this page with nbviewer.org.</b></div><div class=\"sk-container\" hidden><div class=\"sk-item\"><div class=\"sk-estimator sk-toggleable\"><input class=\"sk-toggleable__control sk-hidden--visually\" id=\"sk-estimator-id-4\" type=\"checkbox\" checked><label for=\"sk-estimator-id-4\" class=\"sk-toggleable__label sk-toggleable__label-arrow\">LogisticRegression</label><div class=\"sk-toggleable__content\"><pre>LogisticRegression(C=0.01)</pre></div></div></div></div></div>"
            ]
          },
          "metadata": {},
          "execution_count": 175
        }
      ]
    },
    {
      "cell_type": "code",
      "source": [
        "y_prediction = model.predict(X_test)"
      ],
      "metadata": {
        "id": "QpmyUbeTg4-k"
      },
      "execution_count": null,
      "outputs": []
    },
    {
      "cell_type": "code",
      "source": [
        "y_test"
      ],
      "metadata": {
        "colab": {
          "base_uri": "https://localhost:8080/"
        },
        "id": "b5fnjHW5g42Z",
        "outputId": "0463f129-1fff-476e-e7ae-ebcc8bafe5a6"
      },
      "execution_count": null,
      "outputs": [
        {
          "output_type": "execute_result",
          "data": {
            "text/plain": [
              "235899    0\n",
              "74852     1\n",
              "8205      0\n",
              "127632    1\n",
              "32021     0\n",
              "         ..\n",
              "52177     0\n",
              "94042     1\n",
              "188075    0\n",
              "16561     0\n",
              "38201     0\n",
              "Name: Target, Length: 50736, dtype: int64"
            ]
          },
          "metadata": {},
          "execution_count": 177
        }
      ]
    },
    {
      "cell_type": "code",
      "source": [
        "y_prediction"
      ],
      "metadata": {
        "colab": {
          "base_uri": "https://localhost:8080/"
        },
        "id": "F7epf4nvg4yJ",
        "outputId": "0856dc4f-c025-4fa8-8221-f880a9a89f09"
      },
      "execution_count": null,
      "outputs": [
        {
          "output_type": "execute_result",
          "data": {
            "text/plain": [
              "array([0, 1, 0, ..., 0, 0, 0])"
            ]
          },
          "metadata": {},
          "execution_count": 178
        }
      ]
    },
    {
      "cell_type": "markdown",
      "source": [
        "### **Recall, Precision, Weighted Accuracy, & AUC**"
      ],
      "metadata": {
        "id": "zRhpWjHy9jdq"
      }
    },
    {
      "cell_type": "code",
      "source": [
        "recall = \"{:.2f}\".format(recall_score(y_test, y_prediction, average='weighted'))\n",
        "precision = \"{:.2f}\".format(precision_score(y_test, y_prediction, average='weighted'))\n",
        "weighted_accuracy = \"{:.2f}\".format(accuracy_score(y_test, y_prediction))\n",
        "auc = \"{:.2f}\".format(roc_auc_score(y_test, y_prediction))\n",
        "\n",
        "print(f\"Recall: {recall}\")\n",
        "print(f\"Precision: {precision}\")\n",
        "print(f\"Weighted Accuracy: {weighted_accuracy}\")\n",
        "print(f\"AUC: {auc}\")"
      ],
      "metadata": {
        "colab": {
          "base_uri": "https://localhost:8080/"
        },
        "id": "4pc8whKug4oW",
        "outputId": "48c7c764-b481-43a6-fe7d-b632ed04e7e2"
      },
      "execution_count": null,
      "outputs": [
        {
          "output_type": "stream",
          "name": "stdout",
          "text": [
            "Recall: 1.00\n",
            "Precision: 1.00\n",
            "Weighted Accuracy: 1.00\n",
            "AUC: 0.99\n"
          ]
        }
      ]
    },
    {
      "cell_type": "markdown",
      "source": [
        "## **Использовать Tensorflow**"
      ],
      "metadata": {
        "id": "xt7War18gx8c"
      }
    },
    {
      "cell_type": "code",
      "source": [
        "binary_model = tf.keras.Sequential([\n",
        "    tf.keras.layers.Dense(4,activation='relu',input_dim=22),\n",
        "    tf.keras.layers.Dense(1, activation='sigmoid')\n",
        "])"
      ],
      "metadata": {
        "id": "V_bXZmg6eUI5"
      },
      "execution_count": null,
      "outputs": []
    },
    {
      "cell_type": "code",
      "source": [
        "binary_model.summary()"
      ],
      "metadata": {
        "colab": {
          "base_uri": "https://localhost:8080/"
        },
        "id": "AEcoqvFdeb4I",
        "outputId": "47489e25-8f1b-4725-eeb7-4ef3f7b26bd1"
      },
      "execution_count": null,
      "outputs": [
        {
          "output_type": "stream",
          "name": "stdout",
          "text": [
            "Model: \"sequential_1\"\n",
            "_________________________________________________________________\n",
            " Layer (type)                Output Shape              Param #   \n",
            "=================================================================\n",
            " dense_2 (Dense)             (None, 4)                 92        \n",
            "                                                                 \n",
            " dense_3 (Dense)             (None, 1)                 5         \n",
            "                                                                 \n",
            "=================================================================\n",
            "Total params: 97 (388.00 Byte)\n",
            "Trainable params: 97 (388.00 Byte)\n",
            "Non-trainable params: 0 (0.00 Byte)\n",
            "_________________________________________________________________\n"
          ]
        }
      ]
    },
    {
      "cell_type": "code",
      "source": [
        "binary_model.compile(loss='binary_crossentropy',\n",
        "                     optimizer='adam',\n",
        "                      metrics='accuracy')"
      ],
      "metadata": {
        "id": "zARqZgBrebx4"
      },
      "execution_count": null,
      "outputs": []
    },
    {
      "cell_type": "code",
      "source": [
        "binary_model_history = binary_model.fit(X_train, y_train,\n",
        "                      validation_data=(X_val,y_val),\n",
        "                      batch_size=100, epochs=3)"
      ],
      "metadata": {
        "colab": {
          "base_uri": "https://localhost:8080/"
        },
        "id": "6H2Tft4oehP6",
        "outputId": "97ab8bf8-06cb-43df-9579-b9f3fbf8cd44"
      },
      "execution_count": null,
      "outputs": [
        {
          "output_type": "stream",
          "name": "stdout",
          "text": [
            "Epoch 1/3\n",
            "1624/1624 [==============================] - 4s 2ms/step - loss: 0.1823 - accuracy: 0.9305 - val_loss: 0.0802 - val_accuracy: 0.9821\n",
            "Epoch 2/3\n",
            "1624/1624 [==============================] - 5s 3ms/step - loss: 0.0490 - accuracy: 0.9917 - val_loss: 0.0272 - val_accuracy: 0.9996\n",
            "Epoch 3/3\n",
            "1624/1624 [==============================] - 4s 2ms/step - loss: 0.0169 - accuracy: 0.9999 - val_loss: 0.0101 - val_accuracy: 1.0000\n"
          ]
        }
      ]
    },
    {
      "cell_type": "markdown",
      "source": [
        "### **Recall, Precision, Weighted Accuracy, & AUC**"
      ],
      "metadata": {
        "id": "3Wc6F86Z9ckF"
      }
    },
    {
      "cell_type": "code",
      "source": [
        "y_prob = binary_model.predict(X_test)\n",
        "y_pred = (y_prob > 0.5).astype(int)\n",
        "\n",
        "recall = recall_score(y_test, y_pred, average='weighted')\n",
        "precision = precision_score(y_test, y_pred, average='weighted')\n",
        "weighted_accuracy = accuracy_score(y_test, y_pred)\n",
        "auc = roc_auc_score(y_test, y_prob)\n",
        "\n",
        "print(f\"Recall: {recall:.2f}\")\n",
        "print(f\"Precision: {precision:.2f}\")\n",
        "print(f\"Weighted Accuracy: {weighted_accuracy:.2f}\")\n",
        "print(f\"AUC: {auc:.2f}\")"
      ],
      "metadata": {
        "colab": {
          "base_uri": "https://localhost:8080/"
        },
        "id": "TCw7GYAs9Igw",
        "outputId": "3750134d-1281-4ed7-aa45-1d51ad739bcc"
      },
      "execution_count": null,
      "outputs": [
        {
          "output_type": "stream",
          "name": "stdout",
          "text": [
            "1586/1586 [==============================] - 2s 1ms/step\n",
            "Recall: 1.00\n",
            "Precision: 1.00\n",
            "Weighted Accuracy: 1.00\n",
            "AUC: 1.00\n"
          ]
        }
      ]
    },
    {
      "cell_type": "code",
      "source": [
        "acc = binary_model_history.history['accuracy']\n",
        "val_acc = binary_model_history.history['val_accuracy']\n",
        "epochs = range(1,len(acc)+1)\n",
        "\n",
        "plt.title('Accuracy')\n",
        "plt.plot(epochs,acc,label='Train')\n",
        "plt.plot(epochs,val_acc,color='red',label='Validation')\n",
        "plt.xlabel('Epochs')\n",
        "plt.ylabel('Accuracy')\n",
        "plt.legend()\n",
        "plt.show()"
      ],
      "metadata": {
        "colab": {
          "base_uri": "https://localhost:8080/",
          "height": 472
        },
        "id": "J0h_2NSyf8Qk",
        "outputId": "43356c02-99df-44ea-84f2-6808384ed6d4"
      },
      "execution_count": null,
      "outputs": [
        {
          "output_type": "display_data",
          "data": {
            "text/plain": [
              "<Figure size 640x480 with 1 Axes>"
            ],
            "image/png": "[encoded data removed]"
          },
          "metadata": {}
        }
      ]
    },
    {
      "cell_type": "code",
      "source": [
        "loss_function = binary_model_history.history['loss']\n",
        "val_loss_function = binary_model_history.history['val_loss']\n",
        "epochs = range(1,len(loss_function)+1)\n",
        "\n",
        "plt.title('Loss')\n",
        "plt.plot(epochs,loss_function,label='Train')\n",
        "plt.plot(epochs,val_loss_function,color='red',label='Validation')\n",
        "plt.xlabel('Epochs')\n",
        "plt.ylabel('Loss function')\n",
        "plt.legend()\n",
        "plt.show()"
      ],
      "metadata": {
        "colab": {
          "base_uri": "https://localhost:8080/",
          "height": 472
        },
        "id": "tzathv72gABj",
        "outputId": "57e6c846-54b6-4bb8-f9e2-bb957f06e7da"
      },
      "execution_count": null,
      "outputs": [
        {
          "output_type": "display_data",
          "data": {
            "text/plain": [
              "<Figure size 640x480 with 1 Axes>"
            ],
            "image/png": "[encoded data removed]"
          },
          "metadata": {}
        }
      ]
    },
    {
      "cell_type": "markdown",
      "source": [
        "# **Многоклассовый классификатор**"
      ],
      "metadata": {
        "id": "2INbRqNSE1YP"
      }
    },
    {
      "cell_type": "code",
      "source": [
        "data = pd.read_csv(\"/content/gdrive/My Drive/Colab Notebooks/Neural Network/bodyPerformance.csv\",sep=',')\n",
        "data.head()"
      ],
      "metadata": {
        "id": "QWcWqGqgE74-",
        "colab": {
          "base_uri": "https://localhost:8080/",
          "height": 206
        },
        "outputId": "bb338ae9-25b0-4153-aea1-e1fdb2fcf0b0"
      },
      "execution_count": 3,
      "outputs": [
        {
          "output_type": "execute_result",
          "data": {
            "text/plain": [
              "    age gender  height_cm  weight_kg  body fat_%  diastolic  systolic  \\\n",
              "0  27.0      M      172.3      75.24        21.3       80.0     130.0   \n",
              "1  25.0      M      165.0      55.80        15.7       77.0     126.0   \n",
              "2  31.0      M      179.6      78.00        20.1       92.0     152.0   \n",
              "3  32.0      M      174.5      71.10        18.4       76.0     147.0   \n",
              "4  28.0      M      173.8      67.70        17.1       70.0     127.0   \n",
              "\n",
              "   gripForce  sit and bend forward_cm  sit-ups counts  broad jump_cm class  \n",
              "0       54.9                     18.4            60.0          217.0     C  \n",
              "1       36.4                     16.3            53.0          229.0     A  \n",
              "2       44.8                     12.0            49.0          181.0     C  \n",
              "3       41.4                     15.2            53.0          219.0     B  \n",
              "4       43.5                     27.1            45.0          217.0     B  "
            ],
            "text/html": [
              "\n",
              "  <div id=\"df-f29df318-fb2f-4980-a2ca-550a9cde0539\" class=\"colab-df-container\">\n",
              "    <div>\n",
              "<style scoped>\n",
              "    .dataframe tbody tr th:only-of-type {\n",
              "        vertical-align: middle;\n",
              "    }\n",
              "\n",
              "    .dataframe tbody tr th {\n",
              "        vertical-align: top;\n",
              "    }\n",
              "\n",
              "    .dataframe thead th {\n",
              "        text-align: right;\n",
              "    }\n",
              "</style>\n",
              "<table border=\"1\" class=\"dataframe\">\n",
              "  <thead>\n",
              "    <tr style=\"text-align: right;\">\n",
              "      <th></th>\n",
              "      <th>age</th>\n",
              "      <th>gender</th>\n",
              "      <th>height_cm</th>\n",
              "      <th>weight_kg</th>\n",
              "      <th>body fat_%</th>\n",
              "      <th>diastolic</th>\n",
              "      <th>systolic</th>\n",
              "      <th>gripForce</th>\n",
              "      <th>sit and bend forward_cm</th>\n",
              "      <th>sit-ups counts</th>\n",
              "      <th>broad jump_cm</th>\n",
              "      <th>class</th>\n",
              "    </tr>\n",
              "  </thead>\n",
              "  <tbody>\n",
              "    <tr>\n",
              "      <th>0</th>\n",
              "      <td>27.0</td>\n",
              "      <td>M</td>\n",
              "      <td>172.3</td>\n",
              "      <td>75.24</td>\n",
              "      <td>21.3</td>\n",
              "      <td>80.0</td>\n",
              "      <td>130.0</td>\n",
              "      <td>54.9</td>\n",
              "      <td>18.4</td>\n",
              "      <td>60.0</td>\n",
              "      <td>217.0</td>\n",
              "      <td>C</td>\n",
              "    </tr>\n",
              "    <tr>\n",
              "      <th>1</th>\n",
              "      <td>25.0</td>\n",
              "      <td>M</td>\n",
              "      <td>165.0</td>\n",
              "      <td>55.80</td>\n",
              "      <td>15.7</td>\n",
              "      <td>77.0</td>\n",
              "      <td>126.0</td>\n",
              "      <td>36.4</td>\n",
              "      <td>16.3</td>\n",
              "      <td>53.0</td>\n",
              "      <td>229.0</td>\n",
              "      <td>A</td>\n",
              "    </tr>\n",
              "    <tr>\n",
              "      <th>2</th>\n",
              "      <td>31.0</td>\n",
              "      <td>M</td>\n",
              "      <td>179.6</td>\n",
              "      <td>78.00</td>\n",
              "      <td>20.1</td>\n",
              "      <td>92.0</td>\n",
              "      <td>152.0</td>\n",
              "      <td>44.8</td>\n",
              "      <td>12.0</td>\n",
              "      <td>49.0</td>\n",
              "      <td>181.0</td>\n",
              "      <td>C</td>\n",
              "    </tr>\n",
              "    <tr>\n",
              "      <th>3</th>\n",
              "      <td>32.0</td>\n",
              "      <td>M</td>\n",
              "      <td>174.5</td>\n",
              "      <td>71.10</td>\n",
              "      <td>18.4</td>\n",
              "      <td>76.0</td>\n",
              "      <td>147.0</td>\n",
              "      <td>41.4</td>\n",
              "      <td>15.2</td>\n",
              "      <td>53.0</td>\n",
              "      <td>219.0</td>\n",
              "      <td>B</td>\n",
              "    </tr>\n",
              "    <tr>\n",
              "      <th>4</th>\n",
              "      <td>28.0</td>\n",
              "      <td>M</td>\n",
              "      <td>173.8</td>\n",
              "      <td>67.70</td>\n",
              "      <td>17.1</td>\n",
              "      <td>70.0</td>\n",
              "      <td>127.0</td>\n",
              "      <td>43.5</td>\n",
              "      <td>27.1</td>\n",
              "      <td>45.0</td>\n",
              "      <td>217.0</td>\n",
              "      <td>B</td>\n",
              "    </tr>\n",
              "  </tbody>\n",
              "</table>\n",
              "</div>\n",
              "    <div class=\"colab-df-buttons\">\n",
              "\n",
              "  <div class=\"colab-df-container\">\n",
              "    <button class=\"colab-df-convert\" onclick=\"convertToInteractive('df-f29df318-fb2f-4980-a2ca-550a9cde0539')\"\n",
              "            title=\"Convert this dataframe to an interactive table.\"\n",
              "            style=\"display:none;\">\n",
              "\n",
              "  <svg xmlns=\"http://www.w3.org/2000/svg\" height=\"24px\" viewBox=\"0 -960 960 960\">\n",
              "    <path d=\"M120-120v-720h720v720H120Zm60-500h600v-160H180v160Zm220 220h160v-160H400v160Zm0 220h160v-160H400v160ZM180-400h160v-160H180v160Zm440 0h160v-160H620v160ZM180-180h160v-160H180v160Zm440 0h160v-160H620v160Z\"/>\n",
              "  </svg>\n",
              "    </button>\n",
              "\n",
              "  <style>\n",
              "    .colab-df-container {\n",
              "      display:flex;\n",
              "      gap: 12px;\n",
              "    }\n",
              "\n",
              "    .colab-df-convert {\n",
              "      background-color: #E8F0FE;\n",
              "      border: none;\n",
              "      border-radius: 50%;\n",
              "      cursor: pointer;\n",
              "      display: none;\n",
              "      fill: #1967D2;\n",
              "      height: 32px;\n",
              "      padding: 0 0 0 0;\n",
              "      width: 32px;\n",
              "    }\n",
              "\n",
              "    .colab-df-convert:hover {\n",
              "      background-color: #E2EBFA;\n",
              "      box-shadow: 0px 1px 2px rgba(60, 64, 67, 0.3), 0px 1px 3px 1px rgba(60, 64, 67, 0.15);\n",
              "      fill: #174EA6;\n",
              "    }\n",
              "\n",
              "    .colab-df-buttons div {\n",
              "      margin-bottom: 4px;\n",
              "    }\n",
              "\n",
              "    [theme=dark] .colab-df-convert {\n",
              "      background-color: #3B4455;\n",
              "      fill: #D2E3FC;\n",
              "    }\n",
              "\n",
              "    [theme=dark] .colab-df-convert:hover {\n",
              "      background-color: #434B5C;\n",
              "      box-shadow: 0px 1px 3px 1px rgba(0, 0, 0, 0.15);\n",
              "      filter: drop-shadow(0px 1px 2px rgba(0, 0, 0, 0.3));\n",
              "      fill: #FFFFFF;\n",
              "    }\n",
              "  </style>\n",
              "\n",
              "    <script>\n",
              "      const buttonEl =\n",
              "        document.querySelector('#df-f29df318-fb2f-4980-a2ca-550a9cde0539 button.colab-df-convert');\n",
              "      buttonEl.style.display =\n",
              "        google.colab.kernel.accessAllowed ? 'block' : 'none';\n",
              "\n",
              "      async function convertToInteractive(key) {\n",
              "        const element = document.querySelector('#df-f29df318-fb2f-4980-a2ca-550a9cde0539');\n",
              "        const dataTable =\n",
              "          await google.colab.kernel.invokeFunction('convertToInteractive',\n",
              "                                                    [key], {});\n",
              "        if (!dataTable) return;\n",
              "\n",
              "        const docLinkHtml = 'Like what you see? Visit the ' +\n",
              "          '<a target=\"_blank\" href=https://colab.research.google.com/notebooks/data_table.ipynb>data table notebook</a>'\n",
              "          + ' to learn more about interactive tables.';\n",
              "        element.innerHTML = '';\n",
              "        dataTable['output_type'] = 'display_data';\n",
              "        await google.colab.output.renderOutput(dataTable, element);\n",
              "        const docLink = document.createElement('div');\n",
              "        docLink.innerHTML = docLinkHtml;\n",
              "        element.appendChild(docLink);\n",
              "      }\n",
              "    </script>\n",
              "  </div>\n",
              "\n",
              "\n",
              "<div id=\"df-de10a090-617a-4a7e-84f9-0f8105efffd7\">\n",
              "  <button class=\"colab-df-quickchart\" onclick=\"quickchart('df-de10a090-617a-4a7e-84f9-0f8105efffd7')\"\n",
              "            title=\"Suggest charts.\"\n",
              "            style=\"display:none;\">\n",
              "\n",
              "<svg xmlns=\"http://www.w3.org/2000/svg\" height=\"24px\"viewBox=\"0 0 24 24\"\n",
              "     width=\"24px\">\n",
              "    <g>\n",
              "        <path d=\"M19 3H5c-1.1 0-2 .9-2 2v14c0 1.1.9 2 2 2h14c1.1 0 2-.9 2-2V5c0-1.1-.9-2-2-2zM9 17H7v-7h2v7zm4 0h-2V7h2v10zm4 0h-2v-4h2v4z\"/>\n",
              "    </g>\n",
              "</svg>\n",
              "  </button>\n",
              "\n",
              "<style>\n",
              "  .colab-df-quickchart {\n",
              "      --bg-color: #E8F0FE;\n",
              "      --fill-color: #1967D2;\n",
              "      --hover-bg-color: #E2EBFA;\n",
              "      --hover-fill-color: #174EA6;\n",
              "      --disabled-fill-color: #AAA;\n",
              "      --disabled-bg-color: #DDD;\n",
              "  }\n",
              "\n",
              "  [theme=dark] .colab-df-quickchart {\n",
              "      --bg-color: #3B4455;\n",
              "      --fill-color: #D2E3FC;\n",
              "      --hover-bg-color: #434B5C;\n",
              "      --hover-fill-color: #FFFFFF;\n",
              "      --disabled-bg-color: #3B4455;\n",
              "      --disabled-fill-color: #666;\n",
              "  }\n",
              "\n",
              "  .colab-df-quickchart {\n",
              "    background-color: var(--bg-color);\n",
              "    border: none;\n",
              "    border-radius: 50%;\n",
              "    cursor: pointer;\n",
              "    display: none;\n",
              "    fill: var(--fill-color);\n",
              "    height: 32px;\n",
              "    padding: 0;\n",
              "    width: 32px;\n",
              "  }\n",
              "\n",
              "  .colab-df-quickchart:hover {\n",
              "    background-color: var(--hover-bg-color);\n",
              "    box-shadow: 0 1px 2px rgba(60, 64, 67, 0.3), 0 1px 3px 1px rgba(60, 64, 67, 0.15);\n",
              "    fill: var(--button-hover-fill-color);\n",
              "  }\n",
              "\n",
              "  .colab-df-quickchart-complete:disabled,\n",
              "  .colab-df-quickchart-complete:disabled:hover {\n",
              "    background-color: var(--disabled-bg-color);\n",
              "    fill: var(--disabled-fill-color);\n",
              "    box-shadow: none;\n",
              "  }\n",
              "\n",
              "  .colab-df-spinner {\n",
              "    border: 2px solid var(--fill-color);\n",
              "    border-color: transparent;\n",
              "    border-bottom-color: var(--fill-color);\n",
              "    animation:\n",
              "      spin 1s steps(1) infinite;\n",
              "  }\n",
              "\n",
              "  @keyframes spin {\n",
              "    0% {\n",
              "      border-color: transparent;\n",
              "      border-bottom-color: var(--fill-color);\n",
              "      border-left-color: var(--fill-color);\n",
              "    }\n",
              "    20% {\n",
              "      border-color: transparent;\n",
              "      border-left-color: var(--fill-color);\n",
              "      border-top-color: var(--fill-color);\n",
              "    }\n",
              "    30% {\n",
              "      border-color: transparent;\n",
              "      border-left-color: var(--fill-color);\n",
              "      border-top-color: var(--fill-color);\n",
              "      border-right-color: var(--fill-color);\n",
              "    }\n",
              "    40% {\n",
              "      border-color: transparent;\n",
              "      border-right-color: var(--fill-color);\n",
              "      border-top-color: var(--fill-color);\n",
              "    }\n",
              "    60% {\n",
              "      border-color: transparent;\n",
              "      border-right-color: var(--fill-color);\n",
              "    }\n",
              "    80% {\n",
              "      border-color: transparent;\n",
              "      border-right-color: var(--fill-color);\n",
              "      border-bottom-color: var(--fill-color);\n",
              "    }\n",
              "    90% {\n",
              "      border-color: transparent;\n",
              "      border-bottom-color: var(--fill-color);\n",
              "    }\n",
              "  }\n",
              "</style>\n",
              "\n",
              "  <script>\n",
              "    async function quickchart(key) {\n",
              "      const quickchartButtonEl =\n",
              "        document.querySelector('#' + key + ' button');\n",
              "      quickchartButtonEl.disabled = true;  // To prevent multiple clicks.\n",
              "      quickchartButtonEl.classList.add('colab-df-spinner');\n",
              "      try {\n",
              "        const charts = await google.colab.kernel.invokeFunction(\n",
              "            'suggestCharts', [key], {});\n",
              "      } catch (error) {\n",
              "        console.error('Error during call to suggestCharts:', error);\n",
              "      }\n",
              "      quickchartButtonEl.classList.remove('colab-df-spinner');\n",
              "      quickchartButtonEl.classList.add('colab-df-quickchart-complete');\n",
              "    }\n",
              "    (() => {\n",
              "      let quickchartButtonEl =\n",
              "        document.querySelector('#df-de10a090-617a-4a7e-84f9-0f8105efffd7 button');\n",
              "      quickchartButtonEl.style.display =\n",
              "        google.colab.kernel.accessAllowed ? 'block' : 'none';\n",
              "    })();\n",
              "  </script>\n",
              "</div>\n",
              "    </div>\n",
              "  </div>\n"
            ]
          },
          "metadata": {},
          "execution_count": 3
        }
      ]
    },
    {
      "cell_type": "code",
      "source": [
        "data.info()"
      ],
      "metadata": {
        "id": "T9umy_eiFGMM",
        "colab": {
          "base_uri": "https://localhost:8080/"
        },
        "outputId": "033909e4-ea06-41ac-cd8e-4f9f8614be69"
      },
      "execution_count": 4,
      "outputs": [
        {
          "output_type": "stream",
          "name": "stdout",
          "text": [
            "<class 'pandas.core.frame.DataFrame'>\n",
            "RangeIndex: 13393 entries, 0 to 13392\n",
            "Data columns (total 12 columns):\n",
            " #   Column                   Non-Null Count  Dtype  \n",
            "---  ------                   --------------  -----  \n",
            " 0   age                      13393 non-null  float64\n",
            " 1   gender                   13393 non-null  object \n",
            " 2   height_cm                13393 non-null  float64\n",
            " 3   weight_kg                13393 non-null  float64\n",
            " 4   body fat_%               13393 non-null  float64\n",
            " 5   diastolic                13393 non-null  float64\n",
            " 6   systolic                 13393 non-null  float64\n",
            " 7   gripForce                13393 non-null  float64\n",
            " 8   sit and bend forward_cm  13393 non-null  float64\n",
            " 9   sit-ups counts           13393 non-null  float64\n",
            " 10  broad jump_cm            13393 non-null  float64\n",
            " 11  class                    13393 non-null  object \n",
            "dtypes: float64(10), object(2)\n",
            "memory usage: 1.2+ MB\n"
          ]
        }
      ]
    },
    {
      "cell_type": "code",
      "source": [
        "data[['class']].head(10)"
      ],
      "metadata": {
        "colab": {
          "base_uri": "https://localhost:8080/",
          "height": 363
        },
        "id": "_fco6XWFXWg4",
        "outputId": "f9ec0c2b-7658-4d12-caf7-28df28d30f9c"
      },
      "execution_count": 5,
      "outputs": [
        {
          "output_type": "execute_result",
          "data": {
            "text/plain": [
              "  class\n",
              "0     C\n",
              "1     A\n",
              "2     C\n",
              "3     B\n",
              "4     B\n",
              "5     B\n",
              "6     D\n",
              "7     B\n",
              "8     C\n",
              "9     B"
            ],
            "text/html": [
              "\n",
              "  <div id=\"df-40475d83-1943-4ef6-ac7d-b5d474081c5b\" class=\"colab-df-container\">\n",
              "    <div>\n",
              "<style scoped>\n",
              "    .dataframe tbody tr th:only-of-type {\n",
              "        vertical-align: middle;\n",
              "    }\n",
              "\n",
              "    .dataframe tbody tr th {\n",
              "        vertical-align: top;\n",
              "    }\n",
              "\n",
              "    .dataframe thead th {\n",
              "        text-align: right;\n",
              "    }\n",
              "</style>\n",
              "<table border=\"1\" class=\"dataframe\">\n",
              "  <thead>\n",
              "    <tr style=\"text-align: right;\">\n",
              "      <th></th>\n",
              "      <th>class</th>\n",
              "    </tr>\n",
              "  </thead>\n",
              "  <tbody>\n",
              "    <tr>\n",
              "      <th>0</th>\n",
              "      <td>C</td>\n",
              "    </tr>\n",
              "    <tr>\n",
              "      <th>1</th>\n",
              "      <td>A</td>\n",
              "    </tr>\n",
              "    <tr>\n",
              "      <th>2</th>\n",
              "      <td>C</td>\n",
              "    </tr>\n",
              "    <tr>\n",
              "      <th>3</th>\n",
              "      <td>B</td>\n",
              "    </tr>\n",
              "    <tr>\n",
              "      <th>4</th>\n",
              "      <td>B</td>\n",
              "    </tr>\n",
              "    <tr>\n",
              "      <th>5</th>\n",
              "      <td>B</td>\n",
              "    </tr>\n",
              "    <tr>\n",
              "      <th>6</th>\n",
              "      <td>D</td>\n",
              "    </tr>\n",
              "    <tr>\n",
              "      <th>7</th>\n",
              "      <td>B</td>\n",
              "    </tr>\n",
              "    <tr>\n",
              "      <th>8</th>\n",
              "      <td>C</td>\n",
              "    </tr>\n",
              "    <tr>\n",
              "      <th>9</th>\n",
              "      <td>B</td>\n",
              "    </tr>\n",
              "  </tbody>\n",
              "</table>\n",
              "</div>\n",
              "    <div class=\"colab-df-buttons\">\n",
              "\n",
              "  <div class=\"colab-df-container\">\n",
              "    <button class=\"colab-df-convert\" onclick=\"convertToInteractive('df-40475d83-1943-4ef6-ac7d-b5d474081c5b')\"\n",
              "            title=\"Convert this dataframe to an interactive table.\"\n",
              "            style=\"display:none;\">\n",
              "\n",
              "  <svg xmlns=\"http://www.w3.org/2000/svg\" height=\"24px\" viewBox=\"0 -960 960 960\">\n",
              "    <path d=\"M120-120v-720h720v720H120Zm60-500h600v-160H180v160Zm220 220h160v-160H400v160Zm0 220h160v-160H400v160ZM180-400h160v-160H180v160Zm440 0h160v-160H620v160ZM180-180h160v-160H180v160Zm440 0h160v-160H620v160Z\"/>\n",
              "  </svg>\n",
              "    </button>\n",
              "\n",
              "  <style>\n",
              "    .colab-df-container {\n",
              "      display:flex;\n",
              "      gap: 12px;\n",
              "    }\n",
              "\n",
              "    .colab-df-convert {\n",
              "      background-color: #E8F0FE;\n",
              "      border: none;\n",
              "      border-radius: 50%;\n",
              "      cursor: pointer;\n",
              "      display: none;\n",
              "      fill: #1967D2;\n",
              "      height: 32px;\n",
              "      padding: 0 0 0 0;\n",
              "      width: 32px;\n",
              "    }\n",
              "\n",
              "    .colab-df-convert:hover {\n",
              "      background-color: #E2EBFA;\n",
              "      box-shadow: 0px 1px 2px rgba(60, 64, 67, 0.3), 0px 1px 3px 1px rgba(60, 64, 67, 0.15);\n",
              "      fill: #174EA6;\n",
              "    }\n",
              "\n",
              "    .colab-df-buttons div {\n",
              "      margin-bottom: 4px;\n",
              "    }\n",
              "\n",
              "    [theme=dark] .colab-df-convert {\n",
              "      background-color: #3B4455;\n",
              "      fill: #D2E3FC;\n",
              "    }\n",
              "\n",
              "    [theme=dark] .colab-df-convert:hover {\n",
              "      background-color: #434B5C;\n",
              "      box-shadow: 0px 1px 3px 1px rgba(0, 0, 0, 0.15);\n",
              "      filter: drop-shadow(0px 1px 2px rgba(0, 0, 0, 0.3));\n",
              "      fill: #FFFFFF;\n",
              "    }\n",
              "  </style>\n",
              "\n",
              "    <script>\n",
              "      const buttonEl =\n",
              "        document.querySelector('#df-40475d83-1943-4ef6-ac7d-b5d474081c5b button.colab-df-convert');\n",
              "      buttonEl.style.display =\n",
              "        google.colab.kernel.accessAllowed ? 'block' : 'none';\n",
              "\n",
              "      async function convertToInteractive(key) {\n",
              "        const element = document.querySelector('#df-40475d83-1943-4ef6-ac7d-b5d474081c5b');\n",
              "        const dataTable =\n",
              "          await google.colab.kernel.invokeFunction('convertToInteractive',\n",
              "                                                    [key], {});\n",
              "        if (!dataTable) return;\n",
              "\n",
              "        const docLinkHtml = 'Like what you see? Visit the ' +\n",
              "          '<a target=\"_blank\" href=https://colab.research.google.com/notebooks/data_table.ipynb>data table notebook</a>'\n",
              "          + ' to learn more about interactive tables.';\n",
              "        element.innerHTML = '';\n",
              "        dataTable['output_type'] = 'display_data';\n",
              "        await google.colab.output.renderOutput(dataTable, element);\n",
              "        const docLink = document.createElement('div');\n",
              "        docLink.innerHTML = docLinkHtml;\n",
              "        element.appendChild(docLink);\n",
              "      }\n",
              "    </script>\n",
              "  </div>\n",
              "\n",
              "\n",
              "<div id=\"df-361da713-15e9-44d0-901e-746c9f60c946\">\n",
              "  <button class=\"colab-df-quickchart\" onclick=\"quickchart('df-361da713-15e9-44d0-901e-746c9f60c946')\"\n",
              "            title=\"Suggest charts.\"\n",
              "            style=\"display:none;\">\n",
              "\n",
              "<svg xmlns=\"http://www.w3.org/2000/svg\" height=\"24px\"viewBox=\"0 0 24 24\"\n",
              "     width=\"24px\">\n",
              "    <g>\n",
              "        <path d=\"M19 3H5c-1.1 0-2 .9-2 2v14c0 1.1.9 2 2 2h14c1.1 0 2-.9 2-2V5c0-1.1-.9-2-2-2zM9 17H7v-7h2v7zm4 0h-2V7h2v10zm4 0h-2v-4h2v4z\"/>\n",
              "    </g>\n",
              "</svg>\n",
              "  </button>\n",
              "\n",
              "<style>\n",
              "  .colab-df-quickchart {\n",
              "      --bg-color: #E8F0FE;\n",
              "      --fill-color: #1967D2;\n",
              "      --hover-bg-color: #E2EBFA;\n",
              "      --hover-fill-color: #174EA6;\n",
              "      --disabled-fill-color: #AAA;\n",
              "      --disabled-bg-color: #DDD;\n",
              "  }\n",
              "\n",
              "  [theme=dark] .colab-df-quickchart {\n",
              "      --bg-color: #3B4455;\n",
              "      --fill-color: #D2E3FC;\n",
              "      --hover-bg-color: #434B5C;\n",
              "      --hover-fill-color: #FFFFFF;\n",
              "      --disabled-bg-color: #3B4455;\n",
              "      --disabled-fill-color: #666;\n",
              "  }\n",
              "\n",
              "  .colab-df-quickchart {\n",
              "    background-color: var(--bg-color);\n",
              "    border: none;\n",
              "    border-radius: 50%;\n",
              "    cursor: pointer;\n",
              "    display: none;\n",
              "    fill: var(--fill-color);\n",
              "    height: 32px;\n",
              "    padding: 0;\n",
              "    width: 32px;\n",
              "  }\n",
              "\n",
              "  .colab-df-quickchart:hover {\n",
              "    background-color: var(--hover-bg-color);\n",
              "    box-shadow: 0 1px 2px rgba(60, 64, 67, 0.3), 0 1px 3px 1px rgba(60, 64, 67, 0.15);\n",
              "    fill: var(--button-hover-fill-color);\n",
              "  }\n",
              "\n",
              "  .colab-df-quickchart-complete:disabled,\n",
              "  .colab-df-quickchart-complete:disabled:hover {\n",
              "    background-color: var(--disabled-bg-color);\n",
              "    fill: var(--disabled-fill-color);\n",
              "    box-shadow: none;\n",
              "  }\n",
              "\n",
              "  .colab-df-spinner {\n",
              "    border: 2px solid var(--fill-color);\n",
              "    border-color: transparent;\n",
              "    border-bottom-color: var(--fill-color);\n",
              "    animation:\n",
              "      spin 1s steps(1) infinite;\n",
              "  }\n",
              "\n",
              "  @keyframes spin {\n",
              "    0% {\n",
              "      border-color: transparent;\n",
              "      border-bottom-color: var(--fill-color);\n",
              "      border-left-color: var(--fill-color);\n",
              "    }\n",
              "    20% {\n",
              "      border-color: transparent;\n",
              "      border-left-color: var(--fill-color);\n",
              "      border-top-color: var(--fill-color);\n",
              "    }\n",
              "    30% {\n",
              "      border-color: transparent;\n",
              "      border-left-color: var(--fill-color);\n",
              "      border-top-color: var(--fill-color);\n",
              "      border-right-color: var(--fill-color);\n",
              "    }\n",
              "    40% {\n",
              "      border-color: transparent;\n",
              "      border-right-color: var(--fill-color);\n",
              "      border-top-color: var(--fill-color);\n",
              "    }\n",
              "    60% {\n",
              "      border-color: transparent;\n",
              "      border-right-color: var(--fill-color);\n",
              "    }\n",
              "    80% {\n",
              "      border-color: transparent;\n",
              "      border-right-color: var(--fill-color);\n",
              "      border-bottom-color: var(--fill-color);\n",
              "    }\n",
              "    90% {\n",
              "      border-color: transparent;\n",
              "      border-bottom-color: var(--fill-color);\n",
              "    }\n",
              "  }\n",
              "</style>\n",
              "\n",
              "  <script>\n",
              "    async function quickchart(key) {\n",
              "      const quickchartButtonEl =\n",
              "        document.querySelector('#' + key + ' button');\n",
              "      quickchartButtonEl.disabled = true;  // To prevent multiple clicks.\n",
              "      quickchartButtonEl.classList.add('colab-df-spinner');\n",
              "      try {\n",
              "        const charts = await google.colab.kernel.invokeFunction(\n",
              "            'suggestCharts', [key], {});\n",
              "      } catch (error) {\n",
              "        console.error('Error during call to suggestCharts:', error);\n",
              "      }\n",
              "      quickchartButtonEl.classList.remove('colab-df-spinner');\n",
              "      quickchartButtonEl.classList.add('colab-df-quickchart-complete');\n",
              "    }\n",
              "    (() => {\n",
              "      let quickchartButtonEl =\n",
              "        document.querySelector('#df-361da713-15e9-44d0-901e-746c9f60c946 button');\n",
              "      quickchartButtonEl.style.display =\n",
              "        google.colab.kernel.accessAllowed ? 'block' : 'none';\n",
              "    })();\n",
              "  </script>\n",
              "</div>\n",
              "    </div>\n",
              "  </div>\n"
            ]
          },
          "metadata": {},
          "execution_count": 5
        }
      ]
    },
    {
      "cell_type": "code",
      "source": [
        "multi_class = {'A':1,'B':2, 'C':3, 'D':4}\n",
        "data['Target'] = data['class'].map(multi_class)"
      ],
      "metadata": {
        "id": "xWF4oEMDjtOq"
      },
      "execution_count": 6,
      "outputs": []
    },
    {
      "cell_type": "code",
      "source": [
        "data[['class','Target']].head(10)"
      ],
      "metadata": {
        "id": "q1tCK1DXj91f",
        "colab": {
          "base_uri": "https://localhost:8080/",
          "height": 363
        },
        "outputId": "8ceba9b3-a02c-4f34-8936-3da1651b58b3"
      },
      "execution_count": 7,
      "outputs": [
        {
          "output_type": "execute_result",
          "data": {
            "text/plain": [
              "  class  Target\n",
              "0     C       3\n",
              "1     A       1\n",
              "2     C       3\n",
              "3     B       2\n",
              "4     B       2\n",
              "5     B       2\n",
              "6     D       4\n",
              "7     B       2\n",
              "8     C       3\n",
              "9     B       2"
            ],
            "text/html": [
              "\n",
              "  <div id=\"df-4c31e9e7-a367-48f3-85b9-d0336760ac7d\" class=\"colab-df-container\">\n",
              "    <div>\n",
              "<style scoped>\n",
              "    .dataframe tbody tr th:only-of-type {\n",
              "        vertical-align: middle;\n",
              "    }\n",
              "\n",
              "    .dataframe tbody tr th {\n",
              "        vertical-align: top;\n",
              "    }\n",
              "\n",
              "    .dataframe thead th {\n",
              "        text-align: right;\n",
              "    }\n",
              "</style>\n",
              "<table border=\"1\" class=\"dataframe\">\n",
              "  <thead>\n",
              "    <tr style=\"text-align: right;\">\n",
              "      <th></th>\n",
              "      <th>class</th>\n",
              "      <th>Target</th>\n",
              "    </tr>\n",
              "  </thead>\n",
              "  <tbody>\n",
              "    <tr>\n",
              "      <th>0</th>\n",
              "      <td>C</td>\n",
              "      <td>3</td>\n",
              "    </tr>\n",
              "    <tr>\n",
              "      <th>1</th>\n",
              "      <td>A</td>\n",
              "      <td>1</td>\n",
              "    </tr>\n",
              "    <tr>\n",
              "      <th>2</th>\n",
              "      <td>C</td>\n",
              "      <td>3</td>\n",
              "    </tr>\n",
              "    <tr>\n",
              "      <th>3</th>\n",
              "      <td>B</td>\n",
              "      <td>2</td>\n",
              "    </tr>\n",
              "    <tr>\n",
              "      <th>4</th>\n",
              "      <td>B</td>\n",
              "      <td>2</td>\n",
              "    </tr>\n",
              "    <tr>\n",
              "      <th>5</th>\n",
              "      <td>B</td>\n",
              "      <td>2</td>\n",
              "    </tr>\n",
              "    <tr>\n",
              "      <th>6</th>\n",
              "      <td>D</td>\n",
              "      <td>4</td>\n",
              "    </tr>\n",
              "    <tr>\n",
              "      <th>7</th>\n",
              "      <td>B</td>\n",
              "      <td>2</td>\n",
              "    </tr>\n",
              "    <tr>\n",
              "      <th>8</th>\n",
              "      <td>C</td>\n",
              "      <td>3</td>\n",
              "    </tr>\n",
              "    <tr>\n",
              "      <th>9</th>\n",
              "      <td>B</td>\n",
              "      <td>2</td>\n",
              "    </tr>\n",
              "  </tbody>\n",
              "</table>\n",
              "</div>\n",
              "    <div class=\"colab-df-buttons\">\n",
              "\n",
              "  <div class=\"colab-df-container\">\n",
              "    <button class=\"colab-df-convert\" onclick=\"convertToInteractive('df-4c31e9e7-a367-48f3-85b9-d0336760ac7d')\"\n",
              "            title=\"Convert this dataframe to an interactive table.\"\n",
              "            style=\"display:none;\">\n",
              "\n",
              "  <svg xmlns=\"http://www.w3.org/2000/svg\" height=\"24px\" viewBox=\"0 -960 960 960\">\n",
              "    <path d=\"M120-120v-720h720v720H120Zm60-500h600v-160H180v160Zm220 220h160v-160H400v160Zm0 220h160v-160H400v160ZM180-400h160v-160H180v160Zm440 0h160v-160H620v160ZM180-180h160v-160H180v160Zm440 0h160v-160H620v160Z\"/>\n",
              "  </svg>\n",
              "    </button>\n",
              "\n",
              "  <style>\n",
              "    .colab-df-container {\n",
              "      display:flex;\n",
              "      gap: 12px;\n",
              "    }\n",
              "\n",
              "    .colab-df-convert {\n",
              "      background-color: #E8F0FE;\n",
              "      border: none;\n",
              "      border-radius: 50%;\n",
              "      cursor: pointer;\n",
              "      display: none;\n",
              "      fill: #1967D2;\n",
              "      height: 32px;\n",
              "      padding: 0 0 0 0;\n",
              "      width: 32px;\n",
              "    }\n",
              "\n",
              "    .colab-df-convert:hover {\n",
              "      background-color: #E2EBFA;\n",
              "      box-shadow: 0px 1px 2px rgba(60, 64, 67, 0.3), 0px 1px 3px 1px rgba(60, 64, 67, 0.15);\n",
              "      fill: #174EA6;\n",
              "    }\n",
              "\n",
              "    .colab-df-buttons div {\n",
              "      margin-bottom: 4px;\n",
              "    }\n",
              "\n",
              "    [theme=dark] .colab-df-convert {\n",
              "      background-color: #3B4455;\n",
              "      fill: #D2E3FC;\n",
              "    }\n",
              "\n",
              "    [theme=dark] .colab-df-convert:hover {\n",
              "      background-color: #434B5C;\n",
              "      box-shadow: 0px 1px 3px 1px rgba(0, 0, 0, 0.15);\n",
              "      filter: drop-shadow(0px 1px 2px rgba(0, 0, 0, 0.3));\n",
              "      fill: #FFFFFF;\n",
              "    }\n",
              "  </style>\n",
              "\n",
              "    <script>\n",
              "      const buttonEl =\n",
              "        document.querySelector('#df-4c31e9e7-a367-48f3-85b9-d0336760ac7d button.colab-df-convert');\n",
              "      buttonEl.style.display =\n",
              "        google.colab.kernel.accessAllowed ? 'block' : 'none';\n",
              "\n",
              "      async function convertToInteractive(key) {\n",
              "        const element = document.querySelector('#df-4c31e9e7-a367-48f3-85b9-d0336760ac7d');\n",
              "        const dataTable =\n",
              "          await google.colab.kernel.invokeFunction('convertToInteractive',\n",
              "                                                    [key], {});\n",
              "        if (!dataTable) return;\n",
              "\n",
              "        const docLinkHtml = 'Like what you see? Visit the ' +\n",
              "          '<a target=\"_blank\" href=https://colab.research.google.com/notebooks/data_table.ipynb>data table notebook</a>'\n",
              "          + ' to learn more about interactive tables.';\n",
              "        element.innerHTML = '';\n",
              "        dataTable['output_type'] = 'display_data';\n",
              "        await google.colab.output.renderOutput(dataTable, element);\n",
              "        const docLink = document.createElement('div');\n",
              "        docLink.innerHTML = docLinkHtml;\n",
              "        element.appendChild(docLink);\n",
              "      }\n",
              "    </script>\n",
              "  </div>\n",
              "\n",
              "\n",
              "<div id=\"df-2c5d0e29-362b-44a9-90a3-b79c5beb0097\">\n",
              "  <button class=\"colab-df-quickchart\" onclick=\"quickchart('df-2c5d0e29-362b-44a9-90a3-b79c5beb0097')\"\n",
              "            title=\"Suggest charts.\"\n",
              "            style=\"display:none;\">\n",
              "\n",
              "<svg xmlns=\"http://www.w3.org/2000/svg\" height=\"24px\"viewBox=\"0 0 24 24\"\n",
              "     width=\"24px\">\n",
              "    <g>\n",
              "        <path d=\"M19 3H5c-1.1 0-2 .9-2 2v14c0 1.1.9 2 2 2h14c1.1 0 2-.9 2-2V5c0-1.1-.9-2-2-2zM9 17H7v-7h2v7zm4 0h-2V7h2v10zm4 0h-2v-4h2v4z\"/>\n",
              "    </g>\n",
              "</svg>\n",
              "  </button>\n",
              "\n",
              "<style>\n",
              "  .colab-df-quickchart {\n",
              "      --bg-color: #E8F0FE;\n",
              "      --fill-color: #1967D2;\n",
              "      --hover-bg-color: #E2EBFA;\n",
              "      --hover-fill-color: #174EA6;\n",
              "      --disabled-fill-color: #AAA;\n",
              "      --disabled-bg-color: #DDD;\n",
              "  }\n",
              "\n",
              "  [theme=dark] .colab-df-quickchart {\n",
              "      --bg-color: #3B4455;\n",
              "      --fill-color: #D2E3FC;\n",
              "      --hover-bg-color: #434B5C;\n",
              "      --hover-fill-color: #FFFFFF;\n",
              "      --disabled-bg-color: #3B4455;\n",
              "      --disabled-fill-color: #666;\n",
              "  }\n",
              "\n",
              "  .colab-df-quickchart {\n",
              "    background-color: var(--bg-color);\n",
              "    border: none;\n",
              "    border-radius: 50%;\n",
              "    cursor: pointer;\n",
              "    display: none;\n",
              "    fill: var(--fill-color);\n",
              "    height: 32px;\n",
              "    padding: 0;\n",
              "    width: 32px;\n",
              "  }\n",
              "\n",
              "  .colab-df-quickchart:hover {\n",
              "    background-color: var(--hover-bg-color);\n",
              "    box-shadow: 0 1px 2px rgba(60, 64, 67, 0.3), 0 1px 3px 1px rgba(60, 64, 67, 0.15);\n",
              "    fill: var(--button-hover-fill-color);\n",
              "  }\n",
              "\n",
              "  .colab-df-quickchart-complete:disabled,\n",
              "  .colab-df-quickchart-complete:disabled:hover {\n",
              "    background-color: var(--disabled-bg-color);\n",
              "    fill: var(--disabled-fill-color);\n",
              "    box-shadow: none;\n",
              "  }\n",
              "\n",
              "  .colab-df-spinner {\n",
              "    border: 2px solid var(--fill-color);\n",
              "    border-color: transparent;\n",
              "    border-bottom-color: var(--fill-color);\n",
              "    animation:\n",
              "      spin 1s steps(1) infinite;\n",
              "  }\n",
              "\n",
              "  @keyframes spin {\n",
              "    0% {\n",
              "      border-color: transparent;\n",
              "      border-bottom-color: var(--fill-color);\n",
              "      border-left-color: var(--fill-color);\n",
              "    }\n",
              "    20% {\n",
              "      border-color: transparent;\n",
              "      border-left-color: var(--fill-color);\n",
              "      border-top-color: var(--fill-color);\n",
              "    }\n",
              "    30% {\n",
              "      border-color: transparent;\n",
              "      border-left-color: var(--fill-color);\n",
              "      border-top-color: var(--fill-color);\n",
              "      border-right-color: var(--fill-color);\n",
              "    }\n",
              "    40% {\n",
              "      border-color: transparent;\n",
              "      border-right-color: var(--fill-color);\n",
              "      border-top-color: var(--fill-color);\n",
              "    }\n",
              "    60% {\n",
              "      border-color: transparent;\n",
              "      border-right-color: var(--fill-color);\n",
              "    }\n",
              "    80% {\n",
              "      border-color: transparent;\n",
              "      border-right-color: var(--fill-color);\n",
              "      border-bottom-color: var(--fill-color);\n",
              "    }\n",
              "    90% {\n",
              "      border-color: transparent;\n",
              "      border-bottom-color: var(--fill-color);\n",
              "    }\n",
              "  }\n",
              "</style>\n",
              "\n",
              "  <script>\n",
              "    async function quickchart(key) {\n",
              "      const quickchartButtonEl =\n",
              "        document.querySelector('#' + key + ' button');\n",
              "      quickchartButtonEl.disabled = true;  // To prevent multiple clicks.\n",
              "      quickchartButtonEl.classList.add('colab-df-spinner');\n",
              "      try {\n",
              "        const charts = await google.colab.kernel.invokeFunction(\n",
              "            'suggestCharts', [key], {});\n",
              "      } catch (error) {\n",
              "        console.error('Error during call to suggestCharts:', error);\n",
              "      }\n",
              "      quickchartButtonEl.classList.remove('colab-df-spinner');\n",
              "      quickchartButtonEl.classList.add('colab-df-quickchart-complete');\n",
              "    }\n",
              "    (() => {\n",
              "      let quickchartButtonEl =\n",
              "        document.querySelector('#df-2c5d0e29-362b-44a9-90a3-b79c5beb0097 button');\n",
              "      quickchartButtonEl.style.display =\n",
              "        google.colab.kernel.accessAllowed ? 'block' : 'none';\n",
              "    })();\n",
              "  </script>\n",
              "</div>\n",
              "    </div>\n",
              "  </div>\n"
            ]
          },
          "metadata": {},
          "execution_count": 7
        }
      ]
    },
    {
      "cell_type": "code",
      "source": [
        "data.info()"
      ],
      "metadata": {
        "colab": {
          "base_uri": "https://localhost:8080/"
        },
        "id": "HTglj4F-kRIH",
        "outputId": "340239dd-5f79-4494-ac3d-14e42bdbd347"
      },
      "execution_count": 8,
      "outputs": [
        {
          "output_type": "stream",
          "name": "stdout",
          "text": [
            "<class 'pandas.core.frame.DataFrame'>\n",
            "RangeIndex: 13393 entries, 0 to 13392\n",
            "Data columns (total 13 columns):\n",
            " #   Column                   Non-Null Count  Dtype  \n",
            "---  ------                   --------------  -----  \n",
            " 0   age                      13393 non-null  float64\n",
            " 1   gender                   13393 non-null  object \n",
            " 2   height_cm                13393 non-null  float64\n",
            " 3   weight_kg                13393 non-null  float64\n",
            " 4   body fat_%               13393 non-null  float64\n",
            " 5   diastolic                13393 non-null  float64\n",
            " 6   systolic                 13393 non-null  float64\n",
            " 7   gripForce                13393 non-null  float64\n",
            " 8   sit and bend forward_cm  13393 non-null  float64\n",
            " 9   sit-ups counts           13393 non-null  float64\n",
            " 10  broad jump_cm            13393 non-null  float64\n",
            " 11  class                    13393 non-null  object \n",
            " 12  Target                   13393 non-null  int64  \n",
            "dtypes: float64(10), int64(1), object(2)\n",
            "memory usage: 1.3+ MB\n"
          ]
        }
      ]
    },
    {
      "cell_type": "code",
      "source": [
        "X = data.drop(['gender','class', 'Target'],axis=1)\n",
        "y = data[['Target']]"
      ],
      "metadata": {
        "id": "ln9wNuk4BLas"
      },
      "execution_count": 9,
      "outputs": []
    },
    {
      "cell_type": "code",
      "source": [
        "X = data.drop(['gender','class'],axis=1)\n",
        "y = data[['class']]"
      ],
      "metadata": {
        "id": "PryI7PEFFIPE"
      },
      "execution_count": 10,
      "outputs": []
    },
    {
      "cell_type": "code",
      "source": [
        "X.info()"
      ],
      "metadata": {
        "id": "1F4ySxU-FUUM",
        "colab": {
          "base_uri": "https://localhost:8080/"
        },
        "outputId": "dff93df1-896e-4cee-afcc-08ac1b21f284"
      },
      "execution_count": 11,
      "outputs": [
        {
          "output_type": "stream",
          "name": "stdout",
          "text": [
            "<class 'pandas.core.frame.DataFrame'>\n",
            "RangeIndex: 13393 entries, 0 to 13392\n",
            "Data columns (total 11 columns):\n",
            " #   Column                   Non-Null Count  Dtype  \n",
            "---  ------                   --------------  -----  \n",
            " 0   age                      13393 non-null  float64\n",
            " 1   height_cm                13393 non-null  float64\n",
            " 2   weight_kg                13393 non-null  float64\n",
            " 3   body fat_%               13393 non-null  float64\n",
            " 4   diastolic                13393 non-null  float64\n",
            " 5   systolic                 13393 non-null  float64\n",
            " 6   gripForce                13393 non-null  float64\n",
            " 7   sit and bend forward_cm  13393 non-null  float64\n",
            " 8   sit-ups counts           13393 non-null  float64\n",
            " 9   broad jump_cm            13393 non-null  float64\n",
            " 10  Target                   13393 non-null  int64  \n",
            "dtypes: float64(10), int64(1)\n",
            "memory usage: 1.1 MB\n"
          ]
        }
      ]
    },
    {
      "cell_type": "code",
      "source": [
        "y.info"
      ],
      "metadata": {
        "id": "jumwj0fUHBOE",
        "colab": {
          "base_uri": "https://localhost:8080/"
        },
        "outputId": "7370cb5c-5128-4fac-eb80-e8d913d50a8c"
      },
      "execution_count": 12,
      "outputs": [
        {
          "output_type": "execute_result",
          "data": {
            "text/plain": [
              "<bound method DataFrame.info of       class\n",
              "0         C\n",
              "1         A\n",
              "2         C\n",
              "3         B\n",
              "4         B\n",
              "...     ...\n",
              "13388     C\n",
              "13389     D\n",
              "13390     A\n",
              "13391     D\n",
              "13392     C\n",
              "\n",
              "[13393 rows x 1 columns]>"
            ]
          },
          "metadata": {},
          "execution_count": 12
        }
      ]
    },
    {
      "cell_type": "code",
      "source": [
        "min_max_scaler = MinMaxScaler()\n",
        "X = min_max_scaler.fit_transform(X)"
      ],
      "metadata": {
        "id": "nLot6jhhihNH"
      },
      "execution_count": 13,
      "outputs": []
    },
    {
      "cell_type": "code",
      "source": [
        "X_train, X_test, y_train, y_test = train_test_split(X, y, test_size = 0.2,random_state = 1)"
      ],
      "metadata": {
        "id": "HyHyF5Edkg71"
      },
      "execution_count": 14,
      "outputs": []
    },
    {
      "cell_type": "code",
      "source": [
        "X_train, X_val, y_train, y_val = train_test_split(X_train, y_train, stratify=y_train, test_size = 0.2, random_state = 0)"
      ],
      "metadata": {
        "id": "i4lxH_L2HB_E"
      },
      "execution_count": 15,
      "outputs": []
    },
    {
      "cell_type": "code",
      "source": [
        "print(f'Размер исходного набора: {X.shape}')\n",
        "print(f'Размер обучающего набора: {X_train.shape}')\n",
        "print(f'Размер тестового набора: {X_test.shape}')"
      ],
      "metadata": {
        "colab": {
          "base_uri": "https://localhost:8080/"
        },
        "id": "sG0UG6p0knwf",
        "outputId": "54e87428-4658-44ea-f0ee-27750c584eac"
      },
      "execution_count": 16,
      "outputs": [
        {
          "output_type": "stream",
          "name": "stdout",
          "text": [
            "Размер исходного набора: (13393, 11)\n",
            "Размер обучающего набора: (8571, 11)\n",
            "Размер тестового набора: (2679, 11)\n"
          ]
        }
      ]
    },
    {
      "cell_type": "code",
      "source": [
        "print(f'Размер исходного набора: {y.shape}')\n",
        "print(f'Размер обучающего набора: {y_train.shape}')\n",
        "print(f'Размер тестового набора: {y_test.shape}')"
      ],
      "metadata": {
        "colab": {
          "base_uri": "https://localhost:8080/"
        },
        "id": "bXAqx9uZV17Y",
        "outputId": "2117fae0-f2be-4b9e-a362-0c060ed25d7b"
      },
      "execution_count": 17,
      "outputs": [
        {
          "output_type": "stream",
          "name": "stdout",
          "text": [
            "Размер исходного набора: (13393, 1)\n",
            "Размер обучающего набора: (8571, 1)\n",
            "Размер тестового набора: (2679, 1)\n"
          ]
        }
      ]
    },
    {
      "cell_type": "markdown",
      "source": [
        "## **Использовать Support Vector Machine**"
      ],
      "metadata": {
        "id": "H2baBE3cRs3T"
      }
    },
    {
      "cell_type": "code",
      "source": [
        "model_svm = SVC(kernel='linear', C=1.0, probability=True, decision_function_shape='ovr')\n",
        "model_svm.fit(X_train, y_train)"
      ],
      "metadata": {
        "colab": {
          "base_uri": "https://localhost:8080/",
          "height": 131
        },
        "id": "kW8lu_yPRslu",
        "outputId": "c4a64f01-b294-4849-8c7a-723b2e0da42c"
      },
      "execution_count": 18,
      "outputs": [
        {
          "output_type": "stream",
          "name": "stderr",
          "text": [
            "/usr/local/lib/python3.10/dist-packages/sklearn/utils/validation.py:1143: DataConversionWarning: A column-vector y was passed when a 1d array was expected. Please change the shape of y to (n_samples, ), for example using ravel().\n",
            "  y = column_or_1d(y, warn=True)\n"
          ]
        },
        {
          "output_type": "execute_result",
          "data": {
            "text/plain": [
              "SVC(kernel='linear', probability=True)"
            ],
            "text/html": [
              "<style>#sk-container-id-1 {color: black;background-color: white;}#sk-container-id-1 pre{padding: 0;}#sk-container-id-1 div.sk-toggleable {background-color: white;}#sk-container-id-1 label.sk-toggleable__label {cursor: pointer;display: block;width: 100%;margin-bottom: 0;padding: 0.3em;box-sizing: border-box;text-align: center;}#sk-container-id-1 label.sk-toggleable__label-arrow:before {content: \"▸\";float: left;margin-right: 0.25em;color: #696969;}#sk-container-id-1 label.sk-toggleable__label-arrow:hover:before {color: black;}#sk-container-id-1 div.sk-estimator:hover label.sk-toggleable__label-arrow:before {color: black;}#sk-container-id-1 div.sk-toggleable__content {max-height: 0;max-width: 0;overflow: hidden;text-align: left;background-color: #f0f8ff;}#sk-container-id-1 div.sk-toggleable__content pre {margin: 0.2em;color: black;border-radius: 0.25em;background-color: #f0f8ff;}#sk-container-id-1 input.sk-toggleable__control:checked~div.sk-toggleable__content {max-height: 200px;max-width: 100%;overflow: auto;}#sk-container-id-1 input.sk-toggleable__control:checked~label.sk-toggleable__label-arrow:before {content: \"▾\";}#sk-container-id-1 div.sk-estimator input.sk-toggleable__control:checked~label.sk-toggleable__label {background-color: #d4ebff;}#sk-container-id-1 div.sk-label input.sk-toggleable__control:checked~label.sk-toggleable__label {background-color: #d4ebff;}#sk-container-id-1 input.sk-hidden--visually {border: 0;clip: rect(1px 1px 1px 1px);clip: rect(1px, 1px, 1px, 1px);height: 1px;margin: -1px;overflow: hidden;padding: 0;position: absolute;width: 1px;}#sk-container-id-1 div.sk-estimator {font-family: monospace;background-color: #f0f8ff;border: 1px dotted black;border-radius: 0.25em;box-sizing: border-box;margin-bottom: 0.5em;}#sk-container-id-1 div.sk-estimator:hover {background-color: #d4ebff;}#sk-container-id-1 div.sk-parallel-item::after {content: \"\";width: 100%;border-bottom: 1px solid gray;flex-grow: 1;}#sk-container-id-1 div.sk-label:hover label.sk-toggleable__label {background-color: #d4ebff;}#sk-container-id-1 div.sk-serial::before {content: \"\";position: absolute;border-left: 1px solid gray;box-sizing: border-box;top: 0;bottom: 0;left: 50%;z-index: 0;}#sk-container-id-1 div.sk-serial {display: flex;flex-direction: column;align-items: center;background-color: white;padding-right: 0.2em;padding-left: 0.2em;position: relative;}#sk-container-id-1 div.sk-item {position: relative;z-index: 1;}#sk-container-id-1 div.sk-parallel {display: flex;align-items: stretch;justify-content: center;background-color: white;position: relative;}#sk-container-id-1 div.sk-item::before, #sk-container-id-1 div.sk-parallel-item::before {content: \"\";position: absolute;border-left: 1px solid gray;box-sizing: border-box;top: 0;bottom: 0;left: 50%;z-index: -1;}#sk-container-id-1 div.sk-parallel-item {display: flex;flex-direction: column;z-index: 1;position: relative;background-color: white;}#sk-container-id-1 div.sk-parallel-item:first-child::after {align-self: flex-end;width: 50%;}#sk-container-id-1 div.sk-parallel-item:last-child::after {align-self: flex-start;width: 50%;}#sk-container-id-1 div.sk-parallel-item:only-child::after {width: 0;}#sk-container-id-1 div.sk-dashed-wrapped {border: 1px dashed gray;margin: 0 0.4em 0.5em 0.4em;box-sizing: border-box;padding-bottom: 0.4em;background-color: white;}#sk-container-id-1 div.sk-label label {font-family: monospace;font-weight: bold;display: inline-block;line-height: 1.2em;}#sk-container-id-1 div.sk-label-container {text-align: center;}#sk-container-id-1 div.sk-container {/* jupyter's `normalize.less` sets `[hidden] { display: none; }` but bootstrap.min.css set `[hidden] { display: none !important; }` so we also need the `!important` here to be able to override the default hidden behavior on the sphinx rendered scikit-learn.org. See: https://github.com/scikit-learn/scikit-learn/issues/21755 */display: inline-block !important;position: relative;}#sk-container-id-1 div.sk-text-repr-fallback {display: none;}</style><div id=\"sk-container-id-1\" class=\"sk-top-container\"><div class=\"sk-text-repr-fallback\"><pre>SVC(kernel=&#x27;linear&#x27;, probability=True)</pre><b>In a Jupyter environment, please rerun this cell to show the HTML representation or trust the notebook. <br />On GitHub, the HTML representation is unable to render, please try loading this page with nbviewer.org.</b></div><div class=\"sk-container\" hidden><div class=\"sk-item\"><div class=\"sk-estimator sk-toggleable\"><input class=\"sk-toggleable__control sk-hidden--visually\" id=\"sk-estimator-id-1\" type=\"checkbox\" checked><label for=\"sk-estimator-id-1\" class=\"sk-toggleable__label sk-toggleable__label-arrow\">SVC</label><div class=\"sk-toggleable__content\"><pre>SVC(kernel=&#x27;linear&#x27;, probability=True)</pre></div></div></div></div></div>"
            ]
          },
          "metadata": {},
          "execution_count": 18
        }
      ]
    },
    {
      "cell_type": "code",
      "source": [
        "y_pred = model_svm.predict(X_test)"
      ],
      "metadata": {
        "id": "G22ffpPoRsfj"
      },
      "execution_count": 19,
      "outputs": []
    },
    {
      "cell_type": "markdown",
      "source": [
        "### **Recall, Precision, & Weighted Accuracy**"
      ],
      "metadata": {
        "id": "Kdz3P-WGEpQ9"
      }
    },
    {
      "cell_type": "code",
      "source": [
        "recall = \"{:.2f}\".format(recall_score(y_test, y_pred, average='weighted'))\n",
        "precision = \"{:.2f}\".format(precision_score(y_test, y_pred, average='weighted'))\n",
        "weighted_accuracy = \"{:.2f}\".format(accuracy_score(y_test, y_pred))\n",
        "\n",
        "print(f\"Recall: {recall}\")\n",
        "print(f\"Precision: {precision}\")\n",
        "print(f\"Weighted Accuracy: {weighted_accuracy}\")"
      ],
      "metadata": {
        "colab": {
          "base_uri": "https://localhost:8080/"
        },
        "id": "9dzmbTryRsZo",
        "outputId": "00a566e3-fa91-44d9-fb17-e6f59cde52a8"
      },
      "execution_count": null,
      "outputs": [
        {
          "output_type": "stream",
          "name": "stdout",
          "text": [
            "Recall: 0.59\n",
            "Precision: 0.59\n",
            "Weighted Accuracy: 0.59\n"
          ]
        }
      ]
    },
    {
      "cell_type": "code",
      "source": [
        "label_binarizer = LabelBinarizer().fit(y_train)\n",
        "y_onehot_test = label_binarizer.transform(y_test)\n",
        "y_onehot_test.shape"
      ],
      "metadata": {
        "colab": {
          "base_uri": "https://localhost:8080/"
        },
        "id": "8v7rc14mC7Jo",
        "outputId": "06a1be27-0cb5-49d7-e671-a755d3f71d8e"
      },
      "execution_count": null,
      "outputs": [
        {
          "output_type": "execute_result",
          "data": {
            "text/plain": [
              "(2679, 4)"
            ]
          },
          "metadata": {},
          "execution_count": 272
        }
      ]
    },
    {
      "cell_type": "code",
      "source": [
        "label_encoder = LabelEncoder()\n",
        "y_prediction_encoded = label_encoder.fit_transform(y_pred)"
      ],
      "metadata": {
        "id": "gknYwS2uC7Gg"
      },
      "execution_count": null,
      "outputs": []
    },
    {
      "cell_type": "markdown",
      "source": [
        "### **AUC for Class A**"
      ],
      "metadata": {
        "id": "Mo_4MXeEErEj"
      }
    },
    {
      "cell_type": "code",
      "source": [
        "label_binarizer.transform([\"A\"])"
      ],
      "metadata": {
        "colab": {
          "base_uri": "https://localhost:8080/"
        },
        "id": "2iCrQHrFGl9Q",
        "outputId": "39054587-e990-4b27-c269-baa2021d0ff7"
      },
      "execution_count": null,
      "outputs": [
        {
          "output_type": "execute_result",
          "data": {
            "text/plain": [
              "array([[1, 0, 0, 0]])"
            ]
          },
          "metadata": {},
          "execution_count": 293
        }
      ]
    },
    {
      "cell_type": "code",
      "source": [
        "class_of_interest = \"A\"\n",
        "class_id = np.flatnonzero(label_binarizer.classes_ == class_of_interest)[0]\n",
        "class_id"
      ],
      "metadata": {
        "colab": {
          "base_uri": "https://localhost:8080/"
        },
        "id": "ER0gXDIHGrUN",
        "outputId": "fa10409c-5be9-442d-e56c-e00011fc3d0d"
      },
      "execution_count": null,
      "outputs": [
        {
          "output_type": "execute_result",
          "data": {
            "text/plain": [
              "0"
            ]
          },
          "metadata": {},
          "execution_count": 294
        }
      ]
    },
    {
      "cell_type": "code",
      "source": [
        "auc_score_a = roc_auc_score(y_onehot_test[:, class_id], y_prediction_encoded)"
      ],
      "metadata": {
        "id": "-rpC0D17HAYf"
      },
      "execution_count": null,
      "outputs": []
    },
    {
      "cell_type": "code",
      "source": [
        "print(f\"AUC Class A: {auc_score_a:.2f}\")"
      ],
      "metadata": {
        "colab": {
          "base_uri": "https://localhost:8080/"
        },
        "id": "PLjNbUw0HKNV",
        "outputId": "4c97781a-1b17-4433-bd33-1ee41bfa64ac"
      },
      "execution_count": null,
      "outputs": [
        {
          "output_type": "stream",
          "name": "stdout",
          "text": [
            "AUC Class A: 0.13\n"
          ]
        }
      ]
    },
    {
      "cell_type": "markdown",
      "source": [
        "### **AUC for Class B**"
      ],
      "metadata": {
        "id": "_Gn_TAQyHVPC"
      }
    },
    {
      "cell_type": "code",
      "source": [
        "label_binarizer.transform([\"B\"])"
      ],
      "metadata": {
        "colab": {
          "base_uri": "https://localhost:8080/"
        },
        "id": "9znl3qYQHWQA",
        "outputId": "22f30443-01c5-4d21-c278-617b341619b9"
      },
      "execution_count": null,
      "outputs": [
        {
          "output_type": "execute_result",
          "data": {
            "text/plain": [
              "array([[0, 1, 0, 0]])"
            ]
          },
          "metadata": {},
          "execution_count": 297
        }
      ]
    },
    {
      "cell_type": "code",
      "source": [
        "class_of_interest = \"B\"\n",
        "class_id = np.flatnonzero(label_binarizer.classes_ == class_of_interest)[0]\n",
        "class_id"
      ],
      "metadata": {
        "colab": {
          "base_uri": "https://localhost:8080/"
        },
        "id": "2soGlrTXHWLi",
        "outputId": "c67d6de3-53ad-4c68-dd37-be1dd7eac9b3"
      },
      "execution_count": null,
      "outputs": [
        {
          "output_type": "execute_result",
          "data": {
            "text/plain": [
              "1"
            ]
          },
          "metadata": {},
          "execution_count": 298
        }
      ]
    },
    {
      "cell_type": "code",
      "source": [
        "auc_score_b = roc_auc_score(y_onehot_test[:, class_id], y_prediction_encoded)"
      ],
      "metadata": {
        "id": "jhTV5mCEHWGW"
      },
      "execution_count": null,
      "outputs": []
    },
    {
      "cell_type": "code",
      "source": [
        "print(f\"AUC Class B: {auc_score_b:.2f}\")"
      ],
      "metadata": {
        "colab": {
          "base_uri": "https://localhost:8080/"
        },
        "id": "RVoWTXf2HV-r",
        "outputId": "1318a7fc-80a1-47da-8259-85799d8f73be"
      },
      "execution_count": null,
      "outputs": [
        {
          "output_type": "stream",
          "name": "stdout",
          "text": [
            "AUC Class B: 0.37\n"
          ]
        }
      ]
    },
    {
      "cell_type": "markdown",
      "source": [
        "### **AUC for Class C**"
      ],
      "metadata": {
        "id": "SVeu-KA7Hnow"
      }
    },
    {
      "cell_type": "code",
      "source": [
        "label_binarizer.transform([\"C\"])"
      ],
      "metadata": {
        "colab": {
          "base_uri": "https://localhost:8080/"
        },
        "id": "g4L_OJe9Hn92",
        "outputId": "b2ba1fe1-7f76-4011-fb45-2fa8a59c4235"
      },
      "execution_count": null,
      "outputs": [
        {
          "output_type": "execute_result",
          "data": {
            "text/plain": [
              "array([[0, 0, 1, 0]])"
            ]
          },
          "metadata": {},
          "execution_count": 311
        }
      ]
    },
    {
      "cell_type": "code",
      "source": [
        "class_of_interest = \"C\"\n",
        "class_id = np.flatnonzero(label_binarizer.classes_ == class_of_interest)[0]\n",
        "class_id"
      ],
      "metadata": {
        "colab": {
          "base_uri": "https://localhost:8080/"
        },
        "id": "Zkt6n3x0Hojd",
        "outputId": "89af7cbb-1bd2-4aa1-99dc-7b438d702b6b"
      },
      "execution_count": null,
      "outputs": [
        {
          "output_type": "execute_result",
          "data": {
            "text/plain": [
              "2"
            ]
          },
          "metadata": {},
          "execution_count": 312
        }
      ]
    },
    {
      "cell_type": "code",
      "source": [
        "auc_score_c = roc_auc_score(y_onehot_test[:, class_id], y_prediction_encoded)"
      ],
      "metadata": {
        "id": "LpWK48u3Hoei"
      },
      "execution_count": null,
      "outputs": []
    },
    {
      "cell_type": "code",
      "source": [
        "print(f\"AUC Class C: {auc_score_c:.2f}\")"
      ],
      "metadata": {
        "colab": {
          "base_uri": "https://localhost:8080/"
        },
        "id": "ImNcLbihHoW6",
        "outputId": "9b6f3903-57dd-4f00-93bf-2c71ec067ab8"
      },
      "execution_count": null,
      "outputs": [
        {
          "output_type": "stream",
          "name": "stdout",
          "text": [
            "AUC Class C: 0.59\n"
          ]
        }
      ]
    },
    {
      "cell_type": "markdown",
      "source": [
        "### **AUC for Class D**"
      ],
      "metadata": {
        "id": "sBb0G32jHw5E"
      }
    },
    {
      "cell_type": "code",
      "source": [
        "label_binarizer.transform([\"D\"])"
      ],
      "metadata": {
        "colab": {
          "base_uri": "https://localhost:8080/"
        },
        "id": "5Z-3tMS8HxKb",
        "outputId": "c0b2517f-089e-4822-a8a9-2562d394b20f"
      },
      "execution_count": null,
      "outputs": [
        {
          "output_type": "execute_result",
          "data": {
            "text/plain": [
              "array([[0, 0, 0, 1]])"
            ]
          },
          "metadata": {},
          "execution_count": 307
        }
      ]
    },
    {
      "cell_type": "code",
      "source": [
        "class_of_interest = \"D\"\n",
        "class_id = np.flatnonzero(label_binarizer.classes_ == class_of_interest)[0]\n",
        "class_id"
      ],
      "metadata": {
        "colab": {
          "base_uri": "https://localhost:8080/"
        },
        "id": "6fpmuK7hHx14",
        "outputId": "bdbca412-9789-4cc2-f921-70666b413bba"
      },
      "execution_count": null,
      "outputs": [
        {
          "output_type": "execute_result",
          "data": {
            "text/plain": [
              "3"
            ]
          },
          "metadata": {},
          "execution_count": 308
        }
      ]
    },
    {
      "cell_type": "code",
      "source": [
        "auc_score_d = roc_auc_score(y_onehot_test[:, class_id], y_prediction_encoded)"
      ],
      "metadata": {
        "id": "E6sagQjRHxoB"
      },
      "execution_count": null,
      "outputs": []
    },
    {
      "cell_type": "code",
      "source": [
        "print(f\"AUC Class D: {auc_score_d:.2f}\")"
      ],
      "metadata": {
        "colab": {
          "base_uri": "https://localhost:8080/"
        },
        "id": "Dg2gii7lHxjk",
        "outputId": "50824b4a-136b-4a9b-9677-7562d083935d"
      },
      "execution_count": null,
      "outputs": [
        {
          "output_type": "stream",
          "name": "stdout",
          "text": [
            "AUC Class D: 0.89\n"
          ]
        }
      ]
    },
    {
      "cell_type": "markdown",
      "source": [
        "### **All AUC Score**"
      ],
      "metadata": {
        "id": "2tvEkTbwIrk2"
      }
    },
    {
      "cell_type": "code",
      "source": [
        "print(f\"AUC Class A: {auc_score_a:.2f}\")\n",
        "print(f\"AUC Class B: {auc_score_b:.2f}\")\n",
        "print(f\"AUC Class C: {auc_score_c:.2f}\")\n",
        "print(f\"AUC Class D: {auc_score_d:.2f}\")"
      ],
      "metadata": {
        "colab": {
          "base_uri": "https://localhost:8080/"
        },
        "id": "un28ux24ItpI",
        "outputId": "9851fd2a-54b6-4e76-d0d7-27d72ce2143f"
      },
      "execution_count": null,
      "outputs": [
        {
          "output_type": "stream",
          "name": "stdout",
          "text": [
            "AUC Class A: 0.13\n",
            "AUC Class B: 0.37\n",
            "AUC Class C: 0.59\n",
            "AUC Class D: 0.89\n"
          ]
        }
      ]
    },
    {
      "cell_type": "markdown",
      "source": [
        "## **Использовать Random Forest Classifier**"
      ],
      "metadata": {
        "id": "39IrkCK2RIb9"
      }
    },
    {
      "cell_type": "code",
      "source": [
        "model_rf = RandomForestClassifier(n_estimators=100, random_state=42)\n",
        "model_rf.fit(X_train, y_train)"
      ],
      "metadata": {
        "colab": {
          "base_uri": "https://localhost:8080/",
          "height": 131
        },
        "id": "TMPcrcndPo8l",
        "outputId": "57070e0f-d425-4dbc-e2a9-bfa8056ec1bc"
      },
      "execution_count": null,
      "outputs": [
        {
          "output_type": "stream",
          "name": "stderr",
          "text": [
            "/usr/local/lib/python3.10/dist-packages/sklearn/base.py:1152: DataConversionWarning: A column-vector y was passed when a 1d array was expected. Please change the shape of y to (n_samples,), for example using ravel().\n",
            "  return fit_method(estimator, *args, **kwargs)\n"
          ]
        },
        {
          "output_type": "execute_result",
          "data": {
            "text/plain": [
              "RandomForestClassifier(random_state=42)"
            ],
            "text/html": [
              "<style>#sk-container-id-10 {color: black;}#sk-container-id-10 pre{padding: 0;}#sk-container-id-10 div.sk-toggleable {background-color: white;}#sk-container-id-10 label.sk-toggleable__label {cursor: pointer;display: block;width: 100%;margin-bottom: 0;padding: 0.3em;box-sizing: border-box;text-align: center;}#sk-container-id-10 label.sk-toggleable__label-arrow:before {content: \"▸\";float: left;margin-right: 0.25em;color: #696969;}#sk-container-id-10 label.sk-toggleable__label-arrow:hover:before {color: black;}#sk-container-id-10 div.sk-estimator:hover label.sk-toggleable__label-arrow:before {color: black;}#sk-container-id-10 div.sk-toggleable__content {max-height: 0;max-width: 0;overflow: hidden;text-align: left;background-color: #f0f8ff;}#sk-container-id-10 div.sk-toggleable__content pre {margin: 0.2em;color: black;border-radius: 0.25em;background-color: #f0f8ff;}#sk-container-id-10 input.sk-toggleable__control:checked~div.sk-toggleable__content {max-height: 200px;max-width: 100%;overflow: auto;}#sk-container-id-10 input.sk-toggleable__control:checked~label.sk-toggleable__label-arrow:before {content: \"▾\";}#sk-container-id-10 div.sk-estimator input.sk-toggleable__control:checked~label.sk-toggleable__label {background-color: #d4ebff;}#sk-container-id-10 div.sk-label input.sk-toggleable__control:checked~label.sk-toggleable__label {background-color: #d4ebff;}#sk-container-id-10 input.sk-hidden--visually {border: 0;clip: rect(1px 1px 1px 1px);clip: rect(1px, 1px, 1px, 1px);height: 1px;margin: -1px;overflow: hidden;padding: 0;position: absolute;width: 1px;}#sk-container-id-10 div.sk-estimator {font-family: monospace;background-color: #f0f8ff;border: 1px dotted black;border-radius: 0.25em;box-sizing: border-box;margin-bottom: 0.5em;}#sk-container-id-10 div.sk-estimator:hover {background-color: #d4ebff;}#sk-container-id-10 div.sk-parallel-item::after {content: \"\";width: 100%;border-bottom: 1px solid gray;flex-grow: 1;}#sk-container-id-10 div.sk-label:hover label.sk-toggleable__label {background-color: #d4ebff;}#sk-container-id-10 div.sk-serial::before {content: \"\";position: absolute;border-left: 1px solid gray;box-sizing: border-box;top: 0;bottom: 0;left: 50%;z-index: 0;}#sk-container-id-10 div.sk-serial {display: flex;flex-direction: column;align-items: center;background-color: white;padding-right: 0.2em;padding-left: 0.2em;position: relative;}#sk-container-id-10 div.sk-item {position: relative;z-index: 1;}#sk-container-id-10 div.sk-parallel {display: flex;align-items: stretch;justify-content: center;background-color: white;position: relative;}#sk-container-id-10 div.sk-item::before, #sk-container-id-10 div.sk-parallel-item::before {content: \"\";position: absolute;border-left: 1px solid gray;box-sizing: border-box;top: 0;bottom: 0;left: 50%;z-index: -1;}#sk-container-id-10 div.sk-parallel-item {display: flex;flex-direction: column;z-index: 1;position: relative;background-color: white;}#sk-container-id-10 div.sk-parallel-item:first-child::after {align-self: flex-end;width: 50%;}#sk-container-id-10 div.sk-parallel-item:last-child::after {align-self: flex-start;width: 50%;}#sk-container-id-10 div.sk-parallel-item:only-child::after {width: 0;}#sk-container-id-10 div.sk-dashed-wrapped {border: 1px dashed gray;margin: 0 0.4em 0.5em 0.4em;box-sizing: border-box;padding-bottom: 0.4em;background-color: white;}#sk-container-id-10 div.sk-label label {font-family: monospace;font-weight: bold;display: inline-block;line-height: 1.2em;}#sk-container-id-10 div.sk-label-container {text-align: center;}#sk-container-id-10 div.sk-container {/* jupyter's `normalize.less` sets `[hidden] { display: none; }` but bootstrap.min.css set `[hidden] { display: none !important; }` so we also need the `!important` here to be able to override the default hidden behavior on the sphinx rendered scikit-learn.org. See: https://github.com/scikit-learn/scikit-learn/issues/21755 */display: inline-block !important;position: relative;}#sk-container-id-10 div.sk-text-repr-fallback {display: none;}</style><div id=\"sk-container-id-10\" class=\"sk-top-container\"><div class=\"sk-text-repr-fallback\"><pre>RandomForestClassifier(random_state=42)</pre><b>In a Jupyter environment, please rerun this cell to show the HTML representation or trust the notebook. <br />On GitHub, the HTML representation is unable to render, please try loading this page with nbviewer.org.</b></div><div class=\"sk-container\" hidden><div class=\"sk-item\"><div class=\"sk-estimator sk-toggleable\"><input class=\"sk-toggleable__control sk-hidden--visually\" id=\"sk-estimator-id-10\" type=\"checkbox\" checked><label for=\"sk-estimator-id-10\" class=\"sk-toggleable__label sk-toggleable__label-arrow\">RandomForestClassifier</label><div class=\"sk-toggleable__content\"><pre>RandomForestClassifier(random_state=42)</pre></div></div></div></div></div>"
            ]
          },
          "metadata": {},
          "execution_count": 406
        }
      ]
    },
    {
      "cell_type": "code",
      "source": [
        "y_pred = model_rf.predict(X_test)"
      ],
      "metadata": {
        "id": "OH56OmlbP0TS"
      },
      "execution_count": null,
      "outputs": []
    },
    {
      "cell_type": "markdown",
      "source": [
        "### **Recall, Precision, & Weighted Accuracy**"
      ],
      "metadata": {
        "id": "GvMSjr5QE7af"
      }
    },
    {
      "cell_type": "code",
      "source": [
        "recall = \"{:.2f}\".format(recall_score(y_test, y_pred, average='weighted'))\n",
        "precision = \"{:.2f}\".format(precision_score(y_test, y_pred, average='weighted'))\n",
        "weighted_accuracy = \"{:.2f}\".format(accuracy_score(y_test, y_pred))\n",
        "\n",
        "print(f\"Recall: {recall}\")\n",
        "print(f\"Precision: {precision}\")\n",
        "print(f\"Weighted Accuracy: {weighted_accuracy}\")"
      ],
      "metadata": {
        "colab": {
          "base_uri": "https://localhost:8080/"
        },
        "id": "wUT3AqouPo25",
        "outputId": "f1938652-c172-4464-8506-159e52427081"
      },
      "execution_count": null,
      "outputs": [
        {
          "output_type": "stream",
          "name": "stdout",
          "text": [
            "Recall: 0.73\n",
            "Precision: 0.74\n",
            "Weighted Accuracy: 0.73\n"
          ]
        }
      ]
    },
    {
      "cell_type": "code",
      "source": [
        "label_binarizer = LabelBinarizer().fit(y_train)\n",
        "y_onehot_test = label_binarizer.transform(y_test)\n",
        "y_onehot_test.shape"
      ],
      "metadata": {
        "colab": {
          "base_uri": "https://localhost:8080/"
        },
        "id": "ZLfydHkFJDPk",
        "outputId": "3ecc62f7-3448-48ee-d1dc-bb1b63d2db49"
      },
      "execution_count": null,
      "outputs": [
        {
          "output_type": "execute_result",
          "data": {
            "text/plain": [
              "(2679, 4)"
            ]
          },
          "metadata": {},
          "execution_count": 409
        }
      ]
    },
    {
      "cell_type": "code",
      "source": [
        "label_encoder = LabelEncoder()\n",
        "y_prediction_encoded = label_encoder.fit_transform(y_pred)"
      ],
      "metadata": {
        "id": "BYz52VqZJFJB"
      },
      "execution_count": null,
      "outputs": []
    },
    {
      "cell_type": "markdown",
      "source": [
        "### **AUC for Class A**\n"
      ],
      "metadata": {
        "id": "RIKYEWmyI90V"
      }
    },
    {
      "cell_type": "code",
      "source": [
        "label_binarizer.transform([\"A\"])"
      ],
      "metadata": {
        "colab": {
          "base_uri": "https://localhost:8080/"
        },
        "id": "ctpJKUWLI9pa",
        "outputId": "7327ec49-4d7e-4435-f351-8c187c4c9cc1"
      },
      "execution_count": null,
      "outputs": [
        {
          "output_type": "execute_result",
          "data": {
            "text/plain": [
              "array([[1, 0, 0, 0]])"
            ]
          },
          "metadata": {},
          "execution_count": 411
        }
      ]
    },
    {
      "cell_type": "code",
      "source": [
        "class_of_interest = \"A\"\n",
        "class_id = np.flatnonzero(label_binarizer.classes_ == class_of_interest)[0]\n",
        "class_id"
      ],
      "metadata": {
        "colab": {
          "base_uri": "https://localhost:8080/"
        },
        "id": "EfkY6h-tI9i6",
        "outputId": "456714eb-24a1-4021-8be2-1062dca1ba19"
      },
      "execution_count": null,
      "outputs": [
        {
          "output_type": "execute_result",
          "data": {
            "text/plain": [
              "0"
            ]
          },
          "metadata": {},
          "execution_count": 412
        }
      ]
    },
    {
      "cell_type": "code",
      "source": [
        "auc_score_a = roc_auc_score(y_onehot_test[:, class_id], y_prediction_encoded)"
      ],
      "metadata": {
        "id": "N-vsA4URI9Zs"
      },
      "execution_count": null,
      "outputs": []
    },
    {
      "cell_type": "code",
      "source": [
        "print(f\"AUC Class A: {auc_score_a:.2f}\")"
      ],
      "metadata": {
        "id": "V2vGzyY-Pory",
        "colab": {
          "base_uri": "https://localhost:8080/"
        },
        "outputId": "76a861e1-52e3-461e-b885-397b940ae108"
      },
      "execution_count": null,
      "outputs": [
        {
          "output_type": "stream",
          "name": "stdout",
          "text": [
            "AUC Class A: 0.09\n"
          ]
        }
      ]
    },
    {
      "cell_type": "markdown",
      "source": [
        "#### **ROC for Class A**\n"
      ],
      "metadata": {
        "id": "WOt_QcGPLsHk"
      }
    },
    {
      "cell_type": "code",
      "source": [
        "roc_display_A = RocCurveDisplay.from_predictions(\n",
        "    y_onehot_test[:, class_id],\n",
        "    y_prediction_encoded,\n",
        "    name=f\"{class_of_interest} vs the rest\",\n",
        "    plot_chance_level=True,\n",
        "    color=\"darkorange\"\n",
        ")\n",
        "\n",
        "plt.axis(\"square\")\n",
        "plt.xlabel(\"False Positive Rate\")\n",
        "plt.ylabel(\"True Positive Rate\")\n",
        "plt.title(\"One-vs-Rest ROC curves:\\nA vs (B, C, & D)\")\n",
        "plt.legend()\n",
        "plt.show()"
      ],
      "metadata": {
        "colab": {
          "base_uri": "https://localhost:8080/",
          "height": 493
        },
        "id": "M-oQ6Ma1LUsr",
        "outputId": "d7d0475b-929f-4d38-b089-e6febd5c1099"
      },
      "execution_count": null,
      "outputs": [
        {
          "output_type": "display_data",
          "data": {
            "text/plain": [
              "<Figure size 640x480 with 1 Axes>"
            ],
            "image/png": "[encoded data removed]"
          },
          "metadata": {}
        }
      ]
    },
    {
      "cell_type": "markdown",
      "source": [
        "### **AUC for Class B**\n"
      ],
      "metadata": {
        "id": "ahVHfnljJQ9k"
      }
    },
    {
      "cell_type": "code",
      "source": [
        "label_binarizer.transform([\"B\"])"
      ],
      "metadata": {
        "colab": {
          "base_uri": "https://localhost:8080/"
        },
        "id": "QbC5vpL9JRO-",
        "outputId": "35dd7165-b6b2-4da6-a29b-f7860c811e1f"
      },
      "execution_count": null,
      "outputs": [
        {
          "output_type": "execute_result",
          "data": {
            "text/plain": [
              "array([[0, 1, 0, 0]])"
            ]
          },
          "metadata": {},
          "execution_count": 416
        }
      ]
    },
    {
      "cell_type": "code",
      "source": [
        "class_of_interest = \"B\"\n",
        "class_id = np.flatnonzero(label_binarizer.classes_ == class_of_interest)[0]\n",
        "class_id"
      ],
      "metadata": {
        "colab": {
          "base_uri": "https://localhost:8080/"
        },
        "id": "FflBO7oLJRpW",
        "outputId": "c36546d0-156c-438c-89ad-7938ee25c99e"
      },
      "execution_count": null,
      "outputs": [
        {
          "output_type": "execute_result",
          "data": {
            "text/plain": [
              "1"
            ]
          },
          "metadata": {},
          "execution_count": 417
        }
      ]
    },
    {
      "cell_type": "code",
      "source": [
        "auc_score_b = roc_auc_score(y_onehot_test[:, class_id], y_prediction_encoded)"
      ],
      "metadata": {
        "id": "hR3iAQKFJRk-"
      },
      "execution_count": null,
      "outputs": []
    },
    {
      "cell_type": "code",
      "source": [
        "print(f\"AUC Class B: {auc_score_b:.2f}\")"
      ],
      "metadata": {
        "colab": {
          "base_uri": "https://localhost:8080/"
        },
        "id": "uVvH_0LNJRf1",
        "outputId": "64626cbc-63db-44d8-dd73-f11392ce96b5"
      },
      "execution_count": null,
      "outputs": [
        {
          "output_type": "stream",
          "name": "stdout",
          "text": [
            "AUC Class B: 0.36\n"
          ]
        }
      ]
    },
    {
      "cell_type": "markdown",
      "source": [
        "#### **ROC for Class B**\n"
      ],
      "metadata": {
        "id": "CdPMk-0TLtw9"
      }
    },
    {
      "cell_type": "code",
      "source": [
        "roc_display_B = RocCurveDisplay.from_predictions(\n",
        "    y_onehot_test[:, class_id],\n",
        "    y_prediction_encoded,\n",
        "    name=f\"{class_of_interest} vs the rest\",\n",
        "    plot_chance_level=True,\n",
        "    color=\"darkorange\"\n",
        ")\n",
        "\n",
        "plt.axis(\"square\")\n",
        "plt.xlabel(\"False Positive Rate\")\n",
        "plt.ylabel(\"True Positive Rate\")\n",
        "plt.title(\"One-vs-Rest ROC curves:\\nB vs (A, C, & D)\")\n",
        "plt.legend()\n",
        "plt.show()"
      ],
      "metadata": {
        "colab": {
          "base_uri": "https://localhost:8080/",
          "height": 493
        },
        "id": "Q-hSSAPkLZUy",
        "outputId": "962e281e-2cf2-46aa-c9e7-02126b5c6bb0"
      },
      "execution_count": null,
      "outputs": [
        {
          "output_type": "display_data",
          "data": {
            "text/plain": [
              "<Figure size 640x480 with 1 Axes>"
            ],
            "image/png": "[encoded data removed]"
          },
          "metadata": {}
        }
      ]
    },
    {
      "cell_type": "markdown",
      "source": [
        "### **AUC for Class C**\n"
      ],
      "metadata": {
        "id": "vtVdhqCOJZiC"
      }
    },
    {
      "cell_type": "code",
      "source": [
        "label_binarizer.transform([\"C\"])"
      ],
      "metadata": {
        "colab": {
          "base_uri": "https://localhost:8080/"
        },
        "id": "hWarRGf4JZzs",
        "outputId": "4dece483-81af-444c-b068-ad7bf473e455"
      },
      "execution_count": null,
      "outputs": [
        {
          "output_type": "execute_result",
          "data": {
            "text/plain": [
              "array([[0, 0, 1, 0]])"
            ]
          },
          "metadata": {},
          "execution_count": 421
        }
      ]
    },
    {
      "cell_type": "code",
      "source": [
        "class_of_interest = \"C\"\n",
        "class_id = np.flatnonzero(label_binarizer.classes_ == class_of_interest)[0]\n",
        "class_id"
      ],
      "metadata": {
        "colab": {
          "base_uri": "https://localhost:8080/"
        },
        "id": "9m91a-_6JaCr",
        "outputId": "401bc37f-620e-4d37-e29b-5b623d5399fc"
      },
      "execution_count": null,
      "outputs": [
        {
          "output_type": "execute_result",
          "data": {
            "text/plain": [
              "2"
            ]
          },
          "metadata": {},
          "execution_count": 422
        }
      ]
    },
    {
      "cell_type": "code",
      "source": [
        "auc_score_c = roc_auc_score(y_onehot_test[:, class_id], y_prediction_encoded)"
      ],
      "metadata": {
        "id": "drfzw0qiJaSy"
      },
      "execution_count": null,
      "outputs": []
    },
    {
      "cell_type": "code",
      "source": [
        "print(f\"AUC Class C: {auc_score_c:.2f}\")"
      ],
      "metadata": {
        "colab": {
          "base_uri": "https://localhost:8080/"
        },
        "id": "HNiTXnZAJajp",
        "outputId": "f4c4df03-ce3d-4b6c-e1ef-3bb195381c81"
      },
      "execution_count": null,
      "outputs": [
        {
          "output_type": "stream",
          "name": "stdout",
          "text": [
            "AUC Class C: 0.60\n"
          ]
        }
      ]
    },
    {
      "cell_type": "markdown",
      "source": [
        "#### **ROC for Class C**\n"
      ],
      "metadata": {
        "id": "LBrrTK0JL08o"
      }
    },
    {
      "cell_type": "code",
      "source": [
        "roc_display_C = RocCurveDisplay.from_predictions(\n",
        "    y_onehot_test[:, class_id],\n",
        "    y_prediction_encoded,\n",
        "    name=f\"{class_of_interest} vs the rest\",\n",
        "    plot_chance_level=True,\n",
        "    color=\"darkorange\"\n",
        ")\n",
        "\n",
        "plt.axis(\"square\")\n",
        "plt.xlabel(\"False Positive Rate\")\n",
        "plt.ylabel(\"True Positive Rate\")\n",
        "plt.title(\"One-vs-Rest ROC curves:\\nC vs (A, B, & D)\")\n",
        "plt.legend()\n",
        "plt.show()"
      ],
      "metadata": {
        "colab": {
          "base_uri": "https://localhost:8080/",
          "height": 493
        },
        "id": "mIuW_kXbLb2H",
        "outputId": "c522954b-d2c9-4892-d87f-5ea8e06afd44"
      },
      "execution_count": null,
      "outputs": [
        {
          "output_type": "display_data",
          "data": {
            "text/plain": [
              "<Figure size 640x480 with 1 Axes>"
            ],
            "image/png": "[encoded data removed]"
          },
          "metadata": {}
        }
      ]
    },
    {
      "cell_type": "markdown",
      "source": [
        "### **AUC for Class D**\n"
      ],
      "metadata": {
        "id": "Tg0HNLK3JoFv"
      }
    },
    {
      "cell_type": "code",
      "source": [
        "label_binarizer.transform([\"D\"])"
      ],
      "metadata": {
        "colab": {
          "base_uri": "https://localhost:8080/"
        },
        "id": "ugFQ6xGtJoWU",
        "outputId": "30abb55b-2887-4c43-f70b-aee69c22287b"
      },
      "execution_count": null,
      "outputs": [
        {
          "output_type": "execute_result",
          "data": {
            "text/plain": [
              "array([[0, 0, 0, 1]])"
            ]
          },
          "metadata": {},
          "execution_count": 426
        }
      ]
    },
    {
      "cell_type": "code",
      "source": [
        "class_of_interest = \"D\"\n",
        "class_id = np.flatnonzero(label_binarizer.classes_ == class_of_interest)[0]\n",
        "class_id"
      ],
      "metadata": {
        "colab": {
          "base_uri": "https://localhost:8080/"
        },
        "id": "BN4YRjncJorp",
        "outputId": "88de7193-bf52-4946-df4c-b6e08753e4db"
      },
      "execution_count": null,
      "outputs": [
        {
          "output_type": "execute_result",
          "data": {
            "text/plain": [
              "3"
            ]
          },
          "metadata": {},
          "execution_count": 427
        }
      ]
    },
    {
      "cell_type": "code",
      "source": [
        "auc_score_d = roc_auc_score(y_onehot_test[:, class_id], y_prediction_encoded)"
      ],
      "metadata": {
        "id": "xl_1evZ5Jo_D"
      },
      "execution_count": null,
      "outputs": []
    },
    {
      "cell_type": "code",
      "source": [
        "print(f\"AUC Class D: {auc_score_d:.2f}\")"
      ],
      "metadata": {
        "colab": {
          "base_uri": "https://localhost:8080/"
        },
        "id": "RLv9TqYGJpOi",
        "outputId": "751293b2-0071-4475-8a27-6eb3888588a3"
      },
      "execution_count": null,
      "outputs": [
        {
          "output_type": "stream",
          "name": "stdout",
          "text": [
            "AUC Class D: 0.93\n"
          ]
        }
      ]
    },
    {
      "cell_type": "markdown",
      "source": [
        "#### **ROC for Class D**\n"
      ],
      "metadata": {
        "id": "wcd4SNNSL3fi"
      }
    },
    {
      "cell_type": "code",
      "source": [
        "roc_display_D = RocCurveDisplay.from_predictions(\n",
        "    y_onehot_test[:, class_id],\n",
        "    y_prediction_encoded,\n",
        "    name=f\"{class_of_interest} vs the rest\",\n",
        "    plot_chance_level=True,\n",
        "    color=\"darkorange\"\n",
        ")\n",
        "\n",
        "plt.axis(\"square\")\n",
        "plt.xlabel(\"False Positive Rate\")\n",
        "plt.ylabel(\"True Positive Rate\")\n",
        "plt.title(\"One-vs-Rest ROC curves:\\nD vs (A, B, & C)\")\n",
        "plt.legend()\n",
        "plt.show()"
      ],
      "metadata": {
        "colab": {
          "base_uri": "https://localhost:8080/",
          "height": 493
        },
        "id": "2S_QdsDHLeOd",
        "outputId": "4be744a7-5972-440f-d2d5-1721c9ab386e"
      },
      "execution_count": null,
      "outputs": [
        {
          "output_type": "display_data",
          "data": {
            "text/plain": [
              "<Figure size 640x480 with 1 Axes>"
            ],
            "image/png": "[encoded data removed]"
          },
          "metadata": {}
        }
      ]
    },
    {
      "cell_type": "markdown",
      "source": [
        "### **All AUC Score**"
      ],
      "metadata": {
        "id": "3RdPLeSsJzvN"
      }
    },
    {
      "cell_type": "code",
      "source": [
        "print(f\"AUC Class A: {auc_score_a:.2f}\")\n",
        "print(f\"AUC Class B: {auc_score_b:.2f}\")\n",
        "print(f\"AUC Class C: {auc_score_c:.2f}\")\n",
        "print(f\"AUC Class D: {auc_score_d:.2f}\")"
      ],
      "metadata": {
        "colab": {
          "base_uri": "https://localhost:8080/"
        },
        "id": "FLWQqEpNJ1gE",
        "outputId": "4d94a0b2-7463-4587-cf5a-3f91e7e50c4e"
      },
      "execution_count": null,
      "outputs": [
        {
          "output_type": "stream",
          "name": "stdout",
          "text": [
            "AUC Class A: 0.09\n",
            "AUC Class B: 0.36\n",
            "AUC Class C: 0.60\n",
            "AUC Class D: 0.93\n"
          ]
        }
      ]
    },
    {
      "cell_type": "markdown",
      "source": [
        "## **Использовать Decision Tree Classifier**"
      ],
      "metadata": {
        "id": "hQEdltN2n87G"
      }
    },
    {
      "cell_type": "code",
      "source": [
        "model_dt = DecisionTreeClassifier(max_depth=6)\n",
        "model_dt.fit(X_train,y_train)"
      ],
      "metadata": {
        "colab": {
          "base_uri": "https://localhost:8080/",
          "height": 74
        },
        "id": "6hoBMDAKoCBU",
        "outputId": "fc489ea7-e75c-4992-b081-47563b31bc07"
      },
      "execution_count": null,
      "outputs": [
        {
          "output_type": "execute_result",
          "data": {
            "text/plain": [
              "DecisionTreeClassifier(max_depth=6)"
            ],
            "text/html": [
              "<style>#sk-container-id-9 {color: black;}#sk-container-id-9 pre{padding: 0;}#sk-container-id-9 div.sk-toggleable {background-color: white;}#sk-container-id-9 label.sk-toggleable__label {cursor: pointer;display: block;width: 100%;margin-bottom: 0;padding: 0.3em;box-sizing: border-box;text-align: center;}#sk-container-id-9 label.sk-toggleable__label-arrow:before {content: \"▸\";float: left;margin-right: 0.25em;color: #696969;}#sk-container-id-9 label.sk-toggleable__label-arrow:hover:before {color: black;}#sk-container-id-9 div.sk-estimator:hover label.sk-toggleable__label-arrow:before {color: black;}#sk-container-id-9 div.sk-toggleable__content {max-height: 0;max-width: 0;overflow: hidden;text-align: left;background-color: #f0f8ff;}#sk-container-id-9 div.sk-toggleable__content pre {margin: 0.2em;color: black;border-radius: 0.25em;background-color: #f0f8ff;}#sk-container-id-9 input.sk-toggleable__control:checked~div.sk-toggleable__content {max-height: 200px;max-width: 100%;overflow: auto;}#sk-container-id-9 input.sk-toggleable__control:checked~label.sk-toggleable__label-arrow:before {content: \"▾\";}#sk-container-id-9 div.sk-estimator input.sk-toggleable__control:checked~label.sk-toggleable__label {background-color: #d4ebff;}#sk-container-id-9 div.sk-label input.sk-toggleable__control:checked~label.sk-toggleable__label {background-color: #d4ebff;}#sk-container-id-9 input.sk-hidden--visually {border: 0;clip: rect(1px 1px 1px 1px);clip: rect(1px, 1px, 1px, 1px);height: 1px;margin: -1px;overflow: hidden;padding: 0;position: absolute;width: 1px;}#sk-container-id-9 div.sk-estimator {font-family: monospace;background-color: #f0f8ff;border: 1px dotted black;border-radius: 0.25em;box-sizing: border-box;margin-bottom: 0.5em;}#sk-container-id-9 div.sk-estimator:hover {background-color: #d4ebff;}#sk-container-id-9 div.sk-parallel-item::after {content: \"\";width: 100%;border-bottom: 1px solid gray;flex-grow: 1;}#sk-container-id-9 div.sk-label:hover label.sk-toggleable__label {background-color: #d4ebff;}#sk-container-id-9 div.sk-serial::before {content: \"\";position: absolute;border-left: 1px solid gray;box-sizing: border-box;top: 0;bottom: 0;left: 50%;z-index: 0;}#sk-container-id-9 div.sk-serial {display: flex;flex-direction: column;align-items: center;background-color: white;padding-right: 0.2em;padding-left: 0.2em;position: relative;}#sk-container-id-9 div.sk-item {position: relative;z-index: 1;}#sk-container-id-9 div.sk-parallel {display: flex;align-items: stretch;justify-content: center;background-color: white;position: relative;}#sk-container-id-9 div.sk-item::before, #sk-container-id-9 div.sk-parallel-item::before {content: \"\";position: absolute;border-left: 1px solid gray;box-sizing: border-box;top: 0;bottom: 0;left: 50%;z-index: -1;}#sk-container-id-9 div.sk-parallel-item {display: flex;flex-direction: column;z-index: 1;position: relative;background-color: white;}#sk-container-id-9 div.sk-parallel-item:first-child::after {align-self: flex-end;width: 50%;}#sk-container-id-9 div.sk-parallel-item:last-child::after {align-self: flex-start;width: 50%;}#sk-container-id-9 div.sk-parallel-item:only-child::after {width: 0;}#sk-container-id-9 div.sk-dashed-wrapped {border: 1px dashed gray;margin: 0 0.4em 0.5em 0.4em;box-sizing: border-box;padding-bottom: 0.4em;background-color: white;}#sk-container-id-9 div.sk-label label {font-family: monospace;font-weight: bold;display: inline-block;line-height: 1.2em;}#sk-container-id-9 div.sk-label-container {text-align: center;}#sk-container-id-9 div.sk-container {/* jupyter's `normalize.less` sets `[hidden] { display: none; }` but bootstrap.min.css set `[hidden] { display: none !important; }` so we also need the `!important` here to be able to override the default hidden behavior on the sphinx rendered scikit-learn.org. See: https://github.com/scikit-learn/scikit-learn/issues/21755 */display: inline-block !important;position: relative;}#sk-container-id-9 div.sk-text-repr-fallback {display: none;}</style><div id=\"sk-container-id-9\" class=\"sk-top-container\"><div class=\"sk-text-repr-fallback\"><pre>DecisionTreeClassifier(max_depth=6)</pre><b>In a Jupyter environment, please rerun this cell to show the HTML representation or trust the notebook. <br />On GitHub, the HTML representation is unable to render, please try loading this page with nbviewer.org.</b></div><div class=\"sk-container\" hidden><div class=\"sk-item\"><div class=\"sk-estimator sk-toggleable\"><input class=\"sk-toggleable__control sk-hidden--visually\" id=\"sk-estimator-id-9\" type=\"checkbox\" checked><label for=\"sk-estimator-id-9\" class=\"sk-toggleable__label sk-toggleable__label-arrow\">DecisionTreeClassifier</label><div class=\"sk-toggleable__content\"><pre>DecisionTreeClassifier(max_depth=6)</pre></div></div></div></div></div>"
            ]
          },
          "metadata": {},
          "execution_count": 373
        }
      ]
    },
    {
      "cell_type": "code",
      "source": [
        "y_prediction = model_dt.predict(X_test)"
      ],
      "metadata": {
        "id": "tpy6TTEqoB89"
      },
      "execution_count": null,
      "outputs": []
    },
    {
      "cell_type": "markdown",
      "source": [
        "### **Recall, Precision, & Weighted Accuracy**"
      ],
      "metadata": {
        "id": "Um8QRuD197fy"
      }
    },
    {
      "cell_type": "code",
      "source": [
        "recall = \"{:.2f}\".format(recall_score(y_test, y_prediction, average='weighted'))\n",
        "precision = \"{:.2f}\".format(precision_score(y_test, y_prediction, average='weighted'))\n",
        "weighted_accuracy = \"{:.2f}\".format(accuracy_score(y_test, y_prediction))\n",
        "\n",
        "print(f\"Recall: {recall}\")\n",
        "print(f\"Precision: {precision}\")\n",
        "print(f\"Weighted Accuracy: {weighted_accuracy}\")"
      ],
      "metadata": {
        "colab": {
          "base_uri": "https://localhost:8080/"
        },
        "id": "t0EpJ0RwoB1s",
        "outputId": "a9eb7c29-9dbf-4a2a-b9ba-ad191c7c7f00"
      },
      "execution_count": null,
      "outputs": [
        {
          "output_type": "stream",
          "name": "stdout",
          "text": [
            "Recall: 0.62\n",
            "Precision: 0.64\n",
            "Weighted Accuracy: 0.62\n"
          ]
        }
      ]
    },
    {
      "cell_type": "code",
      "source": [
        "label_binarizer = LabelBinarizer().fit(y_train)\n",
        "y_onehot_test = label_binarizer.transform(y_test)\n",
        "y_onehot_test.shape"
      ],
      "metadata": {
        "colab": {
          "base_uri": "https://localhost:8080/"
        },
        "id": "-kvV0Jjg3ZSG",
        "outputId": "0613f7bf-8821-4742-cc55-ba1958b68abb"
      },
      "execution_count": null,
      "outputs": [
        {
          "output_type": "execute_result",
          "data": {
            "text/plain": [
              "(2679, 4)"
            ]
          },
          "metadata": {},
          "execution_count": 376
        }
      ]
    },
    {
      "cell_type": "code",
      "source": [
        "label_encoder = LabelEncoder()\n",
        "y_prediction_encoded = label_encoder.fit_transform(y_prediction)"
      ],
      "metadata": {
        "id": "Ksba-X4LcdH5"
      },
      "execution_count": null,
      "outputs": []
    },
    {
      "cell_type": "markdown",
      "source": [
        "### **AUC for Class A**\n"
      ],
      "metadata": {
        "id": "n1R6cvDNKC3T"
      }
    },
    {
      "cell_type": "code",
      "source": [
        "label_binarizer.transform([\"A\"])"
      ],
      "metadata": {
        "colab": {
          "base_uri": "https://localhost:8080/"
        },
        "id": "ecVZDndPKDIE",
        "outputId": "b268a999-6d05-475d-fd6a-657315da352d"
      },
      "execution_count": null,
      "outputs": [
        {
          "output_type": "execute_result",
          "data": {
            "text/plain": [
              "array([[1, 0, 0, 0]])"
            ]
          },
          "metadata": {},
          "execution_count": 378
        }
      ]
    },
    {
      "cell_type": "code",
      "source": [
        "class_of_interest = \"A\"\n",
        "class_id = np.flatnonzero(label_binarizer.classes_ == class_of_interest)[0]\n",
        "class_id"
      ],
      "metadata": {
        "colab": {
          "base_uri": "https://localhost:8080/"
        },
        "id": "XrT1yOI4KDtC",
        "outputId": "56c289ef-e260-4ea6-94e2-2635b05130b9"
      },
      "execution_count": null,
      "outputs": [
        {
          "output_type": "execute_result",
          "data": {
            "text/plain": [
              "0"
            ]
          },
          "metadata": {},
          "execution_count": 379
        }
      ]
    },
    {
      "cell_type": "code",
      "source": [
        "auc_score_a = roc_auc_score(y_onehot_test[:, class_id], y_prediction_encoded)"
      ],
      "metadata": {
        "id": "6vj6IRqSKDi9"
      },
      "execution_count": null,
      "outputs": []
    },
    {
      "cell_type": "code",
      "source": [
        "print(f\"AUC Class A: {auc_score_a:.2f}\")"
      ],
      "metadata": {
        "colab": {
          "base_uri": "https://localhost:8080/"
        },
        "id": "ZWYJLXQfKDYB",
        "outputId": "b903d3c2-c1ff-44d0-d397-4c3efa042074"
      },
      "execution_count": null,
      "outputs": [
        {
          "output_type": "stream",
          "name": "stdout",
          "text": [
            "AUC Class A: 0.13\n"
          ]
        }
      ]
    },
    {
      "cell_type": "markdown",
      "source": [
        "### **AUC for Class B**"
      ],
      "metadata": {
        "id": "sPFdBCWXKb2K"
      }
    },
    {
      "cell_type": "code",
      "source": [
        "label_binarizer.transform([\"B\"])"
      ],
      "metadata": {
        "colab": {
          "base_uri": "https://localhost:8080/"
        },
        "id": "T0A8zXI9KcIZ",
        "outputId": "117ccf33-4656-444f-86b2-d89d0b6532bd"
      },
      "execution_count": null,
      "outputs": [
        {
          "output_type": "execute_result",
          "data": {
            "text/plain": [
              "array([[0, 1, 0, 0]])"
            ]
          },
          "metadata": {},
          "execution_count": 382
        }
      ]
    },
    {
      "cell_type": "code",
      "source": [
        "class_of_interest = \"B\"\n",
        "class_id = np.flatnonzero(label_binarizer.classes_ == class_of_interest)[0]\n",
        "class_id"
      ],
      "metadata": {
        "colab": {
          "base_uri": "https://localhost:8080/"
        },
        "id": "LWQTcuTcKcgB",
        "outputId": "3ce8280a-836d-4bdd-8066-68c92b1ba0b5"
      },
      "execution_count": null,
      "outputs": [
        {
          "output_type": "execute_result",
          "data": {
            "text/plain": [
              "1"
            ]
          },
          "metadata": {},
          "execution_count": 383
        }
      ]
    },
    {
      "cell_type": "code",
      "source": [
        "auc_score_b = roc_auc_score(y_onehot_test[:, class_id], y_prediction_encoded)"
      ],
      "metadata": {
        "id": "zSPY8-48KcaK"
      },
      "execution_count": null,
      "outputs": []
    },
    {
      "cell_type": "code",
      "source": [
        "print(f\"AUC Class B: {auc_score_b:.2f}\")"
      ],
      "metadata": {
        "colab": {
          "base_uri": "https://localhost:8080/"
        },
        "id": "pUKJKxoRKcST",
        "outputId": "f09ff1e7-41e4-48b3-823d-a3e2f1325c5b"
      },
      "execution_count": null,
      "outputs": [
        {
          "output_type": "stream",
          "name": "stdout",
          "text": [
            "AUC Class B: 0.39\n"
          ]
        }
      ]
    },
    {
      "cell_type": "markdown",
      "source": [
        "### **AUC for Class C**"
      ],
      "metadata": {
        "id": "J5XHP_c4Kcy6"
      }
    },
    {
      "cell_type": "code",
      "source": [
        "label_binarizer.transform([\"C\"])"
      ],
      "metadata": {
        "colab": {
          "base_uri": "https://localhost:8080/"
        },
        "id": "R9oVEibBKdCd",
        "outputId": "8fb2ce67-2dfe-4679-d6f5-ded2435aaf76"
      },
      "execution_count": null,
      "outputs": [
        {
          "output_type": "execute_result",
          "data": {
            "text/plain": [
              "array([[0, 0, 1, 0]])"
            ]
          },
          "metadata": {},
          "execution_count": 386
        }
      ]
    },
    {
      "cell_type": "code",
      "source": [
        "class_of_interest = \"C\"\n",
        "class_id = np.flatnonzero(label_binarizer.classes_ == class_of_interest)[0]\n",
        "class_id"
      ],
      "metadata": {
        "colab": {
          "base_uri": "https://localhost:8080/"
        },
        "id": "tTlOFRQ1Kd2Q",
        "outputId": "eb685c0e-8d36-4d0e-a5f9-2a52fea4ec8b"
      },
      "execution_count": null,
      "outputs": [
        {
          "output_type": "execute_result",
          "data": {
            "text/plain": [
              "2"
            ]
          },
          "metadata": {},
          "execution_count": 387
        }
      ]
    },
    {
      "cell_type": "code",
      "source": [
        "auc_score_c = roc_auc_score(y_onehot_test[:, class_id], y_prediction_encoded)"
      ],
      "metadata": {
        "id": "keiMKvHWKdsk"
      },
      "execution_count": null,
      "outputs": []
    },
    {
      "cell_type": "code",
      "source": [
        "print(f\"AUC Class C: {auc_score_c:.2f}\")"
      ],
      "metadata": {
        "colab": {
          "base_uri": "https://localhost:8080/"
        },
        "id": "PKoEJqgoKdZd",
        "outputId": "456135d5-b55d-4176-dbf0-c394b3f11129"
      },
      "execution_count": null,
      "outputs": [
        {
          "output_type": "stream",
          "name": "stdout",
          "text": [
            "AUC Class C: 0.57\n"
          ]
        }
      ]
    },
    {
      "cell_type": "markdown",
      "source": [
        "### **AUC for Class D**"
      ],
      "metadata": {
        "id": "OSFvdbb_Koz2"
      }
    },
    {
      "cell_type": "code",
      "source": [
        "label_binarizer.transform([\"D\"])"
      ],
      "metadata": {
        "colab": {
          "base_uri": "https://localhost:8080/"
        },
        "id": "wPGB8mR_KpEx",
        "outputId": "7a4e6155-ead0-4976-918a-51466a160dd3"
      },
      "execution_count": null,
      "outputs": [
        {
          "output_type": "execute_result",
          "data": {
            "text/plain": [
              "array([[0, 0, 0, 1]])"
            ]
          },
          "metadata": {},
          "execution_count": 390
        }
      ]
    },
    {
      "cell_type": "code",
      "source": [
        "class_of_interest = \"D\"\n",
        "class_id = np.flatnonzero(label_binarizer.classes_ == class_of_interest)[0]\n",
        "class_id"
      ],
      "metadata": {
        "colab": {
          "base_uri": "https://localhost:8080/"
        },
        "id": "ZrfDLtXfKpv2",
        "outputId": "842c527e-0691-4114-e12a-877c4031ed55"
      },
      "execution_count": null,
      "outputs": [
        {
          "output_type": "execute_result",
          "data": {
            "text/plain": [
              "3"
            ]
          },
          "metadata": {},
          "execution_count": 391
        }
      ]
    },
    {
      "cell_type": "code",
      "source": [
        "auc_score_d = roc_auc_score(y_onehot_test[:, class_id], y_prediction_encoded)"
      ],
      "metadata": {
        "id": "b0qLQSV2Kpcn"
      },
      "execution_count": null,
      "outputs": []
    },
    {
      "cell_type": "code",
      "source": [
        "print(f\"AUC Class D: {auc_score_d:.2f}\")"
      ],
      "metadata": {
        "colab": {
          "base_uri": "https://localhost:8080/"
        },
        "id": "N_pXZXzTKpSq",
        "outputId": "5f9a928b-642e-4a38-fa7a-050289d78c2c"
      },
      "execution_count": null,
      "outputs": [
        {
          "output_type": "stream",
          "name": "stdout",
          "text": [
            "AUC Class D: 0.89\n"
          ]
        }
      ]
    },
    {
      "cell_type": "markdown",
      "source": [
        "### **All AUC Score**"
      ],
      "metadata": {
        "id": "XlDXaa5eLFmI"
      }
    },
    {
      "cell_type": "code",
      "source": [
        "print(f\"AUC Class A: {auc_score_a:.2f}\")\n",
        "print(f\"AUC Class B: {auc_score_b:.2f}\")\n",
        "print(f\"AUC Class C: {auc_score_c:.2f}\")\n",
        "print(f\"AUC Class D: {auc_score_d:.2f}\")"
      ],
      "metadata": {
        "colab": {
          "base_uri": "https://localhost:8080/"
        },
        "id": "mvJSy70kLGS9",
        "outputId": "44f85ac8-4196-49e3-f537-22de0a8e7f39"
      },
      "execution_count": null,
      "outputs": [
        {
          "output_type": "stream",
          "name": "stdout",
          "text": [
            "AUC Class A: 0.13\n",
            "AUC Class B: 0.39\n",
            "AUC Class C: 0.57\n",
            "AUC Class D: 0.89\n"
          ]
        }
      ]
    },
    {
      "cell_type": "markdown",
      "source": [
        "## **Использовать Tensorflow**\n"
      ],
      "metadata": {
        "id": "LUeRRTmok3D-"
      }
    },
    {
      "cell_type": "code",
      "source": [
        "y_train = to_categorical(y_train)\n",
        "y_val = to_categorical(y_val)\n",
        "y_test = to_categorical(y_test)"
      ],
      "metadata": {
        "id": "tHvkQAvokng8"
      },
      "execution_count": null,
      "outputs": []
    },
    {
      "cell_type": "code",
      "source": [
        "multi_class_model = tf.keras.Sequential([\n",
        "    tf.keras.layers.Dense(16,activation='relu',input_dim=10),\n",
        "    tf.keras.layers.Dense(5, activation='softmax')\n",
        "])"
      ],
      "metadata": {
        "id": "1La79kIIkneK"
      },
      "execution_count": null,
      "outputs": []
    },
    {
      "cell_type": "code",
      "source": [
        "multi_class_model.summary()"
      ],
      "metadata": {
        "colab": {
          "base_uri": "https://localhost:8080/"
        },
        "id": "YDQnrLbOlQn6",
        "outputId": "1d2a08d6-310e-4d3e-a802-5069122afde1"
      },
      "execution_count": null,
      "outputs": [
        {
          "output_type": "stream",
          "name": "stdout",
          "text": [
            "Model: \"sequential_3\"\n",
            "_________________________________________________________________\n",
            " Layer (type)                Output Shape              Param #   \n",
            "=================================================================\n",
            " dense_7 (Dense)             (None, 16)                176       \n",
            "                                                                 \n",
            " dense_8 (Dense)             (None, 5)                 85        \n",
            "                                                                 \n",
            "=================================================================\n",
            "Total params: 261 (1.02 KB)\n",
            "Trainable params: 261 (1.02 KB)\n",
            "Non-trainable params: 0 (0.00 Byte)\n",
            "_________________________________________________________________\n"
          ]
        }
      ]
    },
    {
      "cell_type": "code",
      "source": [
        "multi_class_model.compile(loss='categorical_crossentropy',\n",
        "                     optimizer='adam',\n",
        "                      metrics='accuracy')"
      ],
      "metadata": {
        "id": "oMumMRUVknbM"
      },
      "execution_count": null,
      "outputs": []
    },
    {
      "cell_type": "code",
      "source": [
        "multi_class_model_history = multi_class_model.fit(X_train, y_train,\n",
        "                      validation_data=(X_val,y_val),\n",
        "                      epochs=90)"
      ],
      "metadata": {
        "colab": {
          "base_uri": "https://localhost:8080/"
        },
        "id": "ZgKk5LvlknYi",
        "outputId": "6f7aabfa-7370-4e1a-81c3-534b28f048d3"
      },
      "execution_count": null,
      "outputs": [
        {
          "output_type": "stream",
          "name": "stdout",
          "text": [
            "Epoch 1/90\n",
            "268/268 [==============================] - 1s 3ms/step - loss: 1.4519 - accuracy: 0.3164 - val_loss: 1.3609 - val_accuracy: 0.3882\n",
            "Epoch 2/90\n",
            "268/268 [==============================] - 1s 2ms/step - loss: 1.3278 - accuracy: 0.4136 - val_loss: 1.2923 - val_accuracy: 0.3868\n",
            "Epoch 3/90\n",
            "268/268 [==============================] - 1s 2ms/step - loss: 1.2595 - accuracy: 0.4278 - val_loss: 1.2216 - val_accuracy: 0.4615\n",
            "Epoch 4/90\n",
            "268/268 [==============================] - 1s 4ms/step - loss: 1.1972 - accuracy: 0.4645 - val_loss: 1.1632 - val_accuracy: 0.4876\n",
            "Epoch 5/90\n",
            "268/268 [==============================] - 1s 3ms/step - loss: 1.1466 - accuracy: 0.4837 - val_loss: 1.1176 - val_accuracy: 0.4872\n",
            "Epoch 6/90\n",
            "268/268 [==============================] - 1s 3ms/step - loss: 1.1102 - accuracy: 0.4989 - val_loss: 1.0860 - val_accuracy: 0.4960\n",
            "Epoch 7/90\n",
            "268/268 [==============================] - 1s 4ms/step - loss: 1.0857 - accuracy: 0.5062 - val_loss: 1.0625 - val_accuracy: 0.5161\n",
            "Epoch 8/90\n",
            "268/268 [==============================] - 1s 3ms/step - loss: 1.0663 - accuracy: 0.5120 - val_loss: 1.0438 - val_accuracy: 0.5245\n",
            "Epoch 9/90\n",
            "268/268 [==============================] - 1s 2ms/step - loss: 1.0506 - accuracy: 0.5212 - val_loss: 1.0314 - val_accuracy: 0.5264\n",
            "Epoch 10/90\n",
            "268/268 [==============================] - 1s 2ms/step - loss: 1.0387 - accuracy: 0.5250 - val_loss: 1.0175 - val_accuracy: 0.5385\n",
            "Epoch 11/90\n",
            "268/268 [==============================] - 1s 2ms/step - loss: 1.0287 - accuracy: 0.5289 - val_loss: 1.0081 - val_accuracy: 0.5408\n",
            "Epoch 12/90\n",
            "268/268 [==============================] - 1s 2ms/step - loss: 1.0194 - accuracy: 0.5353 - val_loss: 0.9992 - val_accuracy: 0.5478\n",
            "Epoch 13/90\n",
            "268/268 [==============================] - 1s 2ms/step - loss: 1.0109 - accuracy: 0.5423 - val_loss: 0.9914 - val_accuracy: 0.5497\n",
            "Epoch 14/90\n",
            "268/268 [==============================] - 1s 2ms/step - loss: 1.0040 - accuracy: 0.5393 - val_loss: 0.9840 - val_accuracy: 0.5492\n",
            "Epoch 15/90\n",
            "268/268 [==============================] - 1s 2ms/step - loss: 0.9973 - accuracy: 0.5522 - val_loss: 0.9768 - val_accuracy: 0.5558\n",
            "Epoch 16/90\n",
            "268/268 [==============================] - 1s 2ms/step - loss: 0.9922 - accuracy: 0.5475 - val_loss: 0.9691 - val_accuracy: 0.5604\n",
            "Epoch 17/90\n",
            "268/268 [==============================] - 1s 2ms/step - loss: 0.9847 - accuracy: 0.5514 - val_loss: 0.9660 - val_accuracy: 0.5558\n",
            "Epoch 18/90\n",
            "268/268 [==============================] - 1s 2ms/step - loss: 0.9796 - accuracy: 0.5555 - val_loss: 0.9572 - val_accuracy: 0.5656\n",
            "Epoch 19/90\n",
            "268/268 [==============================] - 1s 3ms/step - loss: 0.9740 - accuracy: 0.5593 - val_loss: 0.9546 - val_accuracy: 0.5698\n",
            "Epoch 20/90\n",
            "268/268 [==============================] - 1s 2ms/step - loss: 0.9702 - accuracy: 0.5603 - val_loss: 0.9475 - val_accuracy: 0.5730\n",
            "Epoch 21/90\n",
            "268/268 [==============================] - 1s 2ms/step - loss: 0.9658 - accuracy: 0.5632 - val_loss: 0.9433 - val_accuracy: 0.5726\n",
            "Epoch 22/90\n",
            "268/268 [==============================] - 1s 2ms/step - loss: 0.9618 - accuracy: 0.5610 - val_loss: 0.9506 - val_accuracy: 0.5492\n",
            "Epoch 23/90\n",
            "268/268 [==============================] - 1s 2ms/step - loss: 0.9571 - accuracy: 0.5695 - val_loss: 0.9531 - val_accuracy: 0.5502\n",
            "Epoch 24/90\n",
            "268/268 [==============================] - 1s 3ms/step - loss: 0.9539 - accuracy: 0.5744 - val_loss: 0.9358 - val_accuracy: 0.5679\n",
            "Epoch 25/90\n",
            "268/268 [==============================] - 1s 4ms/step - loss: 0.9501 - accuracy: 0.5772 - val_loss: 0.9290 - val_accuracy: 0.5749\n",
            "Epoch 26/90\n",
            "268/268 [==============================] - 1s 3ms/step - loss: 0.9460 - accuracy: 0.5760 - val_loss: 0.9264 - val_accuracy: 0.5730\n",
            "Epoch 27/90\n",
            "268/268 [==============================] - 1s 4ms/step - loss: 0.9429 - accuracy: 0.5792 - val_loss: 0.9254 - val_accuracy: 0.5721\n",
            "Epoch 28/90\n",
            "268/268 [==============================] - 1s 3ms/step - loss: 0.9408 - accuracy: 0.5768 - val_loss: 0.9202 - val_accuracy: 0.5866\n",
            "Epoch 29/90\n",
            "268/268 [==============================] - 1s 2ms/step - loss: 0.9367 - accuracy: 0.5787 - val_loss: 0.9200 - val_accuracy: 0.5735\n",
            "Epoch 30/90\n",
            "268/268 [==============================] - 1s 2ms/step - loss: 0.9354 - accuracy: 0.5787 - val_loss: 0.9170 - val_accuracy: 0.5987\n",
            "Epoch 31/90\n",
            "268/268 [==============================] - 1s 2ms/step - loss: 0.9315 - accuracy: 0.5853 - val_loss: 0.9111 - val_accuracy: 0.5852\n",
            "Epoch 32/90\n",
            "268/268 [==============================] - 1s 2ms/step - loss: 0.9297 - accuracy: 0.5858 - val_loss: 0.9081 - val_accuracy: 0.5908\n",
            "Epoch 33/90\n",
            "268/268 [==============================] - 1s 2ms/step - loss: 0.9271 - accuracy: 0.5863 - val_loss: 0.9062 - val_accuracy: 0.5950\n",
            "Epoch 34/90\n",
            "268/268 [==============================] - 1s 2ms/step - loss: 0.9250 - accuracy: 0.5887 - val_loss: 0.9080 - val_accuracy: 0.5828\n",
            "Epoch 35/90\n",
            "268/268 [==============================] - 1s 2ms/step - loss: 0.9223 - accuracy: 0.5878 - val_loss: 0.9010 - val_accuracy: 0.5992\n",
            "Epoch 36/90\n",
            "268/268 [==============================] - 1s 2ms/step - loss: 0.9213 - accuracy: 0.5866 - val_loss: 0.8999 - val_accuracy: 0.5945\n",
            "Epoch 37/90\n",
            "268/268 [==============================] - 1s 3ms/step - loss: 0.9188 - accuracy: 0.5914 - val_loss: 0.8981 - val_accuracy: 0.5968\n",
            "Epoch 38/90\n",
            "268/268 [==============================] - 1s 2ms/step - loss: 0.9167 - accuracy: 0.5912 - val_loss: 0.8971 - val_accuracy: 0.5964\n",
            "Epoch 39/90\n",
            "268/268 [==============================] - 1s 2ms/step - loss: 0.9154 - accuracy: 0.5904 - val_loss: 0.8998 - val_accuracy: 0.5814\n",
            "Epoch 40/90\n",
            "268/268 [==============================] - 1s 2ms/step - loss: 0.9138 - accuracy: 0.5911 - val_loss: 0.8929 - val_accuracy: 0.5978\n",
            "Epoch 41/90\n",
            "268/268 [==============================] - 1s 2ms/step - loss: 0.9124 - accuracy: 0.5918 - val_loss: 0.8916 - val_accuracy: 0.5973\n",
            "Epoch 42/90\n",
            "268/268 [==============================] - 1s 2ms/step - loss: 0.9107 - accuracy: 0.5944 - val_loss: 0.8917 - val_accuracy: 0.5954\n",
            "Epoch 43/90\n",
            "268/268 [==============================] - 1s 2ms/step - loss: 0.9099 - accuracy: 0.5925 - val_loss: 0.8925 - val_accuracy: 0.5908\n",
            "Epoch 44/90\n",
            "268/268 [==============================] - 1s 2ms/step - loss: 0.9084 - accuracy: 0.5932 - val_loss: 0.8877 - val_accuracy: 0.6052\n",
            "Epoch 45/90\n",
            "268/268 [==============================] - 1s 3ms/step - loss: 0.9064 - accuracy: 0.5934 - val_loss: 0.8870 - val_accuracy: 0.5959\n",
            "Epoch 46/90\n",
            "268/268 [==============================] - 1s 3ms/step - loss: 0.9057 - accuracy: 0.5976 - val_loss: 0.8877 - val_accuracy: 0.5968\n",
            "Epoch 47/90\n",
            "268/268 [==============================] - 1s 3ms/step - loss: 0.9031 - accuracy: 0.5960 - val_loss: 0.8850 - val_accuracy: 0.5982\n",
            "Epoch 48/90\n",
            "268/268 [==============================] - 1s 3ms/step - loss: 0.9026 - accuracy: 0.5970 - val_loss: 0.8836 - val_accuracy: 0.5940\n",
            "Epoch 49/90\n",
            "268/268 [==============================] - 1s 3ms/step - loss: 0.9025 - accuracy: 0.5960 - val_loss: 0.8818 - val_accuracy: 0.6015\n",
            "Epoch 50/90\n",
            "268/268 [==============================] - 1s 2ms/step - loss: 0.9004 - accuracy: 0.5971 - val_loss: 0.8864 - val_accuracy: 0.5978\n",
            "Epoch 51/90\n",
            "268/268 [==============================] - 1s 2ms/step - loss: 0.8997 - accuracy: 0.6003 - val_loss: 0.8851 - val_accuracy: 0.5968\n",
            "Epoch 52/90\n",
            "268/268 [==============================] - 1s 2ms/step - loss: 0.8976 - accuracy: 0.5983 - val_loss: 0.8801 - val_accuracy: 0.5936\n",
            "Epoch 53/90\n",
            "268/268 [==============================] - 1s 2ms/step - loss: 0.8966 - accuracy: 0.5989 - val_loss: 0.8809 - val_accuracy: 0.6010\n",
            "Epoch 54/90\n",
            "268/268 [==============================] - 1s 2ms/step - loss: 0.8948 - accuracy: 0.5995 - val_loss: 0.8772 - val_accuracy: 0.6024\n",
            "Epoch 55/90\n",
            "268/268 [==============================] - 1s 2ms/step - loss: 0.8949 - accuracy: 0.6005 - val_loss: 0.8799 - val_accuracy: 0.5964\n",
            "Epoch 56/90\n",
            "268/268 [==============================] - 1s 2ms/step - loss: 0.8931 - accuracy: 0.6034 - val_loss: 0.8743 - val_accuracy: 0.5992\n",
            "Epoch 57/90\n",
            "268/268 [==============================] - 1s 2ms/step - loss: 0.8937 - accuracy: 0.6037 - val_loss: 0.8727 - val_accuracy: 0.5996\n",
            "Epoch 58/90\n",
            "268/268 [==============================] - 1s 2ms/step - loss: 0.8901 - accuracy: 0.6033 - val_loss: 0.8764 - val_accuracy: 0.6010\n",
            "Epoch 59/90\n",
            "268/268 [==============================] - 1s 2ms/step - loss: 0.8908 - accuracy: 0.6021 - val_loss: 0.8709 - val_accuracy: 0.6029\n",
            "Epoch 60/90\n",
            "268/268 [==============================] - 1s 2ms/step - loss: 0.8891 - accuracy: 0.5998 - val_loss: 0.8700 - val_accuracy: 0.6010\n",
            "Epoch 61/90\n",
            "268/268 [==============================] - 1s 2ms/step - loss: 0.8878 - accuracy: 0.6049 - val_loss: 0.8719 - val_accuracy: 0.6094\n",
            "Epoch 62/90\n",
            "268/268 [==============================] - 1s 2ms/step - loss: 0.8895 - accuracy: 0.6040 - val_loss: 0.8719 - val_accuracy: 0.5996\n",
            "Epoch 63/90\n",
            "268/268 [==============================] - 1s 2ms/step - loss: 0.8858 - accuracy: 0.6073 - val_loss: 0.8689 - val_accuracy: 0.5982\n",
            "Epoch 64/90\n",
            "268/268 [==============================] - 1s 2ms/step - loss: 0.8859 - accuracy: 0.6072 - val_loss: 0.8685 - val_accuracy: 0.6020\n",
            "Epoch 65/90\n",
            "268/268 [==============================] - 1s 2ms/step - loss: 0.8847 - accuracy: 0.6066 - val_loss: 0.8765 - val_accuracy: 0.6015\n",
            "Epoch 66/90\n",
            "268/268 [==============================] - 1s 4ms/step - loss: 0.8842 - accuracy: 0.6090 - val_loss: 0.8665 - val_accuracy: 0.5987\n",
            "Epoch 67/90\n",
            "268/268 [==============================] - 1s 4ms/step - loss: 0.8824 - accuracy: 0.6132 - val_loss: 0.8695 - val_accuracy: 0.6080\n",
            "Epoch 68/90\n",
            "268/268 [==============================] - 1s 3ms/step - loss: 0.8814 - accuracy: 0.6121 - val_loss: 0.8624 - val_accuracy: 0.6062\n",
            "Epoch 69/90\n",
            "268/268 [==============================] - 1s 3ms/step - loss: 0.8811 - accuracy: 0.6076 - val_loss: 0.8615 - val_accuracy: 0.6174\n",
            "Epoch 70/90\n",
            "268/268 [==============================] - 1s 3ms/step - loss: 0.8802 - accuracy: 0.6140 - val_loss: 0.8714 - val_accuracy: 0.5936\n",
            "Epoch 71/90\n",
            "268/268 [==============================] - 1s 2ms/step - loss: 0.8784 - accuracy: 0.6109 - val_loss: 0.8620 - val_accuracy: 0.6136\n",
            "Epoch 72/90\n",
            "268/268 [==============================] - 1s 2ms/step - loss: 0.8777 - accuracy: 0.6158 - val_loss: 0.8616 - val_accuracy: 0.6048\n",
            "Epoch 73/90\n",
            "268/268 [==============================] - 1s 2ms/step - loss: 0.8777 - accuracy: 0.6109 - val_loss: 0.8587 - val_accuracy: 0.6085\n",
            "Epoch 74/90\n",
            "268/268 [==============================] - 1s 2ms/step - loss: 0.8768 - accuracy: 0.6118 - val_loss: 0.8623 - val_accuracy: 0.6122\n",
            "Epoch 75/90\n",
            "268/268 [==============================] - 1s 2ms/step - loss: 0.8763 - accuracy: 0.6142 - val_loss: 0.8571 - val_accuracy: 0.6122\n",
            "Epoch 76/90\n",
            "268/268 [==============================] - 1s 2ms/step - loss: 0.8742 - accuracy: 0.6181 - val_loss: 0.8616 - val_accuracy: 0.5950\n",
            "Epoch 77/90\n",
            "268/268 [==============================] - 1s 2ms/step - loss: 0.8746 - accuracy: 0.6182 - val_loss: 0.8546 - val_accuracy: 0.6136\n",
            "Epoch 78/90\n",
            "268/268 [==============================] - 1s 2ms/step - loss: 0.8742 - accuracy: 0.6159 - val_loss: 0.8564 - val_accuracy: 0.6136\n",
            "Epoch 79/90\n",
            "268/268 [==============================] - 1s 2ms/step - loss: 0.8725 - accuracy: 0.6135 - val_loss: 0.8534 - val_accuracy: 0.6174\n",
            "Epoch 80/90\n",
            "268/268 [==============================] - 1s 2ms/step - loss: 0.8714 - accuracy: 0.6178 - val_loss: 0.8532 - val_accuracy: 0.6188\n",
            "Epoch 81/90\n",
            "268/268 [==============================] - 1s 2ms/step - loss: 0.8704 - accuracy: 0.6167 - val_loss: 0.8525 - val_accuracy: 0.6202\n",
            "Epoch 82/90\n",
            "268/268 [==============================] - 1s 2ms/step - loss: 0.8706 - accuracy: 0.6202 - val_loss: 0.8524 - val_accuracy: 0.6127\n",
            "Epoch 83/90\n",
            "268/268 [==============================] - 1s 2ms/step - loss: 0.8702 - accuracy: 0.6198 - val_loss: 0.8509 - val_accuracy: 0.6188\n",
            "Epoch 84/90\n",
            "268/268 [==============================] - 1s 2ms/step - loss: 0.8679 - accuracy: 0.6198 - val_loss: 0.8496 - val_accuracy: 0.6211\n",
            "Epoch 85/90\n",
            "268/268 [==============================] - 1s 2ms/step - loss: 0.8687 - accuracy: 0.6217 - val_loss: 0.8496 - val_accuracy: 0.6211\n",
            "Epoch 86/90\n",
            "268/268 [==============================] - 1s 2ms/step - loss: 0.8660 - accuracy: 0.6188 - val_loss: 0.8506 - val_accuracy: 0.6197\n",
            "Epoch 87/90\n",
            "268/268 [==============================] - 1s 3ms/step - loss: 0.8659 - accuracy: 0.6235 - val_loss: 0.8477 - val_accuracy: 0.6164\n",
            "Epoch 88/90\n",
            "268/268 [==============================] - 1s 3ms/step - loss: 0.8644 - accuracy: 0.6210 - val_loss: 0.8458 - val_accuracy: 0.6272\n",
            "Epoch 89/90\n",
            "268/268 [==============================] - 1s 3ms/step - loss: 0.8651 - accuracy: 0.6213 - val_loss: 0.8468 - val_accuracy: 0.6211\n",
            "Epoch 90/90\n",
            "268/268 [==============================] - 1s 3ms/step - loss: 0.8630 - accuracy: 0.6252 - val_loss: 0.8518 - val_accuracy: 0.6160\n"
          ]
        }
      ]
    },
    {
      "cell_type": "code",
      "source": [
        "acc = multi_class_model_history.history['accuracy']\n",
        "val_acc = multi_class_model_history.history['val_accuracy']\n",
        "epochs = range(1,len(acc)+1)\n",
        "\n",
        "plt.title('Accuracy')\n",
        "plt.plot(epochs,acc,label='Train')\n",
        "plt.plot(epochs,val_acc,color='red',label='Validation')\n",
        "plt.xlabel('Epochs')\n",
        "plt.ylabel('Accuracy')\n",
        "plt.legend()\n",
        "plt.show()"
      ],
      "metadata": {
        "colab": {
          "base_uri": "https://localhost:8080/",
          "height": 472
        },
        "id": "tAc1LXZGlXw-",
        "outputId": "dd51f472-f05f-41e9-c685-61f9731885a1"
      },
      "execution_count": null,
      "outputs": [
        {
          "output_type": "display_data",
          "data": {
            "text/plain": [
              "<Figure size 640x480 with 1 Axes>"
            ],
            "image/png": "[encoded data removed]"
          },
          "metadata": {}
        }
      ]
    },
    {
      "cell_type": "code",
      "source": [
        "loss_function = multi_class_model_history.history['loss']\n",
        "val_loss_function = multi_class_model_history.history['val_loss']\n",
        "epochs = range(1,len(loss_function)+1)\n",
        "\n",
        "plt.title('Loss')\n",
        "plt.plot(epochs,loss_function,label='Train')\n",
        "plt.plot(epochs,val_loss_function,color='red',label='Validation')\n",
        "plt.xlabel('Epochs')\n",
        "plt.ylabel('Loss function')\n",
        "plt.legend()\n",
        "plt.show()"
      ],
      "metadata": {
        "colab": {
          "base_uri": "https://localhost:8080/",
          "height": 472
        },
        "id": "0RMwi68dlXul",
        "outputId": "f6bc46ae-3bb8-4539-ebbc-fb98ef27e0fa"
      },
      "execution_count": null,
      "outputs": [
        {
          "output_type": "display_data",
          "data": {
            "text/plain": [
              "<Figure size 640x480 with 1 Axes>"
            ],
            "image/png": "[encoded data removed]"
          },
          "metadata": {}
        }
      ]
    },
    {
      "cell_type": "markdown",
      "source": [
        "# **Регрессор**"
      ],
      "metadata": {
        "id": "ZWKlWOlKNMTp"
      }
    },
    {
      "cell_type": "code",
      "source": [
        "df = pd.read_csv(\"/content/gdrive/My Drive/Colab Notebooks/Neural Network/DS_2019_public.csv\", encoding='latin-1')\n",
        "df.head()"
      ],
      "metadata": {
        "id": "2ZbvFs16Q_mv",
        "colab": {
          "base_uri": "https://localhost:8080/",
          "height": 292
        },
        "outputId": "f4efc2bf-1a08-44a0-eed6-06931e09cf92"
      },
      "execution_count": null,
      "outputs": [
        {
          "output_type": "stream",
          "name": "stderr",
          "text": [
            "<ipython-input-168-b63d7004b45f>:1: DtypeWarning: Columns (30,56,96,114) have mixed types. Specify dtype option on import or set low_memory=False.\n",
            "  df = pd.read_csv(\"/content/gdrive/My Drive/Colab Notebooks/Neural Network/DS_2019_public.csv\", encoding='latin-1')\n"
          ]
        },
        {
          "output_type": "execute_result",
          "data": {
            "text/plain": [
              "   Climate_Region_Pub  DIVISION  REPORTABLE_DOMAIN DOLELCOL  TOTALDOLCOL  \\\n",
              "0                   5        10                 26   16.793           17   \n",
              "1                   1         1                  1   48.901           49   \n",
              "2                   1         3                  7  101.048          101   \n",
              "3                   1         1                  1        0            0   \n",
              "4                   1         4                 10   45.132           45   \n",
              "\n",
              "     KWHCOL  BTUELCOL  TOTALBTUCOL  TOTALDOLSPH  TOTALBTUSPH  ...  LGT1EE  \\\n",
              "0   181.998   620.979          621          368        38606  ...      -2   \n",
              "1   184.459   629.389          629          582        40248  ...       2   \n",
              "2  1063.022  3627.013         3627          425        40196  ...      -2   \n",
              "3     0.000     0.000            0          616        36136  ...       2   \n",
              "4   274.530   936.677          937          685        74100  ...       3   \n",
              "\n",
              "   TOTALBTUWTH  ROOFTYPE  DOLELRFG  TOTALDOLRFG  HEATROOM  WDWATER  UGWARM  \\\n",
              "0        30110         2   120.893          121         4        0       1   \n",
              "1         7933        -2   242.746          243         2        0       1   \n",
              "2         6440         5   158.797          159         7        0       1   \n",
              "3        13884         5    85.138           85         5        0       1   \n",
              "4        14204         6   151.319          151         6        0       1   \n",
              "\n",
              "   DRYRFUEL    KWHRFG  \n",
              "0         1  1310.220  \n",
              "1        -2   915.664  \n",
              "2         5  1670.534  \n",
              "3         5   346.468  \n",
              "4         5   920.454  \n",
              "\n",
              "[5 rows x 121 columns]"
            ],
            "text/html": [
              "\n",
              "  <div id=\"df-bebc9616-706d-4079-94f4-8606bae0ef7c\" class=\"colab-df-container\">\n",
              "    <div>\n",
              "<style scoped>\n",
              "    .dataframe tbody tr th:only-of-type {\n",
              "        vertical-align: middle;\n",
              "    }\n",
              "\n",
              "    .dataframe tbody tr th {\n",
              "        vertical-align: top;\n",
              "    }\n",
              "\n",
              "    .dataframe thead th {\n",
              "        text-align: right;\n",
              "    }\n",
              "</style>\n",
              "<table border=\"1\" class=\"dataframe\">\n",
              "  <thead>\n",
              "    <tr style=\"text-align: right;\">\n",
              "      <th></th>\n",
              "      <th>Climate_Region_Pub</th>\n",
              "      <th>DIVISION</th>\n",
              "      <th>REPORTABLE_DOMAIN</th>\n",
              "      <th>DOLELCOL</th>\n",
              "      <th>TOTALDOLCOL</th>\n",
              "      <th>KWHCOL</th>\n",
              "      <th>BTUELCOL</th>\n",
              "      <th>TOTALBTUCOL</th>\n",
              "      <th>TOTALDOLSPH</th>\n",
              "      <th>TOTALBTUSPH</th>\n",
              "      <th>...</th>\n",
              "      <th>LGT1EE</th>\n",
              "      <th>TOTALBTUWTH</th>\n",
              "      <th>ROOFTYPE</th>\n",
              "      <th>DOLELRFG</th>\n",
              "      <th>TOTALDOLRFG</th>\n",
              "      <th>HEATROOM</th>\n",
              "      <th>WDWATER</th>\n",
              "      <th>UGWARM</th>\n",
              "      <th>DRYRFUEL</th>\n",
              "      <th>KWHRFG</th>\n",
              "    </tr>\n",
              "  </thead>\n",
              "  <tbody>\n",
              "    <tr>\n",
              "      <th>0</th>\n",
              "      <td>5</td>\n",
              "      <td>10</td>\n",
              "      <td>26</td>\n",
              "      <td>16.793</td>\n",
              "      <td>17</td>\n",
              "      <td>181.998</td>\n",
              "      <td>620.979</td>\n",
              "      <td>621</td>\n",
              "      <td>368</td>\n",
              "      <td>38606</td>\n",
              "      <td>...</td>\n",
              "      <td>-2</td>\n",
              "      <td>30110</td>\n",
              "      <td>2</td>\n",
              "      <td>120.893</td>\n",
              "      <td>121</td>\n",
              "      <td>4</td>\n",
              "      <td>0</td>\n",
              "      <td>1</td>\n",
              "      <td>1</td>\n",
              "      <td>1310.220</td>\n",
              "    </tr>\n",
              "    <tr>\n",
              "      <th>1</th>\n",
              "      <td>1</td>\n",
              "      <td>1</td>\n",
              "      <td>1</td>\n",
              "      <td>48.901</td>\n",
              "      <td>49</td>\n",
              "      <td>184.459</td>\n",
              "      <td>629.389</td>\n",
              "      <td>629</td>\n",
              "      <td>582</td>\n",
              "      <td>40248</td>\n",
              "      <td>...</td>\n",
              "      <td>2</td>\n",
              "      <td>7933</td>\n",
              "      <td>-2</td>\n",
              "      <td>242.746</td>\n",
              "      <td>243</td>\n",
              "      <td>2</td>\n",
              "      <td>0</td>\n",
              "      <td>1</td>\n",
              "      <td>-2</td>\n",
              "      <td>915.664</td>\n",
              "    </tr>\n",
              "    <tr>\n",
              "      <th>2</th>\n",
              "      <td>1</td>\n",
              "      <td>3</td>\n",
              "      <td>7</td>\n",
              "      <td>101.048</td>\n",
              "      <td>101</td>\n",
              "      <td>1063.022</td>\n",
              "      <td>3627.013</td>\n",
              "      <td>3627</td>\n",
              "      <td>425</td>\n",
              "      <td>40196</td>\n",
              "      <td>...</td>\n",
              "      <td>-2</td>\n",
              "      <td>6440</td>\n",
              "      <td>5</td>\n",
              "      <td>158.797</td>\n",
              "      <td>159</td>\n",
              "      <td>7</td>\n",
              "      <td>0</td>\n",
              "      <td>1</td>\n",
              "      <td>5</td>\n",
              "      <td>1670.534</td>\n",
              "    </tr>\n",
              "    <tr>\n",
              "      <th>3</th>\n",
              "      <td>1</td>\n",
              "      <td>1</td>\n",
              "      <td>1</td>\n",
              "      <td>0</td>\n",
              "      <td>0</td>\n",
              "      <td>0.000</td>\n",
              "      <td>0.000</td>\n",
              "      <td>0</td>\n",
              "      <td>616</td>\n",
              "      <td>36136</td>\n",
              "      <td>...</td>\n",
              "      <td>2</td>\n",
              "      <td>13884</td>\n",
              "      <td>5</td>\n",
              "      <td>85.138</td>\n",
              "      <td>85</td>\n",
              "      <td>5</td>\n",
              "      <td>0</td>\n",
              "      <td>1</td>\n",
              "      <td>5</td>\n",
              "      <td>346.468</td>\n",
              "    </tr>\n",
              "    <tr>\n",
              "      <th>4</th>\n",
              "      <td>1</td>\n",
              "      <td>4</td>\n",
              "      <td>10</td>\n",
              "      <td>45.132</td>\n",
              "      <td>45</td>\n",
              "      <td>274.530</td>\n",
              "      <td>936.677</td>\n",
              "      <td>937</td>\n",
              "      <td>685</td>\n",
              "      <td>74100</td>\n",
              "      <td>...</td>\n",
              "      <td>3</td>\n",
              "      <td>14204</td>\n",
              "      <td>6</td>\n",
              "      <td>151.319</td>\n",
              "      <td>151</td>\n",
              "      <td>6</td>\n",
              "      <td>0</td>\n",
              "      <td>1</td>\n",
              "      <td>5</td>\n",
              "      <td>920.454</td>\n",
              "    </tr>\n",
              "  </tbody>\n",
              "</table>\n",
              "<p>5 rows × 121 columns</p>\n",
              "</div>\n",
              "    <div class=\"colab-df-buttons\">\n",
              "\n",
              "  <div class=\"colab-df-container\">\n",
              "    <button class=\"colab-df-convert\" onclick=\"convertToInteractive('df-bebc9616-706d-4079-94f4-8606bae0ef7c')\"\n",
              "            title=\"Convert this dataframe to an interactive table.\"\n",
              "            style=\"display:none;\">\n",
              "\n",
              "  <svg xmlns=\"http://www.w3.org/2000/svg\" height=\"24px\" viewBox=\"0 -960 960 960\">\n",
              "    <path d=\"M120-120v-720h720v720H120Zm60-500h600v-160H180v160Zm220 220h160v-160H400v160Zm0 220h160v-160H400v160ZM180-400h160v-160H180v160Zm440 0h160v-160H620v160ZM180-180h160v-160H180v160Zm440 0h160v-160H620v160Z\"/>\n",
              "  </svg>\n",
              "    </button>\n",
              "\n",
              "  <style>\n",
              "    .colab-df-container {\n",
              "      display:flex;\n",
              "      gap: 12px;\n",
              "    }\n",
              "\n",
              "    .colab-df-convert {\n",
              "      background-color: #E8F0FE;\n",
              "      border: none;\n",
              "      border-radius: 50%;\n",
              "      cursor: pointer;\n",
              "      display: none;\n",
              "      fill: #1967D2;\n",
              "      height: 32px;\n",
              "      padding: 0 0 0 0;\n",
              "      width: 32px;\n",
              "    }\n",
              "\n",
              "    .colab-df-convert:hover {\n",
              "      background-color: #E2EBFA;\n",
              "      box-shadow: 0px 1px 2px rgba(60, 64, 67, 0.3), 0px 1px 3px 1px rgba(60, 64, 67, 0.15);\n",
              "      fill: #174EA6;\n",
              "    }\n",
              "\n",
              "    .colab-df-buttons div {\n",
              "      margin-bottom: 4px;\n",
              "    }\n",
              "\n",
              "    [theme=dark] .colab-df-convert {\n",
              "      background-color: #3B4455;\n",
              "      fill: #D2E3FC;\n",
              "    }\n",
              "\n",
              "    [theme=dark] .colab-df-convert:hover {\n",
              "      background-color: #434B5C;\n",
              "      box-shadow: 0px 1px 3px 1px rgba(0, 0, 0, 0.15);\n",
              "      filter: drop-shadow(0px 1px 2px rgba(0, 0, 0, 0.3));\n",
              "      fill: #FFFFFF;\n",
              "    }\n",
              "  </style>\n",
              "\n",
              "    <script>\n",
              "      const buttonEl =\n",
              "        document.querySelector('#df-bebc9616-706d-4079-94f4-8606bae0ef7c button.colab-df-convert');\n",
              "      buttonEl.style.display =\n",
              "        google.colab.kernel.accessAllowed ? 'block' : 'none';\n",
              "\n",
              "      async function convertToInteractive(key) {\n",
              "        const element = document.querySelector('#df-bebc9616-706d-4079-94f4-8606bae0ef7c');\n",
              "        const dataTable =\n",
              "          await google.colab.kernel.invokeFunction('convertToInteractive',\n",
              "                                                    [key], {});\n",
              "        if (!dataTable) return;\n",
              "\n",
              "        const docLinkHtml = 'Like what you see? Visit the ' +\n",
              "          '<a target=\"_blank\" href=https://colab.research.google.com/notebooks/data_table.ipynb>data table notebook</a>'\n",
              "          + ' to learn more about interactive tables.';\n",
              "        element.innerHTML = '';\n",
              "        dataTable['output_type'] = 'display_data';\n",
              "        await google.colab.output.renderOutput(dataTable, element);\n",
              "        const docLink = document.createElement('div');\n",
              "        docLink.innerHTML = docLinkHtml;\n",
              "        element.appendChild(docLink);\n",
              "      }\n",
              "    </script>\n",
              "  </div>\n",
              "\n",
              "\n",
              "<div id=\"df-67fdb0a7-682a-44b9-bdd6-7b797705b1b4\">\n",
              "  <button class=\"colab-df-quickchart\" onclick=\"quickchart('df-67fdb0a7-682a-44b9-bdd6-7b797705b1b4')\"\n",
              "            title=\"Suggest charts.\"\n",
              "            style=\"display:none;\">\n",
              "\n",
              "<svg xmlns=\"http://www.w3.org/2000/svg\" height=\"24px\"viewBox=\"0 0 24 24\"\n",
              "     width=\"24px\">\n",
              "    <g>\n",
              "        <path d=\"M19 3H5c-1.1 0-2 .9-2 2v14c0 1.1.9 2 2 2h14c1.1 0 2-.9 2-2V5c0-1.1-.9-2-2-2zM9 17H7v-7h2v7zm4 0h-2V7h2v10zm4 0h-2v-4h2v4z\"/>\n",
              "    </g>\n",
              "</svg>\n",
              "  </button>\n",
              "\n",
              "<style>\n",
              "  .colab-df-quickchart {\n",
              "      --bg-color: #E8F0FE;\n",
              "      --fill-color: #1967D2;\n",
              "      --hover-bg-color: #E2EBFA;\n",
              "      --hover-fill-color: #174EA6;\n",
              "      --disabled-fill-color: #AAA;\n",
              "      --disabled-bg-color: #DDD;\n",
              "  }\n",
              "\n",
              "  [theme=dark] .colab-df-quickchart {\n",
              "      --bg-color: #3B4455;\n",
              "      --fill-color: #D2E3FC;\n",
              "      --hover-bg-color: #434B5C;\n",
              "      --hover-fill-color: #FFFFFF;\n",
              "      --disabled-bg-color: #3B4455;\n",
              "      --disabled-fill-color: #666;\n",
              "  }\n",
              "\n",
              "  .colab-df-quickchart {\n",
              "    background-color: var(--bg-color);\n",
              "    border: none;\n",
              "    border-radius: 50%;\n",
              "    cursor: pointer;\n",
              "    display: none;\n",
              "    fill: var(--fill-color);\n",
              "    height: 32px;\n",
              "    padding: 0;\n",
              "    width: 32px;\n",
              "  }\n",
              "\n",
              "  .colab-df-quickchart:hover {\n",
              "    background-color: var(--hover-bg-color);\n",
              "    box-shadow: 0 1px 2px rgba(60, 64, 67, 0.3), 0 1px 3px 1px rgba(60, 64, 67, 0.15);\n",
              "    fill: var(--button-hover-fill-color);\n",
              "  }\n",
              "\n",
              "  .colab-df-quickchart-complete:disabled,\n",
              "  .colab-df-quickchart-complete:disabled:hover {\n",
              "    background-color: var(--disabled-bg-color);\n",
              "    fill: var(--disabled-fill-color);\n",
              "    box-shadow: none;\n",
              "  }\n",
              "\n",
              "  .colab-df-spinner {\n",
              "    border: 2px solid var(--fill-color);\n",
              "    border-color: transparent;\n",
              "    border-bottom-color: var(--fill-color);\n",
              "    animation:\n",
              "      spin 1s steps(1) infinite;\n",
              "  }\n",
              "\n",
              "  @keyframes spin {\n",
              "    0% {\n",
              "      border-color: transparent;\n",
              "      border-bottom-color: var(--fill-color);\n",
              "      border-left-color: var(--fill-color);\n",
              "    }\n",
              "    20% {\n",
              "      border-color: transparent;\n",
              "      border-left-color: var(--fill-color);\n",
              "      border-top-color: var(--fill-color);\n",
              "    }\n",
              "    30% {\n",
              "      border-color: transparent;\n",
              "      border-left-color: var(--fill-color);\n",
              "      border-top-color: var(--fill-color);\n",
              "      border-right-color: var(--fill-color);\n",
              "    }\n",
              "    40% {\n",
              "      border-color: transparent;\n",
              "      border-right-color: var(--fill-color);\n",
              "      border-top-color: var(--fill-color);\n",
              "    }\n",
              "    60% {\n",
              "      border-color: transparent;\n",
              "      border-right-color: var(--fill-color);\n",
              "    }\n",
              "    80% {\n",
              "      border-color: transparent;\n",
              "      border-right-color: var(--fill-color);\n",
              "      border-bottom-color: var(--fill-color);\n",
              "    }\n",
              "    90% {\n",
              "      border-color: transparent;\n",
              "      border-bottom-color: var(--fill-color);\n",
              "    }\n",
              "  }\n",
              "</style>\n",
              "\n",
              "  <script>\n",
              "    async function quickchart(key) {\n",
              "      const quickchartButtonEl =\n",
              "        document.querySelector('#' + key + ' button');\n",
              "      quickchartButtonEl.disabled = true;  // To prevent multiple clicks.\n",
              "      quickchartButtonEl.classList.add('colab-df-spinner');\n",
              "      try {\n",
              "        const charts = await google.colab.kernel.invokeFunction(\n",
              "            'suggestCharts', [key], {});\n",
              "      } catch (error) {\n",
              "        console.error('Error during call to suggestCharts:', error);\n",
              "      }\n",
              "      quickchartButtonEl.classList.remove('colab-df-spinner');\n",
              "      quickchartButtonEl.classList.add('colab-df-quickchart-complete');\n",
              "    }\n",
              "    (() => {\n",
              "      let quickchartButtonEl =\n",
              "        document.querySelector('#df-67fdb0a7-682a-44b9-bdd6-7b797705b1b4 button');\n",
              "      quickchartButtonEl.style.display =\n",
              "        google.colab.kernel.accessAllowed ? 'block' : 'none';\n",
              "    })();\n",
              "  </script>\n",
              "</div>\n",
              "    </div>\n",
              "  </div>\n"
            ]
          },
          "metadata": {},
          "execution_count": 168
        }
      ]
    },
    {
      "cell_type": "code",
      "source": [
        "df.info(verbose=True, show_counts=True)"
      ],
      "metadata": {
        "id": "q_pOoHRgRF0o",
        "colab": {
          "base_uri": "https://localhost:8080/"
        },
        "outputId": "5e70311c-9979-4f7b-bf1f-2d29486f2223"
      },
      "execution_count": null,
      "outputs": [
        {
          "output_type": "stream",
          "name": "stdout",
          "text": [
            "<class 'pandas.core.frame.DataFrame'>\n",
            "RangeIndex: 10875 entries, 0 to 10874\n",
            "Data columns (total 121 columns):\n",
            " #    Column              Non-Null Count  Dtype  \n",
            "---   ------              --------------  -----  \n",
            " 0    Climate_Region_Pub  10875 non-null  int64  \n",
            " 1    DIVISION            10875 non-null  int64  \n",
            " 2    REPORTABLE_DOMAIN   10875 non-null  int64  \n",
            " 3    DOLELCOL            10875 non-null  object \n",
            " 4    TOTALDOLCOL         10875 non-null  int64  \n",
            " 5    KWHCOL              10875 non-null  float64\n",
            " 6    BTUELCOL            10875 non-null  float64\n",
            " 7    TOTALBTUCOL         10875 non-null  int64  \n",
            " 8    TOTALDOLSPH         10875 non-null  int64  \n",
            " 9    TOTALBTUSPH         10875 non-null  int64  \n",
            " 10   CELLAR              10875 non-null  int64  \n",
            " 11   NWEIGHT             10875 non-null  float64\n",
            " 12   TOTHSQFT            10875 non-null  int64  \n",
            " 13   HEATHOME            10875 non-null  int64  \n",
            " 14   NUMPC               10875 non-null  int64  \n",
            " 15   DOLLAREL            10875 non-null  int64  \n",
            " 16   DOLELOTH            10875 non-null  float64\n",
            " 17   CUFEETNGSPH         10875 non-null  float64\n",
            " 18   BTUNGSPH            10875 non-null  float64\n",
            " 19   DOLNGSPH            10875 non-null  float64\n",
            " 20   TEMPHOME            10875 non-null  int64  \n",
            " 21   TOTCSQFT            10875 non-null  int64  \n",
            " 22   BTUFOSPH            10875 non-null  float64\n",
            " 23   AIRCOND             10875 non-null  int64  \n",
            " 24   ELCOOL              10875 non-null  int64  \n",
            " 25   GALLONFOSPH         10875 non-null  float64\n",
            " 26   WALLTYPE            10875 non-null  int64  \n",
            " 27   TOTALDOLOTH         10875 non-null  int64  \n",
            " 28   BTUFO               10875 non-null  int64  \n",
            " 29   GALLONFO            10875 non-null  int64  \n",
            " 30   DOLFOSPH            10875 non-null  object \n",
            " 31   DOLLARFO            10875 non-null  int64  \n",
            " 32   KWHSPH              10875 non-null  float64\n",
            " 33   BTUELSPH            10875 non-null  float64\n",
            " 34   FOWARM              10875 non-null  int64  \n",
            " 35   USEFO               10875 non-null  int64  \n",
            " 36   TOTUSQFT            10875 non-null  int64  \n",
            " 37   TOTALDOL            10875 non-null  int64  \n",
            " 38   NUMTHERM            10875 non-null  int64  \n",
            " 39   DOLELSPH            10875 non-null  object \n",
            " 40   CONCRETE            10875 non-null  int64  \n",
            " 41   CUFEETNG            10875 non-null  int64  \n",
            " 42   BTUNG               10875 non-null  int64  \n",
            " 43   GALLONFOOTH         10875 non-null  float64\n",
            " 44   BTUFOOTH            10875 non-null  float64\n",
            " 45   BEDROOMS            10875 non-null  int64  \n",
            " 46   FOWATER             10875 non-null  int64  \n",
            " 47   GALLONFOWTH         10875 non-null  float64\n",
            " 48   BTUFOWTH            10875 non-null  float64\n",
            " 49   DOLFOWTH            10875 non-null  float64\n",
            " 50   GALLONKEROTH        10875 non-null  int64  \n",
            " 51   BTUKEROTH           10875 non-null  float64\n",
            " 52   DOLKEROTH           10875 non-null  float64\n",
            " 53   TOTUCSQFT           10875 non-null  int64  \n",
            " 54   TOTSQFT             10875 non-null  int64  \n",
            " 55   TOTSQFT_EN          10875 non-null  int64  \n",
            " 56   DOLNGWTH            10875 non-null  object \n",
            " 57   DOLFOOTH            10875 non-null  float64\n",
            " 58   ELOTHER             10875 non-null  int64  \n",
            " 59   DOLLARNG            10875 non-null  int64  \n",
            " 60   FUELHEAT            10875 non-null  int64  \n",
            " 61   NOTMOIST            10875 non-null  int64  \n",
            " 62   GALLONKER           10875 non-null  int64  \n",
            " 63   BTUKER              10875 non-null  int64  \n",
            " 64   NUMCFAN             10875 non-null  int64  \n",
            " 65   FOILAUX             10875 non-null  int64  \n",
            " 66   TOTALBTU            10875 non-null  int64  \n",
            " 67   COOLTYPE            10875 non-null  int64  \n",
            " 68   DOOR1SUM            10875 non-null  int64  \n",
            " 69   DOLLARKER           10875 non-null  int64  \n",
            " 70   DOLLPOTH            10875 non-null  float64\n",
            " 71   DOLELWTH            10875 non-null  float64\n",
            " 72   KWHWTH              10875 non-null  float64\n",
            " 73   BTUELWTH            10875 non-null  float64\n",
            " 74   TOTROOMS            10875 non-null  int64  \n",
            " 75   ELWATER             10875 non-null  int64  \n",
            " 76   GALLONKERSPH        10875 non-null  int64  \n",
            " 77   BTUKERSPH           10875 non-null  float64\n",
            " 78   TOTALBTUOTH         10875 non-null  int64  \n",
            " 79   GALLONLPSPH         10875 non-null  float64\n",
            " 80   BTULPSPH            10875 non-null  float64\n",
            " 81   NCOMBATH            10875 non-null  int64  \n",
            " 82   OVEN                10875 non-null  int64  \n",
            " 83   EQUIPM              10875 non-null  int64  \n",
            " 84   STORIES             10875 non-null  int64  \n",
            " 85   GALLONLP            10875 non-null  int64  \n",
            " 86   BTULP               10875 non-null  int64  \n",
            " 87   LGT1                10875 non-null  int64  \n",
            " 88   SOLWARM             10875 non-null  int64  \n",
            " 89   FUELH2O             10875 non-null  int64  \n",
            " 90   GALLONLPOTH         10875 non-null  float64\n",
            " 91   BTULPOTH            10875 non-null  float64\n",
            " 92   TVCOLOR             10875 non-null  int64  \n",
            " 93   SOLARAUX            10875 non-null  int64  \n",
            " 94   CUFEETNGOTH         10875 non-null  object \n",
            " 95   BTUNGOTH            10875 non-null  float64\n",
            " 96   KWHOTH              10875 non-null  object \n",
            " 97   DOLKERSPH           10875 non-null  float64\n",
            " 98   TOTALDOLWTH         10875 non-null  int64  \n",
            " 99   DOLLPSPH            10875 non-null  float64\n",
            " 100  USENG               10875 non-null  int64  \n",
            " 101  YEARMADE            10875 non-null  int64  \n",
            " 102  BTUELOTH            10875 non-null  float64\n",
            " 103  KWH                 10875 non-null  int64  \n",
            " 104  BTUEL               10875 non-null  int64  \n",
            " 105  DOLLARLP            10875 non-null  int64  \n",
            " 106  CUFEETNGWTH         10875 non-null  object \n",
            " 107  BTUNGWTH            10875 non-null  float64\n",
            " 108  UGWATER             10875 non-null  int64  \n",
            " 109  SDESCENT            10875 non-null  int64  \n",
            " 110  TEMPGONE            10875 non-null  int64  \n",
            " 111  LGT1EE              10875 non-null  int64  \n",
            " 112  TOTALBTUWTH         10875 non-null  int64  \n",
            " 113  ROOFTYPE            10875 non-null  int64  \n",
            " 114  DOLELRFG            10875 non-null  object \n",
            " 115  TOTALDOLRFG         10875 non-null  int64  \n",
            " 116  HEATROOM            10875 non-null  int64  \n",
            " 117  WDWATER             10875 non-null  int64  \n",
            " 118  UGWARM              10875 non-null  int64  \n",
            " 119  DRYRFUEL            10875 non-null  int64  \n",
            " 120  KWHRFG              10875 non-null  float64\n",
            "dtypes: float64(34), int64(79), object(8)\n",
            "memory usage: 10.0+ MB\n"
          ]
        }
      ]
    },
    {
      "cell_type": "code",
      "source": [
        "x = df.drop(columns=[\"DOLELCOL\",\"DOLFOSPH\", \"DOLELSPH\" ,\"DOLNGWTH\" ,\"CUFEETNGOTH\" , \"KWHOTH\" , \"CUFEETNGWTH\", \"DOLELRFG\"], axis=1)\n",
        "y = df[[\"TOTALDOL\"]]"
      ],
      "metadata": {
        "id": "uoFazo38RfpI"
      },
      "execution_count": null,
      "outputs": []
    },
    {
      "cell_type": "code",
      "source": [
        "min_max_scaler = MinMaxScaler()\n",
        "X = min_max_scaler.fit_transform(x)"
      ],
      "metadata": {
        "id": "sP9_00jzR-GX"
      },
      "execution_count": null,
      "outputs": []
    },
    {
      "cell_type": "code",
      "source": [
        "X_train, X_test, y_train, y_test = train_test_split(X, y, test_size = 0.2,random_state = 0)"
      ],
      "metadata": {
        "id": "_hvuuE64R_0g"
      },
      "execution_count": null,
      "outputs": []
    },
    {
      "cell_type": "code",
      "source": [
        "X_train, X_val, y_train, y_val = train_test_split(X_train, y_train, test_size = 0.2, random_state = 0)"
      ],
      "metadata": {
        "id": "U7-AkW-aTTTo"
      },
      "execution_count": null,
      "outputs": []
    },
    {
      "cell_type": "code",
      "source": [
        "print(f'Размер исходного набора: {X.shape}')\n",
        "print(f'Размер обучающего набора: {X_train.shape}')\n",
        "print(f'Размер тестового набора: {X_val.shape}')"
      ],
      "metadata": {
        "colab": {
          "base_uri": "https://localhost:8080/"
        },
        "id": "bhOo_ZZSrdJy",
        "outputId": "b2732331-951a-43b5-ac92-e8e1a4630a2e"
      },
      "execution_count": null,
      "outputs": [
        {
          "output_type": "stream",
          "name": "stdout",
          "text": [
            "Размер исходного набора: (10875, 113)\n",
            "Размер обучающего набора: (6960, 113)\n",
            "Размер тестового набора: (1740, 113)\n"
          ]
        }
      ]
    },
    {
      "cell_type": "markdown",
      "source": [
        "## **Использовать Tensorflow**"
      ],
      "metadata": {
        "id": "Yg6OwPZgxKN7"
      }
    },
    {
      "cell_type": "code",
      "source": [
        "regressor_res = tf.keras.Sequential([\n",
        "    tf.keras.layers.Dense(16,activation='relu',input_dim=X_train.shape[1]),\n",
        "    tf.keras.layers.Dense(8,activation='relu'),\n",
        "    tf.keras.layers.Dense(1)\n",
        "])"
      ],
      "metadata": {
        "id": "95mV083JTjAU"
      },
      "execution_count": null,
      "outputs": []
    },
    {
      "cell_type": "code",
      "source": [
        "regressor_res.summary()"
      ],
      "metadata": {
        "id": "Gou3Y18ZTxRa",
        "colab": {
          "base_uri": "https://localhost:8080/"
        },
        "outputId": "f612ac58-8f9d-4e14-bda3-23f3f93e690d"
      },
      "execution_count": null,
      "outputs": [
        {
          "output_type": "stream",
          "name": "stdout",
          "text": [
            "Model: \"sequential_2\"\n",
            "_________________________________________________________________\n",
            " Layer (type)                Output Shape              Param #   \n",
            "=================================================================\n",
            " dense_4 (Dense)             (None, 16)                1824      \n",
            "                                                                 \n",
            " dense_5 (Dense)             (None, 8)                 136       \n",
            "                                                                 \n",
            " dense_6 (Dense)             (None, 1)                 9         \n",
            "                                                                 \n",
            "=================================================================\n",
            "Total params: 1969 (7.69 KB)\n",
            "Trainable params: 1969 (7.69 KB)\n",
            "Non-trainable params: 0 (0.00 Byte)\n",
            "_________________________________________________________________\n"
          ]
        }
      ]
    },
    {
      "cell_type": "code",
      "source": [
        "regressor_res.compile(loss='mse',\n",
        "                      optimizer='adam',\n",
        "                      metrics='mae')"
      ],
      "metadata": {
        "id": "EUmW5hTLUOnB"
      },
      "execution_count": null,
      "outputs": []
    },
    {
      "cell_type": "code",
      "source": [
        "regressor_history = regressor_res.fit(X_train, y_train,\n",
        "                      validation_data=(X_val,y_val), batch_size = 40, epochs=400)"
      ],
      "metadata": {
        "id": "9r-SZ5yZUYi7",
        "colab": {
          "base_uri": "https://localhost:8080/"
        },
        "outputId": "855ab7c4-904a-4207-d6e2-755cc132ae16"
      },
      "execution_count": null,
      "outputs": [
        {
          "output_type": "stream",
          "name": "stdout",
          "text": [
            "Epoch 1/400\n",
            "174/174 [==============================] - 4s 6ms/step - loss: 5560189.0000 - mae: 2027.9348 - val_loss: 5347220.5000 - val_mae: 2022.7343\n",
            "Epoch 2/400\n",
            "174/174 [==============================] - 1s 5ms/step - loss: 5013115.0000 - mae: 1895.6118 - val_loss: 4323825.0000 - val_mae: 1767.6987\n",
            "Epoch 3/400\n",
            "174/174 [==============================] - 1s 5ms/step - loss: 3559893.7500 - mae: 1491.9435 - val_loss: 2534941.5000 - val_mae: 1221.6650\n",
            "Epoch 4/400\n",
            "174/174 [==============================] - 1s 5ms/step - loss: 1918561.7500 - mae: 939.1122 - val_loss: 1234889.1250 - val_mae: 759.8793\n",
            "Epoch 5/400\n",
            "174/174 [==============================] - 1s 5ms/step - loss: 1149588.2500 - mae: 693.0259 - val_loss: 904436.4375 - val_mae: 685.9096\n",
            "Epoch 6/400\n",
            "174/174 [==============================] - 1s 5ms/step - loss: 1010921.8125 - mae: 681.6803 - val_loss: 860587.7500 - val_mae: 688.9051\n",
            "Epoch 7/400\n",
            "174/174 [==============================] - 1s 6ms/step - loss: 976712.5625 - mae: 680.0615 - val_loss: 829329.8125 - val_mae: 677.7534\n",
            "Epoch 8/400\n",
            "174/174 [==============================] - 1s 6ms/step - loss: 935173.8125 - mae: 661.4081 - val_loss: 786399.6250 - val_mae: 656.6159\n",
            "Epoch 9/400\n",
            "174/174 [==============================] - 1s 6ms/step - loss: 885211.0000 - mae: 639.8303 - val_loss: 738545.0625 - val_mae: 636.9041\n",
            "Epoch 10/400\n",
            "174/174 [==============================] - 1s 7ms/step - loss: 828637.8750 - mae: 614.7806 - val_loss: 683644.5000 - val_mae: 608.8271\n",
            "Epoch 11/400\n",
            "174/174 [==============================] - 1s 8ms/step - loss: 767672.5625 - mae: 585.1676 - val_loss: 628433.5000 - val_mae: 583.8897\n",
            "Epoch 12/400\n",
            "174/174 [==============================] - 1s 7ms/step - loss: 708249.9375 - mae: 557.1464 - val_loss: 576764.5625 - val_mae: 556.6199\n",
            "Epoch 13/400\n",
            "174/174 [==============================] - 2s 9ms/step - loss: 653034.7500 - mae: 533.5672 - val_loss: 530173.1875 - val_mae: 517.4598\n",
            "Epoch 14/400\n",
            "174/174 [==============================] - 2s 9ms/step - loss: 604176.5000 - mae: 506.1183 - val_loss: 486240.2500 - val_mae: 499.4077\n",
            "Epoch 15/400\n",
            "174/174 [==============================] - 1s 5ms/step - loss: 559977.8125 - mae: 485.7282 - val_loss: 448796.8750 - val_mae: 476.2513\n",
            "Epoch 16/400\n",
            "174/174 [==============================] - 1s 5ms/step - loss: 520594.3125 - mae: 465.6264 - val_loss: 415870.4688 - val_mae: 456.4467\n",
            "Epoch 17/400\n",
            "174/174 [==============================] - 1s 6ms/step - loss: 485628.3438 - mae: 448.2590 - val_loss: 385733.1250 - val_mae: 438.2147\n",
            "Epoch 18/400\n",
            "174/174 [==============================] - 1s 5ms/step - loss: 452623.2188 - mae: 430.6891 - val_loss: 358128.0625 - val_mae: 435.1412\n",
            "Epoch 19/400\n",
            "174/174 [==============================] - 1s 6ms/step - loss: 422410.7812 - mae: 416.9638 - val_loss: 329858.0000 - val_mae: 407.0404\n",
            "Epoch 20/400\n",
            "174/174 [==============================] - 1s 6ms/step - loss: 393404.0938 - mae: 397.9726 - val_loss: 305383.2188 - val_mae: 398.8007\n",
            "Epoch 21/400\n",
            "174/174 [==============================] - 1s 5ms/step - loss: 367083.8125 - mae: 385.1272 - val_loss: 281506.3125 - val_mae: 377.4052\n",
            "Epoch 22/400\n",
            "174/174 [==============================] - 1s 5ms/step - loss: 341680.5625 - mae: 368.6960 - val_loss: 260235.3594 - val_mae: 366.4581\n",
            "Epoch 23/400\n",
            "174/174 [==============================] - 1s 4ms/step - loss: 318433.8125 - mae: 354.3157 - val_loss: 240011.0469 - val_mae: 348.4971\n",
            "Epoch 24/400\n",
            "174/174 [==============================] - 1s 6ms/step - loss: 297008.7812 - mae: 340.9334 - val_loss: 221621.3281 - val_mae: 334.1784\n",
            "Epoch 25/400\n",
            "174/174 [==============================] - 1s 6ms/step - loss: 276587.0312 - mae: 327.1088 - val_loss: 206634.5312 - val_mae: 321.0268\n",
            "Epoch 26/400\n",
            "174/174 [==============================] - 2s 9ms/step - loss: 258031.1250 - mae: 315.2936 - val_loss: 191160.7188 - val_mae: 307.1768\n",
            "Epoch 27/400\n",
            "174/174 [==============================] - 1s 9ms/step - loss: 241168.4531 - mae: 302.6714 - val_loss: 175722.0000 - val_mae: 296.8664\n",
            "Epoch 28/400\n",
            "174/174 [==============================] - 1s 7ms/step - loss: 225859.7344 - mae: 291.9169 - val_loss: 163307.3281 - val_mae: 288.6395\n",
            "Epoch 29/400\n",
            "174/174 [==============================] - 2s 9ms/step - loss: 211556.0625 - mae: 281.6835 - val_loss: 151839.1875 - val_mae: 276.7021\n",
            "Epoch 30/400\n",
            "174/174 [==============================] - 1s 5ms/step - loss: 198749.4062 - mae: 271.8727 - val_loss: 141882.9375 - val_mae: 267.1509\n",
            "Epoch 31/400\n",
            "174/174 [==============================] - 1s 6ms/step - loss: 187061.9844 - mae: 263.7384 - val_loss: 132564.9688 - val_mae: 258.4027\n",
            "Epoch 32/400\n",
            "174/174 [==============================] - 1s 6ms/step - loss: 176199.5469 - mae: 255.2357 - val_loss: 124170.6797 - val_mae: 250.5092\n",
            "Epoch 33/400\n",
            "174/174 [==============================] - 1s 5ms/step - loss: 166073.5938 - mae: 247.7046 - val_loss: 116207.7891 - val_mae: 243.2218\n",
            "Epoch 34/400\n",
            "174/174 [==============================] - 1s 4ms/step - loss: 156973.4375 - mae: 240.9943 - val_loss: 109228.8516 - val_mae: 236.1900\n",
            "Epoch 35/400\n",
            "174/174 [==============================] - 1s 4ms/step - loss: 148209.8281 - mae: 233.5226 - val_loss: 105289.2891 - val_mae: 231.0439\n",
            "Epoch 36/400\n",
            "174/174 [==============================] - 1s 6ms/step - loss: 140611.1562 - mae: 227.5489 - val_loss: 97435.9062 - val_mae: 224.2576\n",
            "Epoch 37/400\n",
            "174/174 [==============================] - 1s 6ms/step - loss: 133365.7344 - mae: 221.5996 - val_loss: 92897.6641 - val_mae: 217.9703\n",
            "Epoch 38/400\n",
            "174/174 [==============================] - 1s 5ms/step - loss: 126912.2422 - mae: 215.8073 - val_loss: 87860.4375 - val_mae: 212.1694\n",
            "Epoch 39/400\n",
            "174/174 [==============================] - 1s 5ms/step - loss: 120617.0938 - mae: 210.3216 - val_loss: 83153.7344 - val_mae: 206.8221\n",
            "Epoch 40/400\n",
            "174/174 [==============================] - 1s 4ms/step - loss: 114788.8828 - mae: 205.1017 - val_loss: 78957.4531 - val_mae: 201.4478\n",
            "Epoch 41/400\n",
            "174/174 [==============================] - 1s 4ms/step - loss: 109249.5547 - mae: 200.4292 - val_loss: 75392.6172 - val_mae: 197.4656\n",
            "Epoch 42/400\n",
            "174/174 [==============================] - 1s 4ms/step - loss: 104557.0938 - mae: 195.9254 - val_loss: 72553.3203 - val_mae: 192.7809\n",
            "Epoch 43/400\n",
            "174/174 [==============================] - 1s 4ms/step - loss: 99781.1328 - mae: 191.6361 - val_loss: 68613.1094 - val_mae: 187.7032\n",
            "Epoch 44/400\n",
            "174/174 [==============================] - 1s 3ms/step - loss: 95340.8125 - mae: 187.2662 - val_loss: 65610.4062 - val_mae: 183.3265\n",
            "Epoch 45/400\n",
            "174/174 [==============================] - 1s 4ms/step - loss: 91387.1719 - mae: 183.3647 - val_loss: 62934.8281 - val_mae: 179.4352\n",
            "Epoch 46/400\n",
            "174/174 [==============================] - 1s 3ms/step - loss: 87691.0312 - mae: 179.3289 - val_loss: 60288.4609 - val_mae: 175.4276\n",
            "Epoch 47/400\n",
            "174/174 [==============================] - 1s 4ms/step - loss: 84117.5391 - mae: 175.7813 - val_loss: 57993.2969 - val_mae: 172.0929\n",
            "Epoch 48/400\n",
            "174/174 [==============================] - 1s 4ms/step - loss: 80688.6250 - mae: 172.1720 - val_loss: 55816.2891 - val_mae: 168.6395\n",
            "Epoch 49/400\n",
            "174/174 [==============================] - 0s 3ms/step - loss: 77703.0703 - mae: 168.8138 - val_loss: 55221.9805 - val_mae: 168.7783\n",
            "Epoch 50/400\n",
            "174/174 [==============================] - 0s 2ms/step - loss: 74812.2188 - mae: 166.0181 - val_loss: 51910.5469 - val_mae: 162.4595\n",
            "Epoch 51/400\n",
            "174/174 [==============================] - 1s 3ms/step - loss: 71871.3516 - mae: 162.6474 - val_loss: 50704.3008 - val_mae: 160.1043\n",
            "Epoch 52/400\n",
            "174/174 [==============================] - 0s 2ms/step - loss: 68952.4922 - mae: 159.6240 - val_loss: 48221.0352 - val_mae: 156.1213\n",
            "Epoch 53/400\n",
            "174/174 [==============================] - 0s 2ms/step - loss: 66811.4844 - mae: 157.4984 - val_loss: 46454.5352 - val_mae: 153.1703\n",
            "Epoch 54/400\n",
            "174/174 [==============================] - 0s 2ms/step - loss: 63989.5391 - mae: 153.7889 - val_loss: 44966.0977 - val_mae: 150.8015\n",
            "Epoch 55/400\n",
            "174/174 [==============================] - 0s 2ms/step - loss: 61639.6562 - mae: 150.7968 - val_loss: 45202.8242 - val_mae: 150.8304\n",
            "Epoch 56/400\n",
            "174/174 [==============================] - 0s 2ms/step - loss: 59653.5898 - mae: 148.6593 - val_loss: 41973.7148 - val_mae: 145.1706\n",
            "Epoch 57/400\n",
            "174/174 [==============================] - 0s 2ms/step - loss: 57576.4570 - mae: 146.4657 - val_loss: 43276.0195 - val_mae: 150.0047\n",
            "Epoch 58/400\n",
            "174/174 [==============================] - 0s 3ms/step - loss: 55350.0625 - mae: 143.3929 - val_loss: 39183.2500 - val_mae: 139.7010\n",
            "Epoch 59/400\n",
            "174/174 [==============================] - 0s 2ms/step - loss: 53293.5391 - mae: 140.2137 - val_loss: 38101.2109 - val_mae: 138.7326\n",
            "Epoch 60/400\n",
            "174/174 [==============================] - 0s 2ms/step - loss: 51382.9375 - mae: 138.3325 - val_loss: 36535.7812 - val_mae: 134.8519\n",
            "Epoch 61/400\n",
            "174/174 [==============================] - 0s 2ms/step - loss: 49698.5117 - mae: 135.8854 - val_loss: 35508.3008 - val_mae: 133.3950\n",
            "Epoch 62/400\n",
            "174/174 [==============================] - 0s 2ms/step - loss: 47952.7266 - mae: 133.0909 - val_loss: 34531.5703 - val_mae: 130.7846\n",
            "Epoch 63/400\n",
            "174/174 [==============================] - 0s 2ms/step - loss: 46311.4062 - mae: 131.2054 - val_loss: 33245.6094 - val_mae: 128.0352\n",
            "Epoch 64/400\n",
            "174/174 [==============================] - 0s 2ms/step - loss: 44668.7461 - mae: 128.7824 - val_loss: 32059.1465 - val_mae: 126.0114\n",
            "Epoch 65/400\n",
            "174/174 [==============================] - 0s 2ms/step - loss: 42980.5977 - mae: 126.2068 - val_loss: 30727.4648 - val_mae: 122.8810\n",
            "Epoch 66/400\n",
            "174/174 [==============================] - 0s 2ms/step - loss: 41482.2578 - mae: 124.0482 - val_loss: 31100.6992 - val_mae: 124.7215\n",
            "Epoch 67/400\n",
            "174/174 [==============================] - 0s 2ms/step - loss: 40157.9219 - mae: 121.6666 - val_loss: 29106.4961 - val_mae: 119.7095\n",
            "Epoch 68/400\n",
            "174/174 [==============================] - 0s 2ms/step - loss: 38958.3164 - mae: 119.8967 - val_loss: 27920.8398 - val_mae: 117.1479\n",
            "Epoch 69/400\n",
            "174/174 [==============================] - 0s 2ms/step - loss: 37414.4453 - mae: 117.5163 - val_loss: 27157.4297 - val_mae: 115.5960\n",
            "Epoch 70/400\n",
            "174/174 [==============================] - 0s 2ms/step - loss: 36169.5781 - mae: 116.0048 - val_loss: 25957.4414 - val_mae: 112.5229\n",
            "Epoch 71/400\n",
            "174/174 [==============================] - 0s 2ms/step - loss: 34650.4375 - mae: 112.8717 - val_loss: 26387.7188 - val_mae: 115.1786\n",
            "Epoch 72/400\n",
            "174/174 [==============================] - 0s 3ms/step - loss: 33628.3828 - mae: 111.8825 - val_loss: 24365.2637 - val_mae: 109.3956\n",
            "Epoch 73/400\n",
            "174/174 [==============================] - 1s 4ms/step - loss: 32064.8066 - mae: 108.5977 - val_loss: 23408.0234 - val_mae: 106.8127\n",
            "Epoch 74/400\n",
            "174/174 [==============================] - 1s 4ms/step - loss: 31041.9082 - mae: 106.6620 - val_loss: 23679.1855 - val_mae: 109.1502\n",
            "Epoch 75/400\n",
            "174/174 [==============================] - 1s 4ms/step - loss: 29907.3027 - mae: 105.0123 - val_loss: 21720.2344 - val_mae: 102.9017\n",
            "Epoch 76/400\n",
            "174/174 [==============================] - 1s 4ms/step - loss: 28761.1016 - mae: 102.9880 - val_loss: 20892.2500 - val_mae: 100.7220\n",
            "Epoch 77/400\n",
            "174/174 [==============================] - 1s 3ms/step - loss: 27576.3809 - mae: 100.2706 - val_loss: 20161.8750 - val_mae: 98.8379\n",
            "Epoch 78/400\n",
            "174/174 [==============================] - 1s 4ms/step - loss: 26559.4668 - mae: 99.2354 - val_loss: 19641.6504 - val_mae: 97.7091\n",
            "Epoch 79/400\n",
            "174/174 [==============================] - 1s 4ms/step - loss: 25505.5410 - mae: 96.6570 - val_loss: 18709.0215 - val_mae: 94.8358\n",
            "Epoch 80/400\n",
            "174/174 [==============================] - 1s 4ms/step - loss: 24585.7695 - mae: 94.8289 - val_loss: 18265.8809 - val_mae: 93.9568\n",
            "Epoch 81/400\n",
            "174/174 [==============================] - 1s 3ms/step - loss: 23709.7422 - mae: 93.5539 - val_loss: 17367.7715 - val_mae: 91.3405\n",
            "Epoch 82/400\n",
            "174/174 [==============================] - 0s 2ms/step - loss: 22534.4492 - mae: 91.0721 - val_loss: 16874.4297 - val_mae: 90.0191\n",
            "Epoch 83/400\n",
            "174/174 [==============================] - 0s 2ms/step - loss: 21721.9375 - mae: 89.5177 - val_loss: 16423.0469 - val_mae: 89.0766\n",
            "Epoch 84/400\n",
            "174/174 [==============================] - 0s 2ms/step - loss: 20738.2676 - mae: 87.2536 - val_loss: 15882.5342 - val_mae: 87.6847\n",
            "Epoch 85/400\n",
            "174/174 [==============================] - 1s 3ms/step - loss: 19998.7363 - mae: 85.9361 - val_loss: 14982.5176 - val_mae: 84.1845\n",
            "Epoch 86/400\n",
            "174/174 [==============================] - 0s 2ms/step - loss: 19075.8496 - mae: 83.4459 - val_loss: 14549.8174 - val_mae: 83.1532\n",
            "Epoch 87/400\n",
            "174/174 [==============================] - 0s 2ms/step - loss: 18346.8281 - mae: 81.9999 - val_loss: 14148.4619 - val_mae: 82.0708\n",
            "Epoch 88/400\n",
            "174/174 [==============================] - 0s 3ms/step - loss: 17600.6543 - mae: 80.4818 - val_loss: 13786.0596 - val_mae: 80.8439\n",
            "Epoch 89/400\n",
            "174/174 [==============================] - 0s 2ms/step - loss: 16778.8281 - mae: 78.0805 - val_loss: 12861.5068 - val_mae: 77.5477\n",
            "Epoch 90/400\n",
            "174/174 [==============================] - 0s 3ms/step - loss: 16010.6084 - mae: 76.2530 - val_loss: 12374.0596 - val_mae: 75.8062\n",
            "Epoch 91/400\n",
            "174/174 [==============================] - 0s 3ms/step - loss: 15367.4717 - mae: 74.6305 - val_loss: 12145.4873 - val_mae: 75.2705\n",
            "Epoch 92/400\n",
            "174/174 [==============================] - 0s 2ms/step - loss: 14798.1875 - mae: 73.4894 - val_loss: 11416.6377 - val_mae: 72.4797\n",
            "Epoch 93/400\n",
            "174/174 [==============================] - 0s 2ms/step - loss: 14067.4980 - mae: 71.6713 - val_loss: 11149.5410 - val_mae: 72.4374\n",
            "Epoch 94/400\n",
            "174/174 [==============================] - 0s 2ms/step - loss: 13549.9961 - mae: 71.0026 - val_loss: 11622.1992 - val_mae: 75.7067\n",
            "Epoch 95/400\n",
            "174/174 [==============================] - 0s 2ms/step - loss: 12945.0605 - mae: 69.2146 - val_loss: 10115.0186 - val_mae: 67.9148\n",
            "Epoch 96/400\n",
            "174/174 [==============================] - 0s 2ms/step - loss: 12253.6250 - mae: 67.0402 - val_loss: 10333.2930 - val_mae: 70.4189\n",
            "Epoch 97/400\n",
            "174/174 [==============================] - 0s 2ms/step - loss: 11825.3896 - mae: 66.0432 - val_loss: 9714.7510 - val_mae: 67.2361\n",
            "Epoch 98/400\n",
            "174/174 [==============================] - 0s 2ms/step - loss: 11308.6641 - mae: 64.4789 - val_loss: 9019.6963 - val_mae: 63.6992\n",
            "Epoch 99/400\n",
            "174/174 [==============================] - 0s 2ms/step - loss: 10758.0527 - mae: 62.9719 - val_loss: 8643.8789 - val_mae: 62.4174\n",
            "Epoch 100/400\n",
            "174/174 [==============================] - 0s 2ms/step - loss: 10331.3857 - mae: 61.6041 - val_loss: 8663.8135 - val_mae: 62.9000\n",
            "Epoch 101/400\n",
            "174/174 [==============================] - 0s 2ms/step - loss: 9848.5693 - mae: 60.0916 - val_loss: 8032.3931 - val_mae: 60.0285\n",
            "Epoch 102/400\n",
            "174/174 [==============================] - 0s 2ms/step - loss: 9389.3125 - mae: 58.4186 - val_loss: 7670.9150 - val_mae: 58.1594\n",
            "Epoch 103/400\n",
            "174/174 [==============================] - 0s 3ms/step - loss: 9184.8730 - mae: 58.5227 - val_loss: 8004.5869 - val_mae: 61.4935\n",
            "Epoch 104/400\n",
            "174/174 [==============================] - 1s 4ms/step - loss: 8597.6650 - mae: 56.2742 - val_loss: 7265.3384 - val_mae: 56.7794\n",
            "Epoch 105/400\n",
            "174/174 [==============================] - 1s 4ms/step - loss: 8274.5732 - mae: 54.9298 - val_loss: 6969.8223 - val_mae: 55.4417\n",
            "Epoch 106/400\n",
            "174/174 [==============================] - 1s 4ms/step - loss: 7964.3140 - mae: 53.9689 - val_loss: 6582.6523 - val_mae: 53.4175\n",
            "Epoch 107/400\n",
            "174/174 [==============================] - 1s 4ms/step - loss: 7558.8809 - mae: 52.5599 - val_loss: 6339.1514 - val_mae: 52.2601\n",
            "Epoch 108/400\n",
            "174/174 [==============================] - 1s 4ms/step - loss: 7234.3770 - mae: 51.2461 - val_loss: 6113.5195 - val_mae: 51.1410\n",
            "Epoch 109/400\n",
            "174/174 [==============================] - 1s 4ms/step - loss: 6974.4077 - mae: 50.2193 - val_loss: 6015.0840 - val_mae: 50.9992\n",
            "Epoch 110/400\n",
            "174/174 [==============================] - 1s 4ms/step - loss: 6695.0156 - mae: 49.2812 - val_loss: 6518.3696 - val_mae: 55.6395\n",
            "Epoch 111/400\n",
            "174/174 [==============================] - 1s 3ms/step - loss: 6455.8423 - mae: 48.7896 - val_loss: 5479.9697 - val_mae: 48.1404\n",
            "Epoch 112/400\n",
            "174/174 [==============================] - 0s 2ms/step - loss: 6182.8149 - mae: 47.4047 - val_loss: 5288.3057 - val_mae: 47.3696\n",
            "Epoch 113/400\n",
            "174/174 [==============================] - 0s 2ms/step - loss: 5946.3271 - mae: 46.6332 - val_loss: 5106.1045 - val_mae: 46.2509\n",
            "Epoch 114/400\n",
            "174/174 [==============================] - 0s 3ms/step - loss: 5702.6787 - mae: 45.6232 - val_loss: 5040.4502 - val_mae: 46.4449\n",
            "Epoch 115/400\n",
            "174/174 [==============================] - 0s 2ms/step - loss: 5571.2925 - mae: 45.0384 - val_loss: 4778.9897 - val_mae: 44.5428\n",
            "Epoch 116/400\n",
            "174/174 [==============================] - 0s 2ms/step - loss: 5427.1953 - mae: 44.7147 - val_loss: 4721.3340 - val_mae: 45.4144\n",
            "Epoch 117/400\n",
            "174/174 [==============================] - 0s 2ms/step - loss: 5124.4751 - mae: 43.1230 - val_loss: 4630.9189 - val_mae: 44.9139\n",
            "Epoch 118/400\n",
            "174/174 [==============================] - 0s 2ms/step - loss: 5001.6592 - mae: 42.5905 - val_loss: 4285.8545 - val_mae: 41.9859\n",
            "Epoch 119/400\n",
            "174/174 [==============================] - 0s 3ms/step - loss: 4788.0088 - mae: 41.6945 - val_loss: 4349.4082 - val_mae: 43.0266\n",
            "Epoch 120/400\n",
            "174/174 [==============================] - 0s 2ms/step - loss: 4654.4785 - mae: 41.0885 - val_loss: 4028.3289 - val_mae: 40.7608\n",
            "Epoch 121/400\n",
            "174/174 [==============================] - 0s 3ms/step - loss: 4457.6050 - mae: 40.1491 - val_loss: 3908.4141 - val_mae: 39.6712\n",
            "Epoch 122/400\n",
            "174/174 [==============================] - 0s 2ms/step - loss: 4413.0684 - mae: 40.0666 - val_loss: 4058.3716 - val_mae: 42.1718\n",
            "Epoch 123/400\n",
            "174/174 [==============================] - 0s 2ms/step - loss: 4216.7690 - mae: 38.8456 - val_loss: 3764.4558 - val_mae: 39.3383\n",
            "Epoch 124/400\n",
            "174/174 [==============================] - 0s 2ms/step - loss: 4060.9812 - mae: 38.0388 - val_loss: 3630.7388 - val_mae: 38.1932\n",
            "Epoch 125/400\n",
            "174/174 [==============================] - 0s 2ms/step - loss: 3945.2627 - mae: 37.2468 - val_loss: 3537.1265 - val_mae: 37.8885\n",
            "Epoch 126/400\n",
            "174/174 [==============================] - 0s 2ms/step - loss: 3891.2026 - mae: 37.2178 - val_loss: 3408.0564 - val_mae: 37.0847\n",
            "Epoch 127/400\n",
            "174/174 [==============================] - 0s 2ms/step - loss: 3761.3333 - mae: 36.5300 - val_loss: 3314.2729 - val_mae: 36.5177\n",
            "Epoch 128/400\n",
            "174/174 [==============================] - 0s 2ms/step - loss: 3671.3950 - mae: 35.9435 - val_loss: 3361.2778 - val_mae: 37.4771\n",
            "Epoch 129/400\n",
            "174/174 [==============================] - 0s 2ms/step - loss: 3593.7471 - mae: 35.6526 - val_loss: 3226.5474 - val_mae: 36.1951\n",
            "Epoch 130/400\n",
            "174/174 [==============================] - 0s 2ms/step - loss: 3530.9543 - mae: 35.6902 - val_loss: 3068.2612 - val_mae: 34.3832\n",
            "Epoch 131/400\n",
            "174/174 [==============================] - 0s 2ms/step - loss: 3399.7334 - mae: 34.3513 - val_loss: 2963.3442 - val_mae: 33.8406\n",
            "Epoch 132/400\n",
            "174/174 [==============================] - 0s 2ms/step - loss: 3302.8760 - mae: 33.7814 - val_loss: 2923.7756 - val_mae: 33.9610\n",
            "Epoch 133/400\n",
            "174/174 [==============================] - 0s 2ms/step - loss: 3320.6531 - mae: 34.4869 - val_loss: 3862.8340 - val_mae: 45.5874\n",
            "Epoch 134/400\n",
            "174/174 [==============================] - 0s 3ms/step - loss: 3226.0488 - mae: 33.4343 - val_loss: 2754.4849 - val_mae: 32.5639\n",
            "Epoch 135/400\n",
            "174/174 [==============================] - 1s 4ms/step - loss: 3122.0842 - mae: 33.0583 - val_loss: 2738.1833 - val_mae: 32.4898\n",
            "Epoch 136/400\n",
            "174/174 [==============================] - 1s 4ms/step - loss: 3051.4199 - mae: 32.4008 - val_loss: 2657.2920 - val_mae: 31.7171\n",
            "Epoch 137/400\n",
            "174/174 [==============================] - 1s 3ms/step - loss: 3005.7908 - mae: 32.1640 - val_loss: 2595.1375 - val_mae: 31.7151\n",
            "Epoch 138/400\n",
            "174/174 [==============================] - 1s 4ms/step - loss: 2886.0618 - mae: 31.2638 - val_loss: 2569.7683 - val_mae: 31.2788\n",
            "Epoch 139/400\n",
            "174/174 [==============================] - 1s 4ms/step - loss: 2889.2256 - mae: 31.5137 - val_loss: 2523.9243 - val_mae: 30.9737\n",
            "Epoch 140/400\n",
            "174/174 [==============================] - 1s 4ms/step - loss: 2823.7310 - mae: 30.7543 - val_loss: 2460.4856 - val_mae: 30.5807\n",
            "Epoch 141/400\n",
            "174/174 [==============================] - 1s 4ms/step - loss: 2748.6587 - mae: 30.2651 - val_loss: 2433.0173 - val_mae: 30.0028\n",
            "Epoch 142/400\n",
            "174/174 [==============================] - 1s 4ms/step - loss: 2724.7642 - mae: 30.3564 - val_loss: 2462.3906 - val_mae: 31.6127\n",
            "Epoch 143/400\n",
            "174/174 [==============================] - 0s 2ms/step - loss: 2689.8120 - mae: 30.1491 - val_loss: 2336.3730 - val_mae: 30.0203\n",
            "Epoch 144/400\n",
            "174/174 [==============================] - 0s 2ms/step - loss: 2636.2446 - mae: 29.8102 - val_loss: 2257.9224 - val_mae: 28.9967\n",
            "Epoch 145/400\n",
            "174/174 [==============================] - 0s 2ms/step - loss: 2565.8877 - mae: 28.9619 - val_loss: 2223.0352 - val_mae: 28.8794\n",
            "Epoch 146/400\n",
            "174/174 [==============================] - 0s 3ms/step - loss: 2563.9006 - mae: 29.4847 - val_loss: 2216.9038 - val_mae: 29.0458\n",
            "Epoch 147/400\n",
            "174/174 [==============================] - 0s 2ms/step - loss: 2514.8909 - mae: 28.9137 - val_loss: 2129.7725 - val_mae: 28.0950\n",
            "Epoch 148/400\n",
            "174/174 [==============================] - 0s 2ms/step - loss: 2454.5037 - mae: 28.1518 - val_loss: 2147.8157 - val_mae: 28.6562\n",
            "Epoch 149/400\n",
            "174/174 [==============================] - 0s 2ms/step - loss: 2390.9072 - mae: 28.0228 - val_loss: 2080.7854 - val_mae: 27.6820\n",
            "Epoch 150/400\n",
            "174/174 [==============================] - 0s 2ms/step - loss: 2379.5767 - mae: 27.9377 - val_loss: 2051.7148 - val_mae: 27.4405\n",
            "Epoch 151/400\n",
            "174/174 [==============================] - 0s 2ms/step - loss: 2319.6592 - mae: 27.3010 - val_loss: 1994.4969 - val_mae: 26.9953\n",
            "Epoch 152/400\n",
            "174/174 [==============================] - 0s 2ms/step - loss: 2300.0696 - mae: 27.3422 - val_loss: 1966.9690 - val_mae: 26.7577\n",
            "Epoch 153/400\n",
            "174/174 [==============================] - 0s 2ms/step - loss: 2246.4470 - mae: 26.7436 - val_loss: 1959.5712 - val_mae: 26.8314\n",
            "Epoch 154/400\n",
            "174/174 [==============================] - 0s 2ms/step - loss: 2210.7185 - mae: 26.7661 - val_loss: 1943.6095 - val_mae: 26.8353\n",
            "Epoch 155/400\n",
            "174/174 [==============================] - 0s 2ms/step - loss: 2190.8835 - mae: 26.7586 - val_loss: 1877.1744 - val_mae: 26.0334\n",
            "Epoch 156/400\n",
            "174/174 [==============================] - 0s 2ms/step - loss: 2197.0159 - mae: 26.9294 - val_loss: 2095.0020 - val_mae: 30.4075\n",
            "Epoch 157/400\n",
            "174/174 [==============================] - 0s 2ms/step - loss: 2131.2397 - mae: 26.1190 - val_loss: 1848.2799 - val_mae: 26.0853\n",
            "Epoch 158/400\n",
            "174/174 [==============================] - 0s 3ms/step - loss: 2098.5554 - mae: 25.7217 - val_loss: 1867.1686 - val_mae: 26.8440\n",
            "Epoch 159/400\n",
            "174/174 [==============================] - 0s 2ms/step - loss: 2054.2319 - mae: 25.3838 - val_loss: 1786.7952 - val_mae: 25.5732\n",
            "Epoch 160/400\n",
            "174/174 [==============================] - 0s 2ms/step - loss: 2045.5452 - mae: 25.8144 - val_loss: 1776.9469 - val_mae: 26.1420\n",
            "Epoch 161/400\n",
            "174/174 [==============================] - 0s 3ms/step - loss: 1996.2393 - mae: 25.0156 - val_loss: 1770.9220 - val_mae: 25.7374\n",
            "Epoch 162/400\n",
            "174/174 [==============================] - 0s 2ms/step - loss: 1980.0520 - mae: 25.1471 - val_loss: 1682.5590 - val_mae: 24.5546\n",
            "Epoch 163/400\n",
            "174/174 [==============================] - 0s 2ms/step - loss: 1939.4767 - mae: 24.9294 - val_loss: 1687.5067 - val_mae: 24.8022\n",
            "Epoch 164/400\n",
            "174/174 [==============================] - 1s 6ms/step - loss: 1947.1437 - mae: 25.1142 - val_loss: 1659.5374 - val_mae: 24.4825\n",
            "Epoch 165/400\n",
            "174/174 [==============================] - 1s 4ms/step - loss: 1862.5430 - mae: 24.0736 - val_loss: 1632.3342 - val_mae: 24.0329\n",
            "Epoch 166/400\n",
            "174/174 [==============================] - 1s 3ms/step - loss: 1885.3473 - mae: 24.7590 - val_loss: 1641.3156 - val_mae: 24.7540\n",
            "Epoch 167/400\n",
            "174/174 [==============================] - 1s 3ms/step - loss: 1837.9570 - mae: 23.9703 - val_loss: 1604.5822 - val_mae: 24.2143\n",
            "Epoch 168/400\n",
            "174/174 [==============================] - 1s 4ms/step - loss: 1808.1746 - mae: 23.7656 - val_loss: 1563.7844 - val_mae: 23.6766\n",
            "Epoch 169/400\n",
            "174/174 [==============================] - 1s 4ms/step - loss: 1783.0431 - mae: 23.9310 - val_loss: 1660.5391 - val_mae: 26.1407\n",
            "Epoch 170/400\n",
            "174/174 [==============================] - 1s 3ms/step - loss: 1741.6577 - mae: 23.4310 - val_loss: 1626.9193 - val_mae: 25.3287\n",
            "Epoch 171/400\n",
            "174/174 [==============================] - 1s 4ms/step - loss: 1724.1770 - mae: 23.3097 - val_loss: 1677.5519 - val_mae: 27.2504\n",
            "Epoch 172/400\n",
            "174/174 [==============================] - 1s 3ms/step - loss: 1761.6117 - mae: 24.1136 - val_loss: 1494.1556 - val_mae: 22.9511\n",
            "Epoch 173/400\n",
            "174/174 [==============================] - 1s 4ms/step - loss: 1695.8285 - mae: 23.3620 - val_loss: 1441.0114 - val_mae: 22.4745\n",
            "Epoch 174/400\n",
            "174/174 [==============================] - 0s 2ms/step - loss: 1647.3165 - mae: 22.6078 - val_loss: 1436.5477 - val_mae: 22.7457\n",
            "Epoch 175/400\n",
            "174/174 [==============================] - 0s 2ms/step - loss: 1622.1326 - mae: 22.6993 - val_loss: 1418.8955 - val_mae: 22.3373\n",
            "Epoch 176/400\n",
            "174/174 [==============================] - 0s 2ms/step - loss: 1610.8529 - mae: 22.5796 - val_loss: 1418.2030 - val_mae: 22.5693\n",
            "Epoch 177/400\n",
            "174/174 [==============================] - 0s 2ms/step - loss: 1587.4456 - mae: 22.2321 - val_loss: 1543.8646 - val_mae: 25.8173\n",
            "Epoch 178/400\n",
            "174/174 [==============================] - 0s 2ms/step - loss: 1574.4750 - mae: 22.5609 - val_loss: 1345.6239 - val_mae: 21.7398\n",
            "Epoch 179/400\n",
            "174/174 [==============================] - 0s 2ms/step - loss: 1562.8585 - mae: 22.6132 - val_loss: 1401.0465 - val_mae: 23.2277\n",
            "Epoch 180/400\n",
            "174/174 [==============================] - 0s 2ms/step - loss: 1534.5193 - mae: 22.2728 - val_loss: 1307.9056 - val_mae: 21.4380\n",
            "Epoch 181/400\n",
            "174/174 [==============================] - 0s 2ms/step - loss: 1530.1584 - mae: 22.5822 - val_loss: 1292.6866 - val_mae: 21.4747\n",
            "Epoch 182/400\n",
            "174/174 [==============================] - 0s 3ms/step - loss: 1486.0330 - mae: 21.6351 - val_loss: 1270.0758 - val_mae: 21.0726\n",
            "Epoch 183/400\n",
            "174/174 [==============================] - 0s 2ms/step - loss: 1464.0685 - mae: 21.5311 - val_loss: 1259.4066 - val_mae: 20.8782\n",
            "Epoch 184/400\n",
            "174/174 [==============================] - 0s 2ms/step - loss: 1440.5002 - mae: 21.6576 - val_loss: 1249.5526 - val_mae: 21.0822\n",
            "Epoch 185/400\n",
            "174/174 [==============================] - 0s 2ms/step - loss: 1436.2410 - mae: 21.5897 - val_loss: 1461.5658 - val_mae: 26.1360\n",
            "Epoch 186/400\n",
            "174/174 [==============================] - 1s 3ms/step - loss: 1428.4246 - mae: 21.7836 - val_loss: 1217.3169 - val_mae: 21.2441\n",
            "Epoch 187/400\n",
            "174/174 [==============================] - 0s 2ms/step - loss: 1376.0560 - mae: 20.9791 - val_loss: 1190.7620 - val_mae: 20.5436\n",
            "Epoch 188/400\n",
            "174/174 [==============================] - 0s 2ms/step - loss: 1351.8632 - mae: 20.7135 - val_loss: 1246.5186 - val_mae: 22.1080\n",
            "Epoch 189/400\n",
            "174/174 [==============================] - 0s 2ms/step - loss: 1344.9540 - mae: 20.8525 - val_loss: 1199.8608 - val_mae: 21.2918\n",
            "Epoch 190/400\n",
            "174/174 [==============================] - 0s 2ms/step - loss: 1333.4435 - mae: 20.7873 - val_loss: 1388.4131 - val_mae: 25.8781\n",
            "Epoch 191/400\n",
            "174/174 [==============================] - 0s 2ms/step - loss: 1319.7271 - mae: 21.0193 - val_loss: 1131.7889 - val_mae: 20.2200\n",
            "Epoch 192/400\n",
            "174/174 [==============================] - 0s 2ms/step - loss: 1275.5083 - mae: 20.2662 - val_loss: 1223.2786 - val_mae: 22.7133\n",
            "Epoch 193/400\n",
            "174/174 [==============================] - 0s 2ms/step - loss: 1263.8456 - mae: 20.3934 - val_loss: 1124.4897 - val_mae: 20.5602\n",
            "Epoch 194/400\n",
            "174/174 [==============================] - 0s 2ms/step - loss: 1259.1221 - mae: 20.4445 - val_loss: 1087.5111 - val_mae: 19.6519\n",
            "Epoch 195/400\n",
            "174/174 [==============================] - 0s 2ms/step - loss: 1230.1318 - mae: 19.7751 - val_loss: 1080.0039 - val_mae: 19.9940\n",
            "Epoch 196/400\n",
            "174/174 [==============================] - 0s 2ms/step - loss: 1211.9154 - mae: 19.8540 - val_loss: 1075.9999 - val_mae: 19.9971\n",
            "Epoch 197/400\n",
            "174/174 [==============================] - 1s 3ms/step - loss: 1191.6484 - mae: 19.6990 - val_loss: 1159.8541 - val_mae: 22.2730\n",
            "Epoch 198/400\n",
            "174/174 [==============================] - 1s 4ms/step - loss: 1189.6934 - mae: 19.9169 - val_loss: 1053.6073 - val_mae: 19.8326\n",
            "Epoch 199/400\n",
            "174/174 [==============================] - 1s 4ms/step - loss: 1152.3726 - mae: 19.3202 - val_loss: 1005.6261 - val_mae: 19.1567\n",
            "Epoch 200/400\n",
            "174/174 [==============================] - 1s 3ms/step - loss: 1143.4808 - mae: 19.2504 - val_loss: 999.5923 - val_mae: 18.8394\n",
            "Epoch 201/400\n",
            "174/174 [==============================] - 1s 3ms/step - loss: 1104.8616 - mae: 18.7194 - val_loss: 976.8320 - val_mae: 18.6239\n",
            "Epoch 202/400\n",
            "174/174 [==============================] - 1s 4ms/step - loss: 1104.9542 - mae: 18.9907 - val_loss: 984.1270 - val_mae: 19.1202\n",
            "Epoch 203/400\n",
            "174/174 [==============================] - 1s 3ms/step - loss: 1092.9409 - mae: 19.2281 - val_loss: 946.6750 - val_mae: 18.2488\n",
            "Epoch 204/400\n",
            "174/174 [==============================] - 1s 4ms/step - loss: 1062.0022 - mae: 18.5509 - val_loss: 966.4463 - val_mae: 19.3405\n",
            "Epoch 205/400\n",
            "174/174 [==============================] - 1s 4ms/step - loss: 1056.7811 - mae: 18.7608 - val_loss: 916.5587 - val_mae: 18.0722\n",
            "Epoch 206/400\n",
            "174/174 [==============================] - 0s 3ms/step - loss: 1031.4268 - mae: 18.2455 - val_loss: 906.8984 - val_mae: 18.2772\n",
            "Epoch 207/400\n",
            "174/174 [==============================] - 0s 2ms/step - loss: 1038.4641 - mae: 18.6870 - val_loss: 910.2996 - val_mae: 18.3125\n",
            "Epoch 208/400\n",
            "174/174 [==============================] - 0s 2ms/step - loss: 1006.1752 - mae: 18.1205 - val_loss: 869.0272 - val_mae: 17.5061\n",
            "Epoch 209/400\n",
            "174/174 [==============================] - 0s 2ms/step - loss: 997.5919 - mae: 18.2718 - val_loss: 910.9720 - val_mae: 18.7483\n",
            "Epoch 210/400\n",
            "174/174 [==============================] - 0s 2ms/step - loss: 990.4843 - mae: 18.3574 - val_loss: 993.0655 - val_mae: 20.9587\n",
            "Epoch 211/400\n",
            "174/174 [==============================] - 0s 2ms/step - loss: 982.8937 - mae: 18.4475 - val_loss: 832.3391 - val_mae: 17.0446\n",
            "Epoch 212/400\n",
            "174/174 [==============================] - 0s 2ms/step - loss: 945.8587 - mae: 17.6456 - val_loss: 846.8581 - val_mae: 17.7303\n",
            "Epoch 213/400\n",
            "174/174 [==============================] - 0s 2ms/step - loss: 952.4306 - mae: 18.2375 - val_loss: 807.0047 - val_mae: 16.8635\n",
            "Epoch 214/400\n",
            "174/174 [==============================] - 0s 2ms/step - loss: 919.1994 - mae: 17.4905 - val_loss: 816.2407 - val_mae: 17.6624\n",
            "Epoch 215/400\n",
            "174/174 [==============================] - 0s 2ms/step - loss: 917.1156 - mae: 17.6881 - val_loss: 952.4074 - val_mae: 20.9469\n",
            "Epoch 216/400\n",
            "174/174 [==============================] - 0s 2ms/step - loss: 890.0464 - mae: 17.3749 - val_loss: 776.0012 - val_mae: 16.8120\n",
            "Epoch 217/400\n",
            "174/174 [==============================] - 0s 3ms/step - loss: 892.6909 - mae: 17.4587 - val_loss: 1100.2633 - val_mae: 24.7240\n",
            "Epoch 218/400\n",
            "174/174 [==============================] - 0s 2ms/step - loss: 860.8381 - mae: 16.9375 - val_loss: 793.6661 - val_mae: 17.5543\n",
            "Epoch 219/400\n",
            "174/174 [==============================] - 0s 3ms/step - loss: 857.7854 - mae: 17.0937 - val_loss: 771.5653 - val_mae: 17.4258\n",
            "Epoch 220/400\n",
            "174/174 [==============================] - 0s 2ms/step - loss: 849.2791 - mae: 17.1895 - val_loss: 752.4934 - val_mae: 17.0594\n",
            "Epoch 221/400\n",
            "174/174 [==============================] - 1s 3ms/step - loss: 817.9225 - mae: 16.3644 - val_loss: 738.2158 - val_mae: 16.6707\n",
            "Epoch 222/400\n",
            "174/174 [==============================] - 0s 2ms/step - loss: 807.2773 - mae: 16.3884 - val_loss: 702.6429 - val_mae: 15.8255\n",
            "Epoch 223/400\n",
            "174/174 [==============================] - 0s 2ms/step - loss: 803.4979 - mae: 16.5873 - val_loss: 760.6814 - val_mae: 17.8878\n",
            "Epoch 224/400\n",
            "174/174 [==============================] - 0s 2ms/step - loss: 767.7115 - mae: 15.9798 - val_loss: 670.5168 - val_mae: 15.4550\n",
            "Epoch 226/400\n",
            "174/174 [==============================] - 0s 2ms/step - loss: 750.5701 - mae: 15.8150 - val_loss: 731.9995 - val_mae: 17.5549\n",
            "Epoch 227/400\n",
            "174/174 [==============================] - 0s 2ms/step - loss: 756.4124 - mae: 16.1433 - val_loss: 762.7227 - val_mae: 18.5675\n",
            "Epoch 228/400\n",
            "174/174 [==============================] - 0s 2ms/step - loss: 776.8228 - mae: 17.0787 - val_loss: 648.1514 - val_mae: 15.4087\n",
            "Epoch 229/400\n",
            "174/174 [==============================] - 1s 3ms/step - loss: 731.4599 - mae: 16.2267 - val_loss: 635.3438 - val_mae: 15.3193\n",
            "Epoch 230/400\n",
            "174/174 [==============================] - 1s 4ms/step - loss: 705.7850 - mae: 15.4088 - val_loss: 641.3746 - val_mae: 15.4207\n",
            "Epoch 231/400\n",
            "174/174 [==============================] - 1s 4ms/step - loss: 689.0878 - mae: 15.3499 - val_loss: 646.7322 - val_mae: 15.8914\n",
            "Epoch 232/400\n",
            "174/174 [==============================] - 1s 4ms/step - loss: 697.2637 - mae: 15.6629 - val_loss: 632.3564 - val_mae: 15.8353\n",
            "Epoch 233/400\n",
            "174/174 [==============================] - 1s 3ms/step - loss: 678.0391 - mae: 15.3073 - val_loss: 605.8228 - val_mae: 14.8736\n",
            "Epoch 234/400\n",
            "174/174 [==============================] - 1s 4ms/step - loss: 664.7333 - mae: 15.2502 - val_loss: 581.5348 - val_mae: 14.4975\n",
            "Epoch 235/400\n",
            "174/174 [==============================] - 1s 3ms/step - loss: 675.0596 - mae: 15.4589 - val_loss: 584.0588 - val_mae: 14.5952\n",
            "Epoch 236/400\n",
            "174/174 [==============================] - 1s 3ms/step - loss: 637.5831 - mae: 14.7540 - val_loss: 599.9800 - val_mae: 15.4678\n",
            "Epoch 237/400\n",
            "174/174 [==============================] - 0s 2ms/step - loss: 643.9424 - mae: 15.0997 - val_loss: 593.7017 - val_mae: 15.3105\n",
            "Epoch 238/400\n",
            "174/174 [==============================] - 0s 2ms/step - loss: 623.5970 - mae: 14.6946 - val_loss: 576.7034 - val_mae: 15.2591\n",
            "Epoch 239/400\n",
            "174/174 [==============================] - 0s 2ms/step - loss: 627.1669 - mae: 15.1109 - val_loss: 643.8547 - val_mae: 17.4128\n",
            "Epoch 240/400\n",
            "174/174 [==============================] - 0s 2ms/step - loss: 598.3214 - mae: 14.4704 - val_loss: 583.4670 - val_mae: 15.7149\n",
            "Epoch 241/400\n",
            "174/174 [==============================] - 0s 2ms/step - loss: 603.6237 - mae: 14.8613 - val_loss: 524.7473 - val_mae: 13.7985\n",
            "Epoch 242/400\n",
            "174/174 [==============================] - 0s 2ms/step - loss: 593.6460 - mae: 14.5841 - val_loss: 520.6251 - val_mae: 13.6431\n",
            "Epoch 243/400\n",
            "174/174 [==============================] - 0s 2ms/step - loss: 579.3576 - mae: 14.4154 - val_loss: 525.4815 - val_mae: 14.1724\n",
            "Epoch 244/400\n",
            "174/174 [==============================] - 0s 2ms/step - loss: 561.4412 - mae: 14.1531 - val_loss: 507.5678 - val_mae: 13.8691\n",
            "Epoch 245/400\n",
            "174/174 [==============================] - 0s 2ms/step - loss: 552.4308 - mae: 13.9839 - val_loss: 487.4259 - val_mae: 13.3245\n",
            "Epoch 246/400\n",
            "174/174 [==============================] - 0s 2ms/step - loss: 543.4692 - mae: 13.8119 - val_loss: 516.0124 - val_mae: 14.5427\n",
            "Epoch 247/400\n",
            "174/174 [==============================] - 0s 2ms/step - loss: 540.6550 - mae: 13.9541 - val_loss: 489.0192 - val_mae: 13.8154\n",
            "Epoch 248/400\n",
            "174/174 [==============================] - 0s 2ms/step - loss: 538.9752 - mae: 14.1947 - val_loss: 547.0775 - val_mae: 16.0663\n",
            "Epoch 249/400\n",
            "174/174 [==============================] - 0s 2ms/step - loss: 530.6219 - mae: 13.9462 - val_loss: 455.9398 - val_mae: 12.8206\n",
            "Epoch 250/400\n",
            "174/174 [==============================] - 0s 2ms/step - loss: 513.2834 - mae: 13.6122 - val_loss: 451.4994 - val_mae: 13.0562\n",
            "Epoch 251/400\n",
            "174/174 [==============================] - 0s 2ms/step - loss: 502.9753 - mae: 13.4855 - val_loss: 443.7623 - val_mae: 12.9311\n",
            "Epoch 252/400\n",
            "174/174 [==============================] - 0s 2ms/step - loss: 493.7259 - mae: 13.2972 - val_loss: 462.5956 - val_mae: 13.8928\n",
            "Epoch 253/400\n",
            "174/174 [==============================] - 0s 2ms/step - loss: 481.2712 - mae: 13.0671 - val_loss: 444.2979 - val_mae: 13.2086\n",
            "Epoch 254/400\n",
            "174/174 [==============================] - 0s 2ms/step - loss: 480.0692 - mae: 13.1895 - val_loss: 420.5755 - val_mae: 12.6172\n",
            "Epoch 255/400\n",
            "174/174 [==============================] - 0s 2ms/step - loss: 474.3074 - mae: 13.1524 - val_loss: 424.4903 - val_mae: 12.6711\n",
            "Epoch 256/400\n",
            "174/174 [==============================] - 0s 2ms/step - loss: 468.1915 - mae: 13.4063 - val_loss: 436.5453 - val_mae: 13.4645\n",
            "Epoch 257/400\n",
            "174/174 [==============================] - 0s 2ms/step - loss: 448.3241 - mae: 12.7138 - val_loss: 412.4142 - val_mae: 12.6873\n",
            "Epoch 258/400\n",
            "174/174 [==============================] - 0s 2ms/step - loss: 448.8669 - mae: 12.8674 - val_loss: 394.7912 - val_mae: 12.1873\n",
            "Epoch 259/400\n",
            "174/174 [==============================] - 0s 2ms/step - loss: 436.5703 - mae: 12.7205 - val_loss: 456.1892 - val_mae: 14.3384\n",
            "Epoch 260/400\n",
            "174/174 [==============================] - 1s 3ms/step - loss: 438.6707 - mae: 12.8204 - val_loss: 445.1936 - val_mae: 14.3574\n",
            "Epoch 261/400\n",
            "174/174 [==============================] - 1s 3ms/step - loss: 429.1441 - mae: 12.6603 - val_loss: 390.6315 - val_mae: 12.4712\n",
            "Epoch 262/400\n",
            "174/174 [==============================] - 1s 3ms/step - loss: 423.8989 - mae: 12.7308 - val_loss: 375.7957 - val_mae: 12.0419\n",
            "Epoch 263/400\n",
            "174/174 [==============================] - 1s 4ms/step - loss: 427.0951 - mae: 12.9296 - val_loss: 361.9461 - val_mae: 11.4760\n",
            "Epoch 264/400\n",
            "174/174 [==============================] - 1s 4ms/step - loss: 405.5931 - mae: 12.2722 - val_loss: 376.3340 - val_mae: 12.1201\n",
            "Epoch 265/400\n",
            "174/174 [==============================] - 1s 4ms/step - loss: 398.5463 - mae: 12.2691 - val_loss: 355.8488 - val_mae: 11.6974\n",
            "Epoch 266/400\n",
            "174/174 [==============================] - 1s 3ms/step - loss: 389.7926 - mae: 12.1575 - val_loss: 434.1228 - val_mae: 14.6697\n",
            "Epoch 267/400\n",
            "174/174 [==============================] - 1s 4ms/step - loss: 385.8267 - mae: 12.0614 - val_loss: 343.7797 - val_mae: 11.3263\n",
            "Epoch 268/400\n",
            "174/174 [==============================] - 0s 3ms/step - loss: 375.5254 - mae: 11.8955 - val_loss: 336.3342 - val_mae: 11.2145\n",
            "Epoch 269/400\n",
            "174/174 [==============================] - 0s 2ms/step - loss: 370.6908 - mae: 11.7015 - val_loss: 343.1151 - val_mae: 11.6732\n",
            "Epoch 270/400\n",
            "174/174 [==============================] - 0s 2ms/step - loss: 378.5358 - mae: 12.0930 - val_loss: 326.7741 - val_mae: 11.0786\n",
            "Epoch 271/400\n",
            "174/174 [==============================] - 0s 2ms/step - loss: 366.8617 - mae: 11.9372 - val_loss: 351.4366 - val_mae: 12.0279\n",
            "Epoch 272/400\n",
            "174/174 [==============================] - 0s 2ms/step - loss: 352.8754 - mae: 11.5079 - val_loss: 313.6315 - val_mae: 10.7093\n",
            "Epoch 273/400\n",
            "174/174 [==============================] - 0s 2ms/step - loss: 342.6704 - mae: 11.2011 - val_loss: 312.0730 - val_mae: 10.8946\n",
            "Epoch 274/400\n",
            "174/174 [==============================] - 0s 2ms/step - loss: 342.7794 - mae: 11.4058 - val_loss: 307.1449 - val_mae: 10.8029\n",
            "Epoch 275/400\n",
            "174/174 [==============================] - 0s 2ms/step - loss: 346.4807 - mae: 11.6147 - val_loss: 309.3089 - val_mae: 11.0835\n",
            "Epoch 276/400\n",
            "174/174 [==============================] - 0s 2ms/step - loss: 339.0292 - mae: 11.5569 - val_loss: 300.6908 - val_mae: 10.7647\n",
            "Epoch 277/400\n",
            "174/174 [==============================] - 0s 2ms/step - loss: 322.3520 - mae: 11.0488 - val_loss: 298.8409 - val_mae: 10.7794\n",
            "Epoch 278/400\n",
            "174/174 [==============================] - 0s 2ms/step - loss: 315.9568 - mae: 10.8811 - val_loss: 311.4232 - val_mae: 11.2297\n",
            "Epoch 279/400\n",
            "174/174 [==============================] - 0s 2ms/step - loss: 319.4667 - mae: 11.0518 - val_loss: 281.1133 - val_mae: 10.1741\n",
            "Epoch 280/400\n",
            "174/174 [==============================] - 0s 2ms/step - loss: 309.8621 - mae: 10.8816 - val_loss: 278.8855 - val_mae: 10.3971\n",
            "Epoch 281/400\n",
            "174/174 [==============================] - 0s 2ms/step - loss: 305.8333 - mae: 10.8019 - val_loss: 316.9405 - val_mae: 11.9081\n",
            "Epoch 282/400\n",
            "174/174 [==============================] - 0s 2ms/step - loss: 302.0856 - mae: 10.7828 - val_loss: 294.3583 - val_mae: 11.0152\n",
            "Epoch 283/400\n",
            "174/174 [==============================] - 0s 2ms/step - loss: 293.9896 - mae: 10.5730 - val_loss: 270.5519 - val_mae: 10.3526\n",
            "Epoch 284/400\n",
            "174/174 [==============================] - 0s 2ms/step - loss: 286.7289 - mae: 10.3245 - val_loss: 267.4924 - val_mae: 10.0528\n",
            "Epoch 285/400\n",
            "174/174 [==============================] - 0s 2ms/step - loss: 291.4162 - mae: 10.6217 - val_loss: 302.0184 - val_mae: 11.6606\n",
            "Epoch 286/400\n",
            "174/174 [==============================] - 0s 2ms/step - loss: 287.8740 - mae: 10.6763 - val_loss: 282.7697 - val_mae: 10.9639\n",
            "Epoch 287/400\n",
            "174/174 [==============================] - 0s 2ms/step - loss: 280.5827 - mae: 10.5365 - val_loss: 260.7672 - val_mae: 9.9604\n",
            "Epoch 288/400\n",
            "174/174 [==============================] - 0s 2ms/step - loss: 271.1314 - mae: 10.2602 - val_loss: 271.7160 - val_mae: 10.4584\n",
            "Epoch 289/400\n",
            "174/174 [==============================] - 0s 2ms/step - loss: 273.0813 - mae: 10.2496 - val_loss: 290.1898 - val_mae: 11.6969\n",
            "Epoch 290/400\n",
            "174/174 [==============================] - 0s 3ms/step - loss: 268.2479 - mae: 10.0539 - val_loss: 251.6990 - val_mae: 9.7718\n",
            "Epoch 291/400\n",
            "174/174 [==============================] - 0s 3ms/step - loss: 261.1534 - mae: 9.9757 - val_loss: 239.5465 - val_mae: 9.4400\n",
            "Epoch 292/400\n",
            "174/174 [==============================] - 1s 3ms/step - loss: 256.8298 - mae: 9.8236 - val_loss: 242.9304 - val_mae: 9.6074\n",
            "Epoch 293/400\n",
            "174/174 [==============================] - 1s 4ms/step - loss: 259.1705 - mae: 10.0228 - val_loss: 253.9943 - val_mae: 10.1980\n",
            "Epoch 294/400\n",
            "174/174 [==============================] - 1s 4ms/step - loss: 244.9546 - mae: 9.6525 - val_loss: 253.5359 - val_mae: 10.2796\n",
            "Epoch 295/400\n",
            "174/174 [==============================] - 1s 4ms/step - loss: 243.9352 - mae: 9.5868 - val_loss: 223.9545 - val_mae: 9.0330\n",
            "Epoch 296/400\n",
            "174/174 [==============================] - 1s 4ms/step - loss: 240.0004 - mae: 9.5102 - val_loss: 227.2110 - val_mae: 9.3770\n",
            "Epoch 297/400\n",
            "174/174 [==============================] - 1s 3ms/step - loss: 240.5762 - mae: 9.6237 - val_loss: 217.8766 - val_mae: 8.9217\n",
            "Epoch 298/400\n",
            "174/174 [==============================] - 1s 4ms/step - loss: 233.0345 - mae: 9.3778 - val_loss: 230.8696 - val_mae: 9.7994\n",
            "Epoch 299/400\n",
            "174/174 [==============================] - 0s 3ms/step - loss: 231.4329 - mae: 9.5285 - val_loss: 219.9359 - val_mae: 9.0698\n",
            "Epoch 300/400\n",
            "174/174 [==============================] - 0s 2ms/step - loss: 233.3905 - mae: 9.5657 - val_loss: 256.8412 - val_mae: 10.7867\n",
            "Epoch 301/400\n",
            "174/174 [==============================] - 0s 2ms/step - loss: 228.8928 - mae: 9.3967 - val_loss: 205.6252 - val_mae: 8.6066\n",
            "Epoch 302/400\n",
            "174/174 [==============================] - 0s 2ms/step - loss: 227.7227 - mae: 9.3653 - val_loss: 242.8096 - val_mae: 10.6485\n",
            "Epoch 303/400\n",
            "174/174 [==============================] - 0s 2ms/step - loss: 217.5963 - mae: 9.0263 - val_loss: 245.8829 - val_mae: 10.5148\n",
            "Epoch 304/400\n",
            "174/174 [==============================] - 0s 2ms/step - loss: 224.2242 - mae: 9.3643 - val_loss: 199.4179 - val_mae: 8.4323\n",
            "Epoch 305/400\n",
            "174/174 [==============================] - 0s 2ms/step - loss: 214.1335 - mae: 9.0121 - val_loss: 199.5577 - val_mae: 8.5683\n",
            "Epoch 306/400\n",
            "174/174 [==============================] - 0s 2ms/step - loss: 211.6861 - mae: 8.9675 - val_loss: 205.8662 - val_mae: 8.8883\n",
            "Epoch 307/400\n",
            "174/174 [==============================] - 0s 2ms/step - loss: 212.2845 - mae: 9.0198 - val_loss: 189.9734 - val_mae: 8.2387\n",
            "Epoch 308/400\n",
            "174/174 [==============================] - 0s 3ms/step - loss: 210.4844 - mae: 9.0084 - val_loss: 191.3667 - val_mae: 8.3929\n",
            "Epoch 309/400\n",
            "174/174 [==============================] - 0s 2ms/step - loss: 205.7304 - mae: 8.9193 - val_loss: 246.8134 - val_mae: 10.9093\n",
            "Epoch 310/400\n",
            "174/174 [==============================] - 0s 2ms/step - loss: 198.9653 - mae: 8.6373 - val_loss: 191.7336 - val_mae: 8.6977\n",
            "Epoch 311/400\n",
            "174/174 [==============================] - 0s 2ms/step - loss: 205.7368 - mae: 9.0550 - val_loss: 188.0570 - val_mae: 8.1576\n",
            "Epoch 312/400\n",
            "174/174 [==============================] - 0s 2ms/step - loss: 197.0228 - mae: 8.6500 - val_loss: 185.2475 - val_mae: 8.2021\n",
            "Epoch 313/400\n",
            "174/174 [==============================] - 0s 2ms/step - loss: 193.9701 - mae: 8.5041 - val_loss: 179.8677 - val_mae: 7.9702\n",
            "Epoch 314/400\n",
            "174/174 [==============================] - 0s 2ms/step - loss: 196.4908 - mae: 8.8157 - val_loss: 186.8989 - val_mae: 8.3758\n",
            "Epoch 315/400\n",
            "174/174 [==============================] - 0s 2ms/step - loss: 192.3928 - mae: 8.5727 - val_loss: 177.6201 - val_mae: 7.8732\n",
            "Epoch 316/400\n",
            "174/174 [==============================] - 0s 2ms/step - loss: 199.4901 - mae: 8.8268 - val_loss: 184.1598 - val_mae: 8.3959\n",
            "Epoch 317/400\n",
            "174/174 [==============================] - 0s 2ms/step - loss: 209.0461 - mae: 9.3220 - val_loss: 241.6669 - val_mae: 11.4680\n",
            "Epoch 318/400\n",
            "174/174 [==============================] - 0s 2ms/step - loss: 196.1827 - mae: 8.7461 - val_loss: 173.3698 - val_mae: 7.8374\n",
            "Epoch 319/400\n",
            "174/174 [==============================] - 0s 3ms/step - loss: 182.0387 - mae: 8.1705 - val_loss: 190.4135 - val_mae: 9.0583\n",
            "Epoch 320/400\n",
            "174/174 [==============================] - 0s 2ms/step - loss: 180.7251 - mae: 8.2262 - val_loss: 184.5092 - val_mae: 8.8432\n",
            "Epoch 321/400\n",
            "174/174 [==============================] - 0s 2ms/step - loss: 188.1403 - mae: 8.5304 - val_loss: 178.5204 - val_mae: 8.2324\n",
            "Epoch 322/400\n",
            "174/174 [==============================] - 1s 3ms/step - loss: 186.1820 - mae: 8.5871 - val_loss: 176.9324 - val_mae: 8.2308\n",
            "Epoch 323/400\n",
            "174/174 [==============================] - 1s 3ms/step - loss: 176.1550 - mae: 8.1253 - val_loss: 167.1242 - val_mae: 7.6541\n",
            "Epoch 324/400\n",
            "174/174 [==============================] - 1s 3ms/step - loss: 174.0769 - mae: 8.0489 - val_loss: 174.7631 - val_mae: 8.5102\n",
            "Epoch 325/400\n",
            "174/174 [==============================] - 1s 3ms/step - loss: 176.6317 - mae: 8.2063 - val_loss: 207.4558 - val_mae: 9.8598\n",
            "Epoch 326/400\n",
            "174/174 [==============================] - 1s 4ms/step - loss: 181.7950 - mae: 8.4569 - val_loss: 165.8504 - val_mae: 7.8483\n",
            "Epoch 327/400\n",
            "174/174 [==============================] - 1s 4ms/step - loss: 176.1093 - mae: 8.0958 - val_loss: 160.6484 - val_mae: 7.5598\n",
            "Epoch 328/400\n",
            "174/174 [==============================] - 1s 4ms/step - loss: 171.8093 - mae: 8.1111 - val_loss: 160.9792 - val_mae: 7.7441\n",
            "Epoch 329/400\n",
            "174/174 [==============================] - 1s 4ms/step - loss: 173.4833 - mae: 8.0626 - val_loss: 250.7321 - val_mae: 12.1465\n",
            "Epoch 330/400\n",
            "174/174 [==============================] - 1s 3ms/step - loss: 172.6911 - mae: 8.0898 - val_loss: 198.2200 - val_mae: 9.6976\n",
            "Epoch 331/400\n",
            "174/174 [==============================] - 1s 3ms/step - loss: 165.1394 - mae: 7.8310 - val_loss: 214.6065 - val_mae: 10.3225\n",
            "Epoch 332/400\n",
            "174/174 [==============================] - 0s 2ms/step - loss: 170.1901 - mae: 8.0742 - val_loss: 155.4286 - val_mae: 7.3777\n",
            "Epoch 333/400\n",
            "174/174 [==============================] - 0s 2ms/step - loss: 162.8411 - mae: 7.7289 - val_loss: 160.5969 - val_mae: 7.9255\n",
            "Epoch 334/400\n",
            "174/174 [==============================] - 0s 3ms/step - loss: 159.5558 - mae: 7.6815 - val_loss: 153.3419 - val_mae: 7.5424\n",
            "Epoch 335/400\n",
            "174/174 [==============================] - 0s 2ms/step - loss: 164.7409 - mae: 7.9632 - val_loss: 210.0408 - val_mae: 10.5072\n",
            "Epoch 336/400\n",
            "174/174 [==============================] - 0s 3ms/step - loss: 166.0937 - mae: 8.0288 - val_loss: 145.3969 - val_mae: 7.0602\n",
            "Epoch 337/400\n",
            "174/174 [==============================] - 0s 2ms/step - loss: 157.8522 - mae: 7.7186 - val_loss: 151.9442 - val_mae: 7.5167\n",
            "Epoch 338/400\n",
            "174/174 [==============================] - 0s 2ms/step - loss: 155.1456 - mae: 7.5410 - val_loss: 163.0022 - val_mae: 8.3030\n",
            "Epoch 339/400\n",
            "174/174 [==============================] - 0s 2ms/step - loss: 161.0963 - mae: 7.7685 - val_loss: 147.8964 - val_mae: 7.5451\n",
            "Epoch 340/400\n",
            "174/174 [==============================] - 0s 2ms/step - loss: 154.5419 - mae: 7.5879 - val_loss: 151.8110 - val_mae: 7.4450\n",
            "Epoch 341/400\n",
            "174/174 [==============================] - 0s 3ms/step - loss: 159.0529 - mae: 7.8617 - val_loss: 137.0183 - val_mae: 6.7311\n",
            "Epoch 342/400\n",
            "174/174 [==============================] - 1s 3ms/step - loss: 152.4283 - mae: 7.4231 - val_loss: 171.8326 - val_mae: 8.8223\n",
            "Epoch 343/400\n",
            "174/174 [==============================] - 0s 3ms/step - loss: 154.7265 - mae: 7.6882 - val_loss: 175.0947 - val_mae: 8.5600\n",
            "Epoch 344/400\n",
            "174/174 [==============================] - 0s 2ms/step - loss: 149.7794 - mae: 7.4451 - val_loss: 182.6996 - val_mae: 9.3662\n",
            "Epoch 345/400\n",
            "174/174 [==============================] - 0s 2ms/step - loss: 151.9945 - mae: 7.5696 - val_loss: 141.1054 - val_mae: 7.1472\n",
            "Epoch 346/400\n",
            "174/174 [==============================] - 0s 2ms/step - loss: 148.9056 - mae: 7.5227 - val_loss: 150.8226 - val_mae: 7.7941\n",
            "Epoch 347/400\n",
            "174/174 [==============================] - 0s 2ms/step - loss: 152.4236 - mae: 7.6020 - val_loss: 134.3809 - val_mae: 6.7039\n",
            "Epoch 348/400\n",
            "174/174 [==============================] - 0s 2ms/step - loss: 155.7252 - mae: 7.8196 - val_loss: 163.9877 - val_mae: 8.9068\n",
            "Epoch 349/400\n",
            "174/174 [==============================] - 0s 2ms/step - loss: 148.7394 - mae: 7.5827 - val_loss: 132.9287 - val_mae: 6.6950\n",
            "Epoch 350/400\n",
            "174/174 [==============================] - 0s 2ms/step - loss: 147.4549 - mae: 7.4615 - val_loss: 136.6609 - val_mae: 7.0635\n",
            "Epoch 351/400\n",
            "174/174 [==============================] - 0s 2ms/step - loss: 141.4231 - mae: 7.1171 - val_loss: 138.4135 - val_mae: 7.4454\n",
            "Epoch 352/400\n",
            "174/174 [==============================] - 0s 2ms/step - loss: 141.3698 - mae: 7.1643 - val_loss: 128.0827 - val_mae: 6.6589\n",
            "Epoch 353/400\n",
            "174/174 [==============================] - 1s 3ms/step - loss: 137.5395 - mae: 6.9638 - val_loss: 136.4032 - val_mae: 7.3260\n",
            "Epoch 354/400\n",
            "174/174 [==============================] - 1s 3ms/step - loss: 142.0580 - mae: 7.2429 - val_loss: 132.4902 - val_mae: 7.0410\n",
            "Epoch 355/400\n",
            "174/174 [==============================] - 1s 3ms/step - loss: 141.4786 - mae: 7.2630 - val_loss: 144.6933 - val_mae: 7.6992\n",
            "Epoch 356/400\n",
            "174/174 [==============================] - 1s 4ms/step - loss: 138.9444 - mae: 7.2028 - val_loss: 127.8991 - val_mae: 6.7195\n",
            "Epoch 357/400\n",
            "174/174 [==============================] - 1s 4ms/step - loss: 144.9209 - mae: 7.5378 - val_loss: 124.8191 - val_mae: 6.5825\n",
            "Epoch 358/400\n",
            "174/174 [==============================] - 1s 3ms/step - loss: 137.6444 - mae: 7.1960 - val_loss: 124.3911 - val_mae: 6.5947\n",
            "Epoch 359/400\n",
            "174/174 [==============================] - 1s 4ms/step - loss: 137.5420 - mae: 7.2111 - val_loss: 127.1471 - val_mae: 6.6278\n",
            "Epoch 360/400\n",
            "174/174 [==============================] - 1s 4ms/step - loss: 132.9686 - mae: 6.9650 - val_loss: 121.5378 - val_mae: 6.3384\n",
            "Epoch 361/400\n",
            "174/174 [==============================] - 1s 3ms/step - loss: 144.9304 - mae: 7.5916 - val_loss: 125.8957 - val_mae: 6.8314\n",
            "Epoch 362/400\n",
            "174/174 [==============================] - 0s 2ms/step - loss: 133.4783 - mae: 7.0818 - val_loss: 145.9970 - val_mae: 8.1847\n",
            "Epoch 363/400\n",
            "174/174 [==============================] - 0s 2ms/step - loss: 134.9324 - mae: 7.1950 - val_loss: 119.2400 - val_mae: 6.3660\n",
            "Epoch 364/400\n",
            "174/174 [==============================] - 0s 2ms/step - loss: 130.7287 - mae: 6.9229 - val_loss: 125.5286 - val_mae: 6.7199\n",
            "Epoch 365/400\n",
            "174/174 [==============================] - 0s 2ms/step - loss: 133.4867 - mae: 7.0692 - val_loss: 115.6512 - val_mae: 6.2505\n",
            "Epoch 366/400\n",
            "174/174 [==============================] - 0s 2ms/step - loss: 127.1313 - mae: 6.7762 - val_loss: 120.0615 - val_mae: 6.6001\n",
            "Epoch 367/400\n",
            "174/174 [==============================] - 0s 2ms/step - loss: 135.5254 - mae: 7.3113 - val_loss: 132.3023 - val_mae: 7.2278\n",
            "Epoch 368/400\n",
            "174/174 [==============================] - 0s 2ms/step - loss: 125.0629 - mae: 6.6897 - val_loss: 135.1830 - val_mae: 7.8563\n",
            "Epoch 369/400\n",
            "174/174 [==============================] - 0s 2ms/step - loss: 123.0613 - mae: 6.6315 - val_loss: 120.4313 - val_mae: 6.6583\n",
            "Epoch 370/400\n",
            "174/174 [==============================] - 0s 3ms/step - loss: 124.1238 - mae: 6.6910 - val_loss: 124.1255 - val_mae: 6.7422\n",
            "Epoch 371/400\n",
            "174/174 [==============================] - 0s 3ms/step - loss: 128.0143 - mae: 6.8774 - val_loss: 109.2502 - val_mae: 5.9964\n",
            "Epoch 372/400\n",
            "174/174 [==============================] - 0s 2ms/step - loss: 125.6789 - mae: 6.8876 - val_loss: 111.7891 - val_mae: 6.1235\n",
            "Epoch 373/400\n",
            "174/174 [==============================] - 0s 3ms/step - loss: 121.9963 - mae: 6.7278 - val_loss: 143.4173 - val_mae: 8.4576\n",
            "Epoch 374/400\n",
            "174/174 [==============================] - 0s 2ms/step - loss: 128.0442 - mae: 7.0474 - val_loss: 109.0142 - val_mae: 5.9870\n",
            "Epoch 375/400\n",
            "174/174 [==============================] - 0s 3ms/step - loss: 119.8357 - mae: 6.6423 - val_loss: 109.9476 - val_mae: 6.2221\n",
            "Epoch 376/400\n",
            "174/174 [==============================] - 0s 2ms/step - loss: 120.1000 - mae: 6.6804 - val_loss: 108.3844 - val_mae: 6.0152\n",
            "Epoch 377/400\n",
            "174/174 [==============================] - 0s 2ms/step - loss: 123.1602 - mae: 6.8925 - val_loss: 120.2105 - val_mae: 6.9898\n",
            "Epoch 378/400\n",
            "174/174 [==============================] - 0s 2ms/step - loss: 129.4738 - mae: 7.3157 - val_loss: 105.3452 - val_mae: 5.9399\n",
            "Epoch 379/400\n",
            "174/174 [==============================] - 0s 3ms/step - loss: 116.7267 - mae: 6.5281 - val_loss: 108.7478 - val_mae: 6.1881\n",
            "Epoch 380/400\n",
            "174/174 [==============================] - 0s 3ms/step - loss: 119.1198 - mae: 6.6442 - val_loss: 120.0836 - val_mae: 6.9813\n",
            "Epoch 381/400\n",
            "174/174 [==============================] - 0s 2ms/step - loss: 118.0027 - mae: 6.6841 - val_loss: 107.7357 - val_mae: 6.1431\n",
            "Epoch 382/400\n",
            "174/174 [==============================] - 0s 3ms/step - loss: 116.8865 - mae: 6.5657 - val_loss: 111.4419 - val_mae: 6.6166\n",
            "Epoch 383/400\n",
            "174/174 [==============================] - 0s 3ms/step - loss: 115.9382 - mae: 6.4838 - val_loss: 104.7122 - val_mae: 6.1107\n",
            "Epoch 384/400\n",
            "174/174 [==============================] - 1s 4ms/step - loss: 119.5343 - mae: 6.8708 - val_loss: 119.4592 - val_mae: 7.2112\n",
            "Epoch 385/400\n",
            "174/174 [==============================] - 1s 4ms/step - loss: 116.2208 - mae: 6.6350 - val_loss: 100.4687 - val_mae: 5.9205\n",
            "Epoch 386/400\n",
            "174/174 [==============================] - 1s 4ms/step - loss: 110.4486 - mae: 6.2702 - val_loss: 108.5337 - val_mae: 6.3899\n",
            "Epoch 387/400\n",
            "174/174 [==============================] - 1s 3ms/step - loss: 111.8499 - mae: 6.4110 - val_loss: 100.8659 - val_mae: 5.8728\n",
            "Epoch 388/400\n",
            "174/174 [==============================] - 1s 3ms/step - loss: 114.7269 - mae: 6.5829 - val_loss: 103.0757 - val_mae: 6.1866\n",
            "Epoch 389/400\n",
            "174/174 [==============================] - 1s 3ms/step - loss: 113.4835 - mae: 6.5259 - val_loss: 99.6824 - val_mae: 5.8360\n",
            "Epoch 390/400\n",
            "174/174 [==============================] - 1s 4ms/step - loss: 116.4334 - mae: 6.7096 - val_loss: 107.4496 - val_mae: 6.4130\n",
            "Epoch 391/400\n",
            "174/174 [==============================] - 1s 4ms/step - loss: 107.1937 - mae: 6.2316 - val_loss: 101.0984 - val_mae: 6.2227\n",
            "Epoch 392/400\n",
            "174/174 [==============================] - 0s 3ms/step - loss: 111.5618 - mae: 6.5329 - val_loss: 94.0187 - val_mae: 5.5124\n",
            "Epoch 393/400\n",
            "174/174 [==============================] - 1s 3ms/step - loss: 113.3171 - mae: 6.5468 - val_loss: 100.6995 - val_mae: 6.0643\n",
            "Epoch 394/400\n",
            "174/174 [==============================] - 0s 2ms/step - loss: 106.8352 - mae: 6.2812 - val_loss: 113.9153 - val_mae: 7.0339\n",
            "Epoch 395/400\n",
            "174/174 [==============================] - 0s 2ms/step - loss: 105.7337 - mae: 6.2741 - val_loss: 116.6476 - val_mae: 7.4998\n",
            "Epoch 396/400\n",
            "174/174 [==============================] - 0s 2ms/step - loss: 109.0094 - mae: 6.4105 - val_loss: 99.0012 - val_mae: 6.2367\n",
            "Epoch 397/400\n",
            "174/174 [==============================] - 0s 2ms/step - loss: 104.0488 - mae: 6.0947 - val_loss: 94.4739 - val_mae: 5.7329\n",
            "Epoch 398/400\n",
            "174/174 [==============================] - 0s 2ms/step - loss: 104.9936 - mae: 6.2069 - val_loss: 95.8205 - val_mae: 5.8160\n",
            "Epoch 399/400\n",
            "174/174 [==============================] - 0s 3ms/step - loss: 114.4597 - mae: 6.8899 - val_loss: 95.4474 - val_mae: 5.7266\n",
            "Epoch 400/400\n",
            "174/174 [==============================] - 0s 2ms/step - loss: 104.1048 - mae: 6.2187 - val_loss: 102.7441 - val_mae: 6.5533\n"
          ]
        }
      ]
    },
    {
      "cell_type": "markdown",
      "source": [
        "### **MSE, MAE, & R2**"
      ],
      "metadata": {
        "id": "i1XKGNhYA0tp"
      }
    },
    {
      "cell_type": "code",
      "source": [
        "y_pred = regressor_res.predict(X_test)\n",
        "\n",
        "mse = mean_squared_error(y_test, y_pred)\n",
        "\n",
        "mae = mean_absolute_error(y_test, y_pred)\n",
        "\n",
        "r2 = r2_score(y_test, y_pred)\n",
        "\n",
        "print(f\"MSE: {mse:.2f}\")\n",
        "print(f\"MAE: {mae:.2f}\")\n",
        "print(f\"R-squared (R^2): {r2:.2f}\")"
      ],
      "metadata": {
        "colab": {
          "base_uri": "https://localhost:8080/"
        },
        "id": "ifJUrKU_-evL",
        "outputId": "0f6a3959-99d0-4669-873c-514d328f39b1"
      },
      "execution_count": null,
      "outputs": [
        {
          "output_type": "stream",
          "name": "stdout",
          "text": [
            "68/68 [==============================] - 0s 2ms/step\n",
            "MSE: 101.62\n",
            "MAE: 6.53\n",
            "R-squared (R^2): 1.00\n"
          ]
        }
      ]
    },
    {
      "cell_type": "code",
      "source": [
        "mae = regressor_history.history['mae']\n",
        "val_mae = regressor_history.history['val_mae']\n",
        "epochs = range(1,len(mae)+1)\n",
        "\n",
        "plt.title('Mean Absolute Error')\n",
        "plt.plot(epochs,mae,label='Train')\n",
        "plt.plot(epochs,val_mae,color='red',label='Validation')\n",
        "plt.xlabel('Epochs')\n",
        "plt.ylabel('MAE')\n",
        "plt.legend()\n",
        "plt.show()"
      ],
      "metadata": {
        "id": "DHSYyIDiUm-g",
        "colab": {
          "base_uri": "https://localhost:8080/",
          "height": 472
        },
        "outputId": "fd89cdcc-cba5-4374-e209-817e1e71850d"
      },
      "execution_count": null,
      "outputs": [
        {
          "output_type": "display_data",
          "data": {
            "text/plain": [
              "<Figure size 640x480 with 1 Axes>"
            ],
            "image/png": "[encoded data removed]"
          },
          "metadata": {}
        }
      ]
    },
    {
      "cell_type": "code",
      "source": [
        "loss_function = regressor_history.history['loss']\n",
        "val_loss_function = regressor_history.history['val_loss']\n",
        "epochs = range(1,len(loss_function)+1)\n",
        "\n",
        "plt.title('Loss')\n",
        "plt.plot(epochs,loss_function,label='Train')\n",
        "plt.plot(epochs,val_loss_function,color='red',label='Validation')\n",
        "plt.xlabel('Epochs')\n",
        "plt.ylabel('Loss function')\n",
        "plt.legend()\n",
        "plt.show()"
      ],
      "metadata": {
        "id": "TSk5yvbiUfKY",
        "colab": {
          "base_uri": "https://localhost:8080/",
          "height": 472
        },
        "outputId": "42d5140f-d515-4ed1-b90f-31fe5136f598"
      },
      "execution_count": null,
      "outputs": [
        {
          "output_type": "display_data",
          "data": {
            "text/plain": [
              "<Figure size 640x480 with 1 Axes>"
            ],
            "image/png": "[encoded data removed]"
          },
          "metadata": {}
        }
      ]
    }
  ]
}